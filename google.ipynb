{
 "cells": [
  {
   "cell_type": "code",
   "execution_count": 1,
   "metadata": {
    "collapsed": false
   },
   "outputs": [
    {
     "data": {
      "text/html": [
       "<iframe src=\"//www.youtube.com/embed/x06_sD-NbT8\" width=\"280\" height=\"157\" frameborder=\"0\" allowfullscreen></iframe><iframe src=\"//www.youtube.com/embed/v7BqrbxYq_4\" width=\"280\" height=\"157\" frameborder=\"0\" allowfullscreen></iframe><iframe src=\"//www.youtube.com/embed/oq20w95OlSY\" width=\"280\" height=\"157\" frameborder=\"0\" allowfullscreen></iframe><iframe src=\"//www.youtube.com/embed/eAWTf5jSZYQ\" width=\"280\" height=\"157\" frameborder=\"0\" allowfullscreen></iframe><iframe src=\"//www.youtube.com/embed/mhxbwCy-xGA\" width=\"280\" height=\"157\" frameborder=\"0\" allowfullscreen></iframe><iframe src=\"//www.youtube.com/embed/nStJ8NMy0SI\" width=\"280\" height=\"157\" frameborder=\"0\" allowfullscreen></iframe><iframe src=\"//www.youtube.com/embed/FFhf_sI8c1I\" width=\"280\" height=\"157\" frameborder=\"0\" allowfullscreen></iframe><iframe src=\"//www.youtube.com/embed/VlEUMvdaLMA\" width=\"280\" height=\"157\" frameborder=\"0\" allowfullscreen></iframe><iframe src=\"//www.youtube.com/embed/8_RThsNdKiY\" width=\"280\" height=\"157\" frameborder=\"0\" allowfullscreen></iframe><iframe src=\"//www.youtube.com/embed/4ame0qd4how\" width=\"280\" height=\"157\" frameborder=\"0\" allowfullscreen></iframe>"
      ],
      "text/plain": [
       "<IPython.core.display.HTML object>"
      ]
     },
     "execution_count": 1,
     "metadata": {},
     "output_type": "execute_result"
    }
   ],
   "source": [
    "from google import search\n",
    "from IPython.core.display import HTML\n",
    "\n",
    "html = \"\"\n",
    "for url in search(\"猫\", num=10, stop=10, tpe=\"vid\"):\n",
    "    id = url.split(\"?v=\")[1]\n",
    "    html += '<iframe src=\"//www.youtube.com/embed/{}\" width=\"280\" height=\"157\" frameborder=\"0\" allowfullscreen></iframe>'.format(id)\n",
    "HTML(html)"
   ]
  },
  {
   "cell_type": "code",
   "execution_count": null,
   "metadata": {
    "collapsed": true
   },
   "outputs": [],
   "source": []
  }
 ],
 "metadata": {
  "anaconda-cloud": {},
  "kernelspec": {
   "display_name": "Python [default]",
   "language": "python",
   "name": "python2"
  },
  "language_info": {
   "codemirror_mode": {
    "name": "ipython",
    "version": 2
   },
   "file_extension": ".py",
   "mimetype": "text/x-python",
   "name": "python",
   "nbconvert_exporter": "python",
   "pygments_lexer": "ipython2",
   "version": "2.7.12"
  }
 },
 "nbformat": 4,
 "nbformat_minor": 1
}
