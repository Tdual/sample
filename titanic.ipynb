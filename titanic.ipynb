{
 "cells": [
  {
   "cell_type": "code",
   "execution_count": 1,
   "metadata": {},
   "outputs": [],
   "source": [
    "import numpy as np\n",
    "import pandas as pd\n",
    "import matplotlib.pyplot as plt\n",
    "from pathlib import Path\n",
    "%matplotlib inline"
   ]
  },
  {
   "cell_type": "code",
   "execution_count": 2,
   "metadata": {},
   "outputs": [],
   "source": [
    "dir_path = Path(\"../MatrixFlow用データセット/タイタニック/\")"
   ]
  },
  {
   "cell_type": "code",
   "execution_count": 3,
   "metadata": {},
   "outputs": [],
   "source": [
    "train_df = pd.read_csv(dir_path /\"train.csv\")"
   ]
  },
  {
   "cell_type": "code",
   "execution_count": 4,
   "metadata": {},
   "outputs": [
    {
     "data": {
      "text/html": [
       "<div>\n",
       "<style scoped>\n",
       "    .dataframe tbody tr th:only-of-type {\n",
       "        vertical-align: middle;\n",
       "    }\n",
       "\n",
       "    .dataframe tbody tr th {\n",
       "        vertical-align: top;\n",
       "    }\n",
       "\n",
       "    .dataframe thead th {\n",
       "        text-align: right;\n",
       "    }\n",
       "</style>\n",
       "<table border=\"1\" class=\"dataframe\">\n",
       "  <thead>\n",
       "    <tr style=\"text-align: right;\">\n",
       "      <th></th>\n",
       "      <th>PassengerId</th>\n",
       "      <th>Survived</th>\n",
       "      <th>Pclass</th>\n",
       "      <th>Name</th>\n",
       "      <th>Sex</th>\n",
       "      <th>Age</th>\n",
       "      <th>SibSp</th>\n",
       "      <th>Parch</th>\n",
       "      <th>Ticket</th>\n",
       "      <th>Fare</th>\n",
       "      <th>Cabin</th>\n",
       "      <th>Embarked</th>\n",
       "    </tr>\n",
       "  </thead>\n",
       "  <tbody>\n",
       "    <tr>\n",
       "      <th>0</th>\n",
       "      <td>1</td>\n",
       "      <td>0</td>\n",
       "      <td>3</td>\n",
       "      <td>Braund, Mr. Owen Harris</td>\n",
       "      <td>male</td>\n",
       "      <td>22.0</td>\n",
       "      <td>1</td>\n",
       "      <td>0</td>\n",
       "      <td>A/5 21171</td>\n",
       "      <td>7.2500</td>\n",
       "      <td>NaN</td>\n",
       "      <td>S</td>\n",
       "    </tr>\n",
       "    <tr>\n",
       "      <th>1</th>\n",
       "      <td>2</td>\n",
       "      <td>1</td>\n",
       "      <td>1</td>\n",
       "      <td>Cumings, Mrs. John Bradley (Florence Briggs Th...</td>\n",
       "      <td>female</td>\n",
       "      <td>38.0</td>\n",
       "      <td>1</td>\n",
       "      <td>0</td>\n",
       "      <td>PC 17599</td>\n",
       "      <td>71.2833</td>\n",
       "      <td>C85</td>\n",
       "      <td>C</td>\n",
       "    </tr>\n",
       "    <tr>\n",
       "      <th>2</th>\n",
       "      <td>3</td>\n",
       "      <td>1</td>\n",
       "      <td>3</td>\n",
       "      <td>Heikkinen, Miss. Laina</td>\n",
       "      <td>female</td>\n",
       "      <td>26.0</td>\n",
       "      <td>0</td>\n",
       "      <td>0</td>\n",
       "      <td>STON/O2. 3101282</td>\n",
       "      <td>7.9250</td>\n",
       "      <td>NaN</td>\n",
       "      <td>S</td>\n",
       "    </tr>\n",
       "    <tr>\n",
       "      <th>3</th>\n",
       "      <td>4</td>\n",
       "      <td>1</td>\n",
       "      <td>1</td>\n",
       "      <td>Futrelle, Mrs. Jacques Heath (Lily May Peel)</td>\n",
       "      <td>female</td>\n",
       "      <td>35.0</td>\n",
       "      <td>1</td>\n",
       "      <td>0</td>\n",
       "      <td>113803</td>\n",
       "      <td>53.1000</td>\n",
       "      <td>C123</td>\n",
       "      <td>S</td>\n",
       "    </tr>\n",
       "    <tr>\n",
       "      <th>4</th>\n",
       "      <td>5</td>\n",
       "      <td>0</td>\n",
       "      <td>3</td>\n",
       "      <td>Allen, Mr. William Henry</td>\n",
       "      <td>male</td>\n",
       "      <td>35.0</td>\n",
       "      <td>0</td>\n",
       "      <td>0</td>\n",
       "      <td>373450</td>\n",
       "      <td>8.0500</td>\n",
       "      <td>NaN</td>\n",
       "      <td>S</td>\n",
       "    </tr>\n",
       "  </tbody>\n",
       "</table>\n",
       "</div>"
      ],
      "text/plain": [
       "   PassengerId  Survived  Pclass  \\\n",
       "0            1         0       3   \n",
       "1            2         1       1   \n",
       "2            3         1       3   \n",
       "3            4         1       1   \n",
       "4            5         0       3   \n",
       "\n",
       "                                                Name     Sex   Age  SibSp  \\\n",
       "0                            Braund, Mr. Owen Harris    male  22.0      1   \n",
       "1  Cumings, Mrs. John Bradley (Florence Briggs Th...  female  38.0      1   \n",
       "2                             Heikkinen, Miss. Laina  female  26.0      0   \n",
       "3       Futrelle, Mrs. Jacques Heath (Lily May Peel)  female  35.0      1   \n",
       "4                           Allen, Mr. William Henry    male  35.0      0   \n",
       "\n",
       "   Parch            Ticket     Fare Cabin Embarked  \n",
       "0      0         A/5 21171   7.2500   NaN        S  \n",
       "1      0          PC 17599  71.2833   C85        C  \n",
       "2      0  STON/O2. 3101282   7.9250   NaN        S  \n",
       "3      0            113803  53.1000  C123        S  \n",
       "4      0            373450   8.0500   NaN        S  "
      ]
     },
     "execution_count": 4,
     "metadata": {},
     "output_type": "execute_result"
    }
   ],
   "source": [
    "train_df.head()"
   ]
  },
  {
   "cell_type": "code",
   "execution_count": 5,
   "metadata": {},
   "outputs": [
    {
     "data": {
      "text/html": [
       "<div>\n",
       "<style scoped>\n",
       "    .dataframe tbody tr th:only-of-type {\n",
       "        vertical-align: middle;\n",
       "    }\n",
       "\n",
       "    .dataframe tbody tr th {\n",
       "        vertical-align: top;\n",
       "    }\n",
       "\n",
       "    .dataframe thead th {\n",
       "        text-align: right;\n",
       "    }\n",
       "</style>\n",
       "<table border=\"1\" class=\"dataframe\">\n",
       "  <thead>\n",
       "    <tr style=\"text-align: right;\">\n",
       "      <th></th>\n",
       "      <th>PassengerId</th>\n",
       "      <th>Survived</th>\n",
       "      <th>Pclass</th>\n",
       "      <th>Age</th>\n",
       "      <th>SibSp</th>\n",
       "      <th>Parch</th>\n",
       "      <th>Fare</th>\n",
       "    </tr>\n",
       "  </thead>\n",
       "  <tbody>\n",
       "    <tr>\n",
       "      <th>count</th>\n",
       "      <td>891.000000</td>\n",
       "      <td>891.000000</td>\n",
       "      <td>891.000000</td>\n",
       "      <td>714.000000</td>\n",
       "      <td>891.000000</td>\n",
       "      <td>891.000000</td>\n",
       "      <td>891.000000</td>\n",
       "    </tr>\n",
       "    <tr>\n",
       "      <th>mean</th>\n",
       "      <td>446.000000</td>\n",
       "      <td>0.383838</td>\n",
       "      <td>2.308642</td>\n",
       "      <td>29.699118</td>\n",
       "      <td>0.523008</td>\n",
       "      <td>0.381594</td>\n",
       "      <td>32.204208</td>\n",
       "    </tr>\n",
       "    <tr>\n",
       "      <th>std</th>\n",
       "      <td>257.353842</td>\n",
       "      <td>0.486592</td>\n",
       "      <td>0.836071</td>\n",
       "      <td>14.526497</td>\n",
       "      <td>1.102743</td>\n",
       "      <td>0.806057</td>\n",
       "      <td>49.693429</td>\n",
       "    </tr>\n",
       "    <tr>\n",
       "      <th>min</th>\n",
       "      <td>1.000000</td>\n",
       "      <td>0.000000</td>\n",
       "      <td>1.000000</td>\n",
       "      <td>0.420000</td>\n",
       "      <td>0.000000</td>\n",
       "      <td>0.000000</td>\n",
       "      <td>0.000000</td>\n",
       "    </tr>\n",
       "    <tr>\n",
       "      <th>25%</th>\n",
       "      <td>223.500000</td>\n",
       "      <td>0.000000</td>\n",
       "      <td>2.000000</td>\n",
       "      <td>20.125000</td>\n",
       "      <td>0.000000</td>\n",
       "      <td>0.000000</td>\n",
       "      <td>7.910400</td>\n",
       "    </tr>\n",
       "    <tr>\n",
       "      <th>50%</th>\n",
       "      <td>446.000000</td>\n",
       "      <td>0.000000</td>\n",
       "      <td>3.000000</td>\n",
       "      <td>28.000000</td>\n",
       "      <td>0.000000</td>\n",
       "      <td>0.000000</td>\n",
       "      <td>14.454200</td>\n",
       "    </tr>\n",
       "    <tr>\n",
       "      <th>75%</th>\n",
       "      <td>668.500000</td>\n",
       "      <td>1.000000</td>\n",
       "      <td>3.000000</td>\n",
       "      <td>38.000000</td>\n",
       "      <td>1.000000</td>\n",
       "      <td>0.000000</td>\n",
       "      <td>31.000000</td>\n",
       "    </tr>\n",
       "    <tr>\n",
       "      <th>max</th>\n",
       "      <td>891.000000</td>\n",
       "      <td>1.000000</td>\n",
       "      <td>3.000000</td>\n",
       "      <td>80.000000</td>\n",
       "      <td>8.000000</td>\n",
       "      <td>6.000000</td>\n",
       "      <td>512.329200</td>\n",
       "    </tr>\n",
       "  </tbody>\n",
       "</table>\n",
       "</div>"
      ],
      "text/plain": [
       "       PassengerId    Survived      Pclass         Age       SibSp  \\\n",
       "count   891.000000  891.000000  891.000000  714.000000  891.000000   \n",
       "mean    446.000000    0.383838    2.308642   29.699118    0.523008   \n",
       "std     257.353842    0.486592    0.836071   14.526497    1.102743   \n",
       "min       1.000000    0.000000    1.000000    0.420000    0.000000   \n",
       "25%     223.500000    0.000000    2.000000   20.125000    0.000000   \n",
       "50%     446.000000    0.000000    3.000000   28.000000    0.000000   \n",
       "75%     668.500000    1.000000    3.000000   38.000000    1.000000   \n",
       "max     891.000000    1.000000    3.000000   80.000000    8.000000   \n",
       "\n",
       "            Parch        Fare  \n",
       "count  891.000000  891.000000  \n",
       "mean     0.381594   32.204208  \n",
       "std      0.806057   49.693429  \n",
       "min      0.000000    0.000000  \n",
       "25%      0.000000    7.910400  \n",
       "50%      0.000000   14.454200  \n",
       "75%      0.000000   31.000000  \n",
       "max      6.000000  512.329200  "
      ]
     },
     "execution_count": 5,
     "metadata": {},
     "output_type": "execute_result"
    }
   ],
   "source": [
    "train_df.describe()"
   ]
  },
  {
   "cell_type": "code",
   "execution_count": 6,
   "metadata": {},
   "outputs": [
    {
     "data": {
      "text/plain": [
       "891"
      ]
     },
     "execution_count": 6,
     "metadata": {},
     "output_type": "execute_result"
    }
   ],
   "source": [
    "total = len(train_df.index)\n",
    "total"
   ]
  },
  {
   "cell_type": "code",
   "execution_count": 7,
   "metadata": {},
   "outputs": [
    {
     "data": {
      "text/plain": [
       "681"
      ]
     },
     "execution_count": 7,
     "metadata": {},
     "output_type": "execute_result"
    }
   ],
   "source": [
    "len(train_df[\"Ticket\"].value_counts())"
   ]
  },
  {
   "cell_type": "code",
   "execution_count": 8,
   "metadata": {},
   "outputs": [
    {
     "data": {
      "text/plain": [
       "891"
      ]
     },
     "execution_count": 8,
     "metadata": {},
     "output_type": "execute_result"
    }
   ],
   "source": [
    "len(train_df[\"PassengerId\"].value_counts())"
   ]
  },
  {
   "cell_type": "code",
   "execution_count": 9,
   "metadata": {},
   "outputs": [
    {
     "data": {
      "text/plain": [
       "{'male': 577, 'female': 314}"
      ]
     },
     "execution_count": 9,
     "metadata": {},
     "output_type": "execute_result"
    }
   ],
   "source": [
    "train_df[\"Sex\"].value_counts().to_dict()"
   ]
  },
  {
   "cell_type": "code",
   "execution_count": 10,
   "metadata": {},
   "outputs": [
    {
     "data": {
      "text/plain": [
       "['PassengerId',\n",
       " 'Survived',\n",
       " 'Pclass',\n",
       " 'Name',\n",
       " 'Sex',\n",
       " 'Age',\n",
       " 'SibSp',\n",
       " 'Parch',\n",
       " 'Ticket',\n",
       " 'Fare',\n",
       " 'Cabin',\n",
       " 'Embarked']"
      ]
     },
     "execution_count": 10,
     "metadata": {},
     "output_type": "execute_result"
    }
   ],
   "source": [
    "train_df.columns.tolist()"
   ]
  },
  {
   "cell_type": "code",
   "execution_count": 11,
   "metadata": {},
   "outputs": [
    {
     "name": "stdout",
     "output_type": "stream",
     "text": [
      "PassengerId\n",
      "PassengerId is unique.\n",
      "Survived\n"
     ]
    },
    {
     "data": {
      "image/png": "[encoded data removed]",
      "text/plain": [
       "<Figure size 432x288 with 1 Axes>"
      ]
     },
     "metadata": {
      "needs_background": "light"
     },
     "output_type": "display_data"
    },
    {
     "name": "stdout",
     "output_type": "stream",
     "text": [
      "Pclass\n"
     ]
    },
    {
     "data": {
      "image/png": "[encoded data removed]",
      "text/plain": [
       "<Figure size 432x288 with 1 Axes>"
      ]
     },
     "metadata": {
      "needs_background": "light"
     },
     "output_type": "display_data"
    },
    {
     "name": "stdout",
     "output_type": "stream",
     "text": [
      "Name\n",
      "Name is unique.\n",
      "Sex\n"
     ]
    },
    {
     "data": {
      "image/png": "[encoded data removed]",
      "text/plain": [
       "<Figure size 432x288 with 1 Axes>"
      ]
     },
     "metadata": {
      "needs_background": "light"
     },
     "output_type": "display_data"
    },
    {
     "name": "stdout",
     "output_type": "stream",
     "text": [
      "Age\n"
     ]
    },
    {
     "data": {
      "image/png": "[encoded data removed]",
      "text/plain": [
       "<Figure size 432x288 with 1 Axes>"
      ]
     },
     "metadata": {
      "needs_background": "light"
     },
     "output_type": "display_data"
    },
    {
     "name": "stdout",
     "output_type": "stream",
     "text": [
      "SibSp\n"
     ]
    },
    {
     "data": {
      "image/png": "[encoded data removed]",
      "text/plain": [
       "<Figure size 432x288 with 1 Axes>"
      ]
     },
     "metadata": {
      "needs_background": "light"
     },
     "output_type": "display_data"
    },
    {
     "name": "stdout",
     "output_type": "stream",
     "text": [
      "Parch\n"
     ]
    },
    {
     "data": {
      "image/png": "[encoded data removed]",
      "text/plain": [
       "<Figure size 432x288 with 1 Axes>"
      ]
     },
     "metadata": {
      "needs_background": "light"
     },
     "output_type": "display_data"
    },
    {
     "name": "stdout",
     "output_type": "stream",
     "text": [
      "Ticket\n"
     ]
    },
    {
     "data": {
      "image/png": "[encoded data removed]",
      "text/plain": [
       "<Figure size 432x288 with 1 Axes>"
      ]
     },
     "metadata": {
      "needs_background": "light"
     },
     "output_type": "display_data"
    },
    {
     "name": "stdout",
     "output_type": "stream",
     "text": [
      "Fare\n"
     ]
    },
    {
     "data": {
      "image/png": "[encoded data removed]",
      "text/plain": [
       "<Figure size 432x288 with 1 Axes>"
      ]
     },
     "metadata": {
      "needs_background": "light"
     },
     "output_type": "display_data"
    },
    {
     "name": "stdout",
     "output_type": "stream",
     "text": [
      "Cabin\n"
     ]
    },
    {
     "data": {
      "image/png": "[encoded data removed]",
      "text/plain": [
       "<Figure size 432x288 with 1 Axes>"
      ]
     },
     "metadata": {
      "needs_background": "light"
     },
     "output_type": "display_data"
    },
    {
     "name": "stdout",
     "output_type": "stream",
     "text": [
      "Embarked\n"
     ]
    },
    {
     "data": {
      "image/png": "[encoded data removed]",
      "text/plain": [
       "<Figure size 432x288 with 1 Axes>"
      ]
     },
     "metadata": {
      "needs_background": "light"
     },
     "output_type": "display_data"
    }
   ],
   "source": [
    "for f in train_df.columns.tolist():\n",
    "    count = train_df[f].value_counts()\n",
    "    print(f)\n",
    "    if not len(count) == total:\n",
    "        count.plot(kind='bar')\n",
    "        plt.show()\n",
    "    else:\n",
    "        print(\"{} is unique.\".format(f))"
   ]
  },
  {
   "cell_type": "code",
   "execution_count": 12,
   "metadata": {},
   "outputs": [
    {
     "data": {
      "text/html": [
       "<div>\n",
       "<style scoped>\n",
       "    .dataframe tbody tr th:only-of-type {\n",
       "        vertical-align: middle;\n",
       "    }\n",
       "\n",
       "    .dataframe tbody tr th {\n",
       "        vertical-align: top;\n",
       "    }\n",
       "\n",
       "    .dataframe thead th {\n",
       "        text-align: right;\n",
       "    }\n",
       "</style>\n",
       "<table border=\"1\" class=\"dataframe\">\n",
       "  <thead>\n",
       "    <tr style=\"text-align: right;\">\n",
       "      <th></th>\n",
       "      <th>PassengerId</th>\n",
       "      <th>Survived</th>\n",
       "      <th>Pclass</th>\n",
       "      <th>Name</th>\n",
       "      <th>Sex</th>\n",
       "      <th>Age</th>\n",
       "      <th>SibSp</th>\n",
       "      <th>Parch</th>\n",
       "      <th>Ticket</th>\n",
       "      <th>Fare</th>\n",
       "      <th>Cabin</th>\n",
       "      <th>Embarked</th>\n",
       "    </tr>\n",
       "  </thead>\n",
       "  <tbody>\n",
       "    <tr>\n",
       "      <th>0</th>\n",
       "      <td>1</td>\n",
       "      <td>0</td>\n",
       "      <td>3</td>\n",
       "      <td>Braund, Mr. Owen Harris</td>\n",
       "      <td>0</td>\n",
       "      <td>22.0</td>\n",
       "      <td>1</td>\n",
       "      <td>0</td>\n",
       "      <td>A/5 21171</td>\n",
       "      <td>7.2500</td>\n",
       "      <td>NaN</td>\n",
       "      <td>S</td>\n",
       "    </tr>\n",
       "    <tr>\n",
       "      <th>1</th>\n",
       "      <td>2</td>\n",
       "      <td>1</td>\n",
       "      <td>1</td>\n",
       "      <td>Cumings, Mrs. John Bradley (Florence Briggs Th...</td>\n",
       "      <td>1</td>\n",
       "      <td>38.0</td>\n",
       "      <td>1</td>\n",
       "      <td>0</td>\n",
       "      <td>PC 17599</td>\n",
       "      <td>71.2833</td>\n",
       "      <td>C85</td>\n",
       "      <td>C</td>\n",
       "    </tr>\n",
       "    <tr>\n",
       "      <th>2</th>\n",
       "      <td>3</td>\n",
       "      <td>1</td>\n",
       "      <td>3</td>\n",
       "      <td>Heikkinen, Miss. Laina</td>\n",
       "      <td>1</td>\n",
       "      <td>26.0</td>\n",
       "      <td>0</td>\n",
       "      <td>0</td>\n",
       "      <td>STON/O2. 3101282</td>\n",
       "      <td>7.9250</td>\n",
       "      <td>NaN</td>\n",
       "      <td>S</td>\n",
       "    </tr>\n",
       "    <tr>\n",
       "      <th>3</th>\n",
       "      <td>4</td>\n",
       "      <td>1</td>\n",
       "      <td>1</td>\n",
       "      <td>Futrelle, Mrs. Jacques Heath (Lily May Peel)</td>\n",
       "      <td>1</td>\n",
       "      <td>35.0</td>\n",
       "      <td>1</td>\n",
       "      <td>0</td>\n",
       "      <td>113803</td>\n",
       "      <td>53.1000</td>\n",
       "      <td>C123</td>\n",
       "      <td>S</td>\n",
       "    </tr>\n",
       "    <tr>\n",
       "      <th>4</th>\n",
       "      <td>5</td>\n",
       "      <td>0</td>\n",
       "      <td>3</td>\n",
       "      <td>Allen, Mr. William Henry</td>\n",
       "      <td>0</td>\n",
       "      <td>35.0</td>\n",
       "      <td>0</td>\n",
       "      <td>0</td>\n",
       "      <td>373450</td>\n",
       "      <td>8.0500</td>\n",
       "      <td>NaN</td>\n",
       "      <td>S</td>\n",
       "    </tr>\n",
       "  </tbody>\n",
       "</table>\n",
       "</div>"
      ],
      "text/plain": [
       "   PassengerId  Survived  Pclass  \\\n",
       "0            1         0       3   \n",
       "1            2         1       1   \n",
       "2            3         1       3   \n",
       "3            4         1       1   \n",
       "4            5         0       3   \n",
       "\n",
       "                                                Name  Sex   Age  SibSp  Parch  \\\n",
       "0                            Braund, Mr. Owen Harris    0  22.0      1      0   \n",
       "1  Cumings, Mrs. John Bradley (Florence Briggs Th...    1  38.0      1      0   \n",
       "2                             Heikkinen, Miss. Laina    1  26.0      0      0   \n",
       "3       Futrelle, Mrs. Jacques Heath (Lily May Peel)    1  35.0      1      0   \n",
       "4                           Allen, Mr. William Henry    0  35.0      0      0   \n",
       "\n",
       "             Ticket     Fare Cabin Embarked  \n",
       "0         A/5 21171   7.2500   NaN        S  \n",
       "1          PC 17599  71.2833   C85        C  \n",
       "2  STON/O2. 3101282   7.9250   NaN        S  \n",
       "3            113803  53.1000  C123        S  \n",
       "4            373450   8.0500   NaN        S  "
      ]
     },
     "execution_count": 12,
     "metadata": {},
     "output_type": "execute_result"
    }
   ],
   "source": [
    "df= train_df.replace(\"male\",0).replace(\"female\",1)\n",
    "df.head()"
   ]
  },
  {
   "cell_type": "code",
   "execution_count": 13,
   "metadata": {},
   "outputs": [],
   "source": [
    "#df[\"Age\"].fillna(df.Age.median(), inplace=True)"
   ]
  },
  {
   "cell_type": "code",
   "execution_count": null,
   "metadata": {},
   "outputs": [],
   "source": []
  },
  {
   "cell_type": "code",
   "execution_count": 14,
   "metadata": {},
   "outputs": [
    {
     "data": {
      "image/png": "[encoded data removed]",
      "text/plain": [
       "<Figure size 432x288 with 1 Axes>"
      ]
     },
     "metadata": {
      "needs_background": "light"
     },
     "output_type": "display_data"
    }
   ],
   "source": [
    "split_data = []\n",
    "for survived in [0,1]:\n",
    "    split_data.append(df[df.Survived==survived])\n",
    "\n",
    "temp = [i[\"Pclass\"].dropna() for i in split_data]\n",
    "plt.hist(temp, histtype=\"barstacked\")\n",
    "plt.legend([\"perished\", \"survived\"])\n",
    "plt.xticks([1,2,3])\n",
    "plt.show()"
   ]
  },
  {
   "cell_type": "code",
   "execution_count": 15,
   "metadata": {},
   "outputs": [
    {
     "data": {
      "image/png": "[encoded data removed]",
      "text/plain": [
       "<Figure size 432x288 with 1 Axes>"
      ]
     },
     "metadata": {
      "needs_background": "light"
     },
     "output_type": "display_data"
    }
   ],
   "source": [
    "df[\"Sex\"].value_counts().plot(kind='bar')\n",
    "plt.xticks([0, 1], ['male', 'female'])\n",
    "plt.show()"
   ]
  },
  {
   "cell_type": "code",
   "execution_count": 16,
   "metadata": {},
   "outputs": [
    {
     "data": {
      "image/png": "[encoded data removed]",
      "text/plain": [
       "<Figure size 432x288 with 1 Axes>"
      ]
     },
     "metadata": {
      "needs_background": "light"
     },
     "output_type": "display_data"
    }
   ],
   "source": [
    "df[\"Pclass\"].value_counts().plot(kind='bar')\n",
    "#plt.xticks([0, 1], ['male', 'female'])\n",
    "plt.show()"
   ]
  },
  {
   "cell_type": "code",
   "execution_count": 17,
   "metadata": {},
   "outputs": [
    {
     "data": {
      "text/plain": [
       "3    491\n",
       "1    216\n",
       "2    184\n",
       "Name: Pclass, dtype: int64"
      ]
     },
     "execution_count": 17,
     "metadata": {},
     "output_type": "execute_result"
    }
   ],
   "source": [
    "df[\"Pclass\"].value_counts()"
   ]
  },
  {
   "cell_type": "code",
   "execution_count": 18,
   "metadata": {},
   "outputs": [
    {
     "data": {
      "image/png": "[encoded data removed]",
      "text/plain": [
       "<Figure size 432x288 with 1 Axes>"
      ]
     },
     "metadata": {
      "needs_background": "light"
     },
     "output_type": "display_data"
    }
   ],
   "source": [
    "splitAsSex = [] \n",
    "\n",
    "for i in [0, 1]: # 0:male, 1:female\n",
    "    splitAsSex.append(df[df.Sex == i])\n",
    "\n",
    "tmp = [i[\"Age\"].dropna() for i in splitAsSex]\n",
    "\n",
    "plt.xlabel(\"Age\")\n",
    "plt.hist(tmp, histtype=\"barstacked\", bins=10, rwidth=0.5, color=['skyblue','pink'], label=['male','female'])\n",
    "plt.legend() \n",
    "plt.show()"
   ]
  },
  {
   "cell_type": "code",
   "execution_count": 19,
   "metadata": {},
   "outputs": [
    {
     "data": {
      "text/html": [
       "<div>\n",
       "<style scoped>\n",
       "    .dataframe tbody tr th:only-of-type {\n",
       "        vertical-align: middle;\n",
       "    }\n",
       "\n",
       "    .dataframe tbody tr th {\n",
       "        vertical-align: top;\n",
       "    }\n",
       "\n",
       "    .dataframe thead th {\n",
       "        text-align: right;\n",
       "    }\n",
       "</style>\n",
       "<table border=\"1\" class=\"dataframe\">\n",
       "  <thead>\n",
       "    <tr style=\"text-align: right;\">\n",
       "      <th></th>\n",
       "      <th>PassengerId</th>\n",
       "      <th>Survived</th>\n",
       "      <th>Pclass</th>\n",
       "      <th>Sex</th>\n",
       "      <th>Age</th>\n",
       "      <th>FamilySize</th>\n",
       "    </tr>\n",
       "  </thead>\n",
       "  <tbody>\n",
       "    <tr>\n",
       "      <th>0</th>\n",
       "      <td>1</td>\n",
       "      <td>0</td>\n",
       "      <td>3</td>\n",
       "      <td>0</td>\n",
       "      <td>22.0</td>\n",
       "      <td>2</td>\n",
       "    </tr>\n",
       "    <tr>\n",
       "      <th>1</th>\n",
       "      <td>2</td>\n",
       "      <td>1</td>\n",
       "      <td>1</td>\n",
       "      <td>1</td>\n",
       "      <td>38.0</td>\n",
       "      <td>2</td>\n",
       "    </tr>\n",
       "    <tr>\n",
       "      <th>2</th>\n",
       "      <td>3</td>\n",
       "      <td>1</td>\n",
       "      <td>3</td>\n",
       "      <td>1</td>\n",
       "      <td>26.0</td>\n",
       "      <td>1</td>\n",
       "    </tr>\n",
       "    <tr>\n",
       "      <th>3</th>\n",
       "      <td>4</td>\n",
       "      <td>1</td>\n",
       "      <td>1</td>\n",
       "      <td>1</td>\n",
       "      <td>35.0</td>\n",
       "      <td>2</td>\n",
       "    </tr>\n",
       "    <tr>\n",
       "      <th>4</th>\n",
       "      <td>5</td>\n",
       "      <td>0</td>\n",
       "      <td>3</td>\n",
       "      <td>0</td>\n",
       "      <td>35.0</td>\n",
       "      <td>1</td>\n",
       "    </tr>\n",
       "  </tbody>\n",
       "</table>\n",
       "</div>"
      ],
      "text/plain": [
       "   PassengerId  Survived  Pclass  Sex   Age  FamilySize\n",
       "0            1         0       3    0  22.0           2\n",
       "1            2         1       1    1  38.0           2\n",
       "2            3         1       3    1  26.0           1\n",
       "3            4         1       1    1  35.0           2\n",
       "4            5         0       3    0  35.0           1"
      ]
     },
     "execution_count": 19,
     "metadata": {},
     "output_type": "execute_result"
    }
   ],
   "source": [
    "df[\"FamilySize\"] = df[\"SibSp\"] + df[\"Parch\"] + 1\n",
    "df2 = df.drop([\"Name\", \"SibSp\", \"Parch\", \"Ticket\", \"Fare\", \"Cabin\", \"Embarked\"], axis=1)\n",
    "df2.head()"
   ]
  },
  {
   "cell_type": "code",
   "execution_count": 20,
   "metadata": {},
   "outputs": [],
   "source": [
    "df2[\"Age\"].fillna(df.Age.median(), inplace=True)"
   ]
  },
  {
   "cell_type": "code",
   "execution_count": 21,
   "metadata": {},
   "outputs": [],
   "source": [
    "train_data = df2.values\n",
    "xs = train_data[:, 2:]  #remove PassengerId and Surviced\n",
    "y  = train_data[:, 1]    # Surviced"
   ]
  },
  {
   "cell_type": "markdown",
   "metadata": {},
   "source": [
    "### RandomForest + GridSearchCV"
   ]
  },
  {
   "cell_type": "code",
   "execution_count": 22,
   "metadata": {},
   "outputs": [],
   "source": [
    "from sklearn.ensemble import RandomForestClassifier\n",
    "forest = RandomForestClassifier(n_estimators = 100)"
   ]
  },
  {
   "cell_type": "code",
   "execution_count": 23,
   "metadata": {},
   "outputs": [],
   "source": [
    "forest = forest.fit(xs, y)"
   ]
  },
  {
   "cell_type": "code",
   "execution_count": 24,
   "metadata": {},
   "outputs": [],
   "source": [
    "from sklearn.model_selection import GridSearchCV\n",
    "tuned_parameters = [\n",
    "    {\n",
    "        \"n_estimators\": [10, 20, 30, 40, 50, 70, 90, 110, 130, 150]\n",
    "    }\n",
    "]\n",
    "\n",
    "clf = GridSearchCV(RandomForestClassifier(), tuned_parameters, cv=5, scoring='accuracy', n_jobs=1,verbose=1)"
   ]
  },
  {
   "cell_type": "code",
   "execution_count": 25,
   "metadata": {},
   "outputs": [
    {
     "name": "stdout",
     "output_type": "stream",
     "text": [
      "Fitting 5 folds for each of 10 candidates, totalling 50 fits\n"
     ]
    },
    {
     "name": "stderr",
     "output_type": "stream",
     "text": [
      "[Parallel(n_jobs=1)]: Using backend SequentialBackend with 1 concurrent workers.\n",
      "[Parallel(n_jobs=1)]: Done  50 out of  50 | elapsed:    4.3s finished\n"
     ]
    },
    {
     "data": {
      "text/plain": [
       "GridSearchCV(cv=5, error_score='raise-deprecating',\n",
       "       estimator=RandomForestClassifier(bootstrap=True, class_weight=None, criterion='gini',\n",
       "            max_depth=None, max_features='auto', max_leaf_nodes=None,\n",
       "            min_impurity_decrease=0.0, min_impurity_split=None,\n",
       "            min_samples_leaf=1, min_samples_split=2,\n",
       "            min_weight_fraction_leaf=0.0, n_estimators='warn', n_jobs=None,\n",
       "            oob_score=False, random_state=None, verbose=0,\n",
       "            warm_start=False),\n",
       "       fit_params=None, iid='warn', n_jobs=1,\n",
       "       param_grid=[{'n_estimators': [10, 20, 30, 40, 50, 70, 90, 110, 130, 150]}],\n",
       "       pre_dispatch='2*n_jobs', refit=True, return_train_score='warn',\n",
       "       scoring='accuracy', verbose=1)"
      ]
     },
     "execution_count": 25,
     "metadata": {},
     "output_type": "execute_result"
    }
   ],
   "source": [
    "clf.fit(xs, y)"
   ]
  },
  {
   "cell_type": "code",
   "execution_count": 26,
   "metadata": {},
   "outputs": [
    {
     "name": "stdout",
     "output_type": "stream",
     "text": [
      "0.8148148148148148\n",
      "{'n_estimators': 50}\n"
     ]
    }
   ],
   "source": [
    "print(clf.best_score_)  \n",
    "print(clf.best_params_)  "
   ]
  },
  {
   "cell_type": "markdown",
   "metadata": {},
   "source": [
    "### RandomForest or SVC + optuna"
   ]
  },
  {
   "cell_type": "code",
   "execution_count": 27,
   "metadata": {},
   "outputs": [],
   "source": [
    "from functools import partial\n",
    "\n",
    "import optuna\n",
    "from sklearn.model_selection import StratifiedKFold\n",
    "from sklearn.model_selection import cross_validate\n",
    "from sklearn import datasets"
   ]
  },
  {
   "cell_type": "code",
   "execution_count": 30,
   "metadata": {},
   "outputs": [],
   "source": [
    "from sklearn.neural_network import MLPClassifier\n",
    "from sklearn.neighbors import KNeighborsClassifier\n",
    "from sklearn.svm import SVC\n",
    "from sklearn.gaussian_process import GaussianProcessClassifier\n",
    "from sklearn.gaussian_process.kernels import RBF, ConstantKernel, RationalQuadratic, ExpSineSquared\n",
    "\n",
    "from sklearn.tree import DecisionTreeClassifier\n",
    "from sklearn.ensemble import RandomForestClassifier, AdaBoostClassifier\n",
    "from sklearn.naive_bayes import GaussianNB\n",
    "from sklearn.discriminant_analysis import QuadraticDiscriminantAnalysis\n",
    "from sklearn.linear_model import SGDClassifier \n",
    "\n",
    "names = [\n",
    "    \"Nearest Neighbors\", \n",
    "    \"SVM\", \n",
    "    \"Gaussian Process\",\n",
    "    \"Decision Tree\", \n",
    "    \"Random Forest\", \n",
    "    \"Neural Net\", \n",
    "    \"AdaBoost\",\n",
    "    \"Naive Bayes\", \n",
    "    \"SGD\",\n",
    "    \"QDA\"]\n",
    "\n",
    "classifiers = [\n",
    "    KNeighborsClassifier,\n",
    "    SVC,\n",
    "    GaussianProcessClassifier,\n",
    "    DecisionTreeClassifier,\n",
    "    RandomForestClassifier,\n",
    "    MLPClassifier,\n",
    "    AdaBoostClassifier,\n",
    "    GaussianNB,\n",
    "    SGDClassifier,\n",
    "    QuadraticDiscriminantAnalysis]\n"
   ]
  },
  {
   "cell_type": "code",
   "execution_count": null,
   "metadata": {},
   "outputs": [],
   "source": []
  },
  {
   "cell_type": "code",
   "execution_count": 91,
   "metadata": {},
   "outputs": [],
   "source": [
    "def objective(X, y, trial):\n",
    "    classifier = trial.suggest_categorical('classifier',[\"Nearest Neighbors\"]) # ['SVM', \"Random Forest\", \"Decision Tree\", \"AdaBoost\"])\n",
    "\n",
    "    if classifier == 'SVM':\n",
    "        params = {\n",
    "            'kernel': trial.suggest_categorical('kernel', ['rbf', 'sigmoid']),\n",
    "            'C': trial.suggest_loguniform('C', 1e+0, 1e+2),\n",
    "            'gamma': trial.suggest_loguniform('gamma', 1e-2, 1e+1)\n",
    "        }\n",
    "    elif classifier == \"Nearest Neighbors\":\n",
    "        params = {\n",
    "            \"n_neighbors\": int(trial.suggest_loguniform('n_neighbors_nn', 1e+0, 1e+2)),\n",
    "            \"algorithm\" : trial.suggest_categorical(\"algorithm_nn\", [\"auto\", \"ball_tree\", \"kd_tree\", \"brute\"]),\n",
    "        }\n",
    "    elif classifier == \"Random Forest\":\n",
    "        params = {\n",
    "            'n_estimators': int(trial.suggest_loguniform('n_estimators_rf', 1e+2, 1e+3)),\n",
    "            'max_depth': int(trial.suggest_loguniform('max_depth_rf', 2, 32))\n",
    "        }\n",
    "    elif classifier == \"Gaussian Process\":\n",
    "        ker_rbf = ConstantKernel(1.0, constant_value_bounds=\"fixed\") * RBF(1.0, length_scale_bounds=\"fixed\")\n",
    "        ker_rq = ConstantKernel(1.0, constant_value_bounds=\"fixed\") * RationalQuadratic(alpha=0.1, length_scale=1)\n",
    "        ker_expsine = ConstantKernel(1.0, constant_value_bounds=\"fixed\") * ExpSineSquared(1.0, 5.0, periodicity_bounds=(1e-2, 1e1))\n",
    "        kernel_list = [ker_rbf , ker_rq, ker_expsine]\n",
    "        params = {\n",
    "            'kernel': trial.suggest_categorical('kernel',  kernel_list),\n",
    "         }\n",
    "    elif classifier == \"Decision Tree\":\n",
    "         params = {\n",
    "            'max_depth': int(trial.suggest_loguniform('max_depth_rf', 2, 32)),\n",
    "            'criterion': trial.suggest_categorical('criterion', ['gini', 'entropy']),\n",
    "            \"splitter\" :   trial.suggest_categorical(\"splitter\", [\"best\", \"random\"])\n",
    "        }\n",
    "    elif classifier == \"AdaBoost\":\n",
    "        dtc_params = {\n",
    "            'max_depth': int(trial.suggest_loguniform('max_depth_rf', 2, 32)),\n",
    "            'criterion': trial.suggest_categorical('criterion', ['gini', 'entropy']),\n",
    "            \"splitter\" :   trial.suggest_categorical(\"splitter\", [\"best\", \"random\"])\n",
    "        }\n",
    "        params = {\n",
    "            \"base_estimator\": DecisionTreeClassifier(**dtc_params)\n",
    "        }\n",
    "        \n",
    "    model = classifiers[names.index(classifier)](**params)\n",
    "        \n",
    "    kf = StratifiedKFold(n_splits=5, shuffle=True, random_state=0)\n",
    "    scores = cross_validate(model, X=X, y=y, cv=kf, n_jobs=-1)\n",
    "    return 1.0 - scores['test_score'].mean()"
   ]
  },
  {
   "cell_type": "code",
   "execution_count": 92,
   "metadata": {},
   "outputs": [
    {
     "name": "stderr",
     "output_type": "stream",
     "text": [
      "[I 2019-01-04 22:57:12,312] Finished a trial resulted in value: 0.22557561971879436. Current best value is 0.22557561971879436 with parameters: {'classifier': 'Nearest Neighbors', 'n_neighbors_nn': 5.165911081167316, 'algorithm_nn': 'ball_tree'}.\n",
      "[I 2019-01-04 22:57:12,339] Finished a trial resulted in value: 0.25473888630595165. Current best value is 0.22557561971879436 with parameters: {'classifier': 'Nearest Neighbors', 'n_neighbors_nn': 5.165911081167316, 'algorithm_nn': 'ball_tree'}.\n",
      "[I 2019-01-04 22:57:12,374] Finished a trial resulted in value: 0.2446140435430051. Current best value is 0.22557561971879436 with parameters: {'classifier': 'Nearest Neighbors', 'n_neighbors_nn': 5.165911081167316, 'algorithm_nn': 'ball_tree'}.\n",
      "[I 2019-01-04 22:57:12,405] Finished a trial resulted in value: 0.2615184763955576. Current best value is 0.22557561971879436 with parameters: {'classifier': 'Nearest Neighbors', 'n_neighbors_nn': 5.165911081167316, 'algorithm_nn': 'ball_tree'}.\n",
      "[I 2019-01-04 22:57:12,439] Finished a trial resulted in value: 0.23000687640591289. Current best value is 0.22557561971879436 with parameters: {'classifier': 'Nearest Neighbors', 'n_neighbors_nn': 5.165911081167316, 'algorithm_nn': 'ball_tree'}.\n",
      "[I 2019-01-04 22:57:12,471] Finished a trial resulted in value: 0.2615184763955576. Current best value is 0.22557561971879436 with parameters: {'classifier': 'Nearest Neighbors', 'n_neighbors_nn': 5.165911081167316, 'algorithm_nn': 'ball_tree'}.\n",
      "[I 2019-01-04 22:57:12,507] Finished a trial resulted in value: 0.2480035194147644. Current best value is 0.22557561971879436 with parameters: {'classifier': 'Nearest Neighbors', 'n_neighbors_nn': 5.165911081167316, 'algorithm_nn': 'ball_tree'}.\n",
      "[I 2019-01-04 22:57:12,585] Finished a trial resulted in value: 0.2277848646014753. Current best value is 0.22557561971879436 with parameters: {'classifier': 'Nearest Neighbors', 'n_neighbors_nn': 5.165911081167316, 'algorithm_nn': 'ball_tree'}.\n",
      "[I 2019-01-04 22:57:12,652] Finished a trial resulted in value: 0.34002043416754524. Current best value is 0.22557561971879436 with parameters: {'classifier': 'Nearest Neighbors', 'n_neighbors_nn': 5.165911081167316, 'algorithm_nn': 'ball_tree'}.\n",
      "[I 2019-01-04 22:57:12,687] Finished a trial resulted in value: 0.2413500381411786. Current best value is 0.22557561971879436 with parameters: {'classifier': 'Nearest Neighbors', 'n_neighbors_nn': 5.165911081167316, 'algorithm_nn': 'ball_tree'}.\n",
      "[I 2019-01-04 22:57:12,729] Finished a trial resulted in value: 0.22557561971879436. Current best value is 0.22557561971879436 with parameters: {'classifier': 'Nearest Neighbors', 'n_neighbors_nn': 5.165911081167316, 'algorithm_nn': 'ball_tree'}.\n",
      "[I 2019-01-04 22:57:12,765] Finished a trial resulted in value: 0.25811002745952083. Current best value is 0.22557561971879436 with parameters: {'classifier': 'Nearest Neighbors', 'n_neighbors_nn': 5.165911081167316, 'algorithm_nn': 'ball_tree'}.\n",
      "[I 2019-01-04 22:57:12,798] Finished a trial resulted in value: 0.25359638866339895. Current best value is 0.22557561971879436 with parameters: {'classifier': 'Nearest Neighbors', 'n_neighbors_nn': 5.165911081167316, 'algorithm_nn': 'ball_tree'}.\n",
      "[I 2019-01-04 22:57:12,846] Finished a trial resulted in value: 0.3478606362821022. Current best value is 0.22557561971879436 with parameters: {'classifier': 'Nearest Neighbors', 'n_neighbors_nn': 5.165911081167316, 'algorithm_nn': 'ball_tree'}.\n",
      "[I 2019-01-04 22:57:12,907] Finished a trial resulted in value: 0.25589393808823147. Current best value is 0.22557561971879436 with parameters: {'classifier': 'Nearest Neighbors', 'n_neighbors_nn': 5.165911081167316, 'algorithm_nn': 'ball_tree'}.\n",
      "[I 2019-01-04 22:57:12,951] Finished a trial resulted in value: 0.2378534265176767. Current best value is 0.22557561971879436 with parameters: {'classifier': 'Nearest Neighbors', 'n_neighbors_nn': 5.165911081167316, 'algorithm_nn': 'ball_tree'}.\n",
      "[I 2019-01-04 22:57:12,992] Finished a trial resulted in value: 0.24798497191454527. Current best value is 0.22557561971879436 with parameters: {'classifier': 'Nearest Neighbors', 'n_neighbors_nn': 5.165911081167316, 'algorithm_nn': 'ball_tree'}.\n",
      "[I 2019-01-04 22:57:13,024] Finished a trial resulted in value: 0.25359638866339895. Current best value is 0.22557561971879436 with parameters: {'classifier': 'Nearest Neighbors', 'n_neighbors_nn': 5.165911081167316, 'algorithm_nn': 'ball_tree'}.\n",
      "[I 2019-01-04 22:57:13,064] Finished a trial resulted in value: 0.22557561971879436. Current best value is 0.22557561971879436 with parameters: {'classifier': 'Nearest Neighbors', 'n_neighbors_nn': 5.165911081167316, 'algorithm_nn': 'ball_tree'}.\n",
      "[I 2019-01-04 22:57:13,099] Finished a trial resulted in value: 0.22557561971879436. Current best value is 0.22557561971879436 with parameters: {'classifier': 'Nearest Neighbors', 'n_neighbors_nn': 5.165911081167316, 'algorithm_nn': 'ball_tree'}.\n",
      "[I 2019-01-04 22:57:13,149] Finished a trial resulted in value: 0.22557561971879436. Current best value is 0.22557561971879436 with parameters: {'classifier': 'Nearest Neighbors', 'n_neighbors_nn': 5.165911081167316, 'algorithm_nn': 'ball_tree'}.\n",
      "[I 2019-01-04 22:57:13,202] Finished a trial resulted in value: 0.28052565672513574. Current best value is 0.22557561971879436 with parameters: {'classifier': 'Nearest Neighbors', 'n_neighbors_nn': 5.165911081167316, 'algorithm_nn': 'ball_tree'}.\n",
      "[I 2019-01-04 22:57:13,244] Finished a trial resulted in value: 0.22557561971879436. Current best value is 0.22557561971879436 with parameters: {'classifier': 'Nearest Neighbors', 'n_neighbors_nn': 5.165911081167316, 'algorithm_nn': 'ball_tree'}.\n",
      "[I 2019-01-04 22:57:13,282] Finished a trial resulted in value: 0.23231105753732462. Current best value is 0.22557561971879436 with parameters: {'classifier': 'Nearest Neighbors', 'n_neighbors_nn': 5.165911081167316, 'algorithm_nn': 'ball_tree'}.\n",
      "[I 2019-01-04 22:57:13,320] Finished a trial resulted in value: 0.22557561971879436. Current best value is 0.22557561971879436 with parameters: {'classifier': 'Nearest Neighbors', 'n_neighbors_nn': 5.165911081167316, 'algorithm_nn': 'ball_tree'}.\n",
      "[I 2019-01-04 22:57:13,362] Finished a trial resulted in value: 0.23115579297301525. Current best value is 0.22557561971879436 with parameters: {'classifier': 'Nearest Neighbors', 'n_neighbors_nn': 5.165911081167316, 'algorithm_nn': 'ball_tree'}.\n",
      "[I 2019-01-04 22:57:13,443] Finished a trial resulted in value: 0.23783431159871304. Current best value is 0.22557561971879436 with parameters: {'classifier': 'Nearest Neighbors', 'n_neighbors_nn': 5.165911081167316, 'algorithm_nn': 'ball_tree'}.\n",
      "[I 2019-01-04 22:57:13,492] Finished a trial resulted in value: 0.25359638866339895. Current best value is 0.22557561971879436 with parameters: {'classifier': 'Nearest Neighbors', 'n_neighbors_nn': 5.165911081167316, 'algorithm_nn': 'ball_tree'}.\n",
      "[I 2019-01-04 22:57:13,540] Finished a trial resulted in value: 0.23785984544222671. Current best value is 0.22557561971879436 with parameters: {'classifier': 'Nearest Neighbors', 'n_neighbors_nn': 5.165911081167316, 'algorithm_nn': 'ball_tree'}.\n",
      "[I 2019-01-04 22:57:13,577] Finished a trial resulted in value: 0.2559192591497159. Current best value is 0.22557561971879436 with parameters: {'classifier': 'Nearest Neighbors', 'n_neighbors_nn': 5.165911081167316, 'algorithm_nn': 'ball_tree'}.\n",
      "[I 2019-01-04 22:57:13,649] Finished a trial resulted in value: 0.25585028230855733. Current best value is 0.22557561971879436 with parameters: {'classifier': 'Nearest Neighbors', 'n_neighbors_nn': 5.165911081167316, 'algorithm_nn': 'ball_tree'}.\n",
      "[I 2019-01-04 22:57:13,697] Finished a trial resulted in value: 0.2615184763955576. Current best value is 0.22557561971879436 with parameters: {'classifier': 'Nearest Neighbors', 'n_neighbors_nn': 5.165911081167316, 'algorithm_nn': 'ball_tree'}.\n",
      "[I 2019-01-04 22:57:13,740] Finished a trial resulted in value: 0.23231105753732462. Current best value is 0.22557561971879436 with parameters: {'classifier': 'Nearest Neighbors', 'n_neighbors_nn': 5.165911081167316, 'algorithm_nn': 'ball_tree'}.\n"
     ]
    },
    {
     "name": "stderr",
     "output_type": "stream",
     "text": [
      "[I 2019-01-04 22:57:13,774] Finished a trial resulted in value: 0.23231105753732462. Current best value is 0.22557561971879436 with parameters: {'classifier': 'Nearest Neighbors', 'n_neighbors_nn': 5.165911081167316, 'algorithm_nn': 'ball_tree'}.\n",
      "[I 2019-01-04 22:57:13,815] Finished a trial resulted in value: 0.23115579297301525. Current best value is 0.22557561971879436 with parameters: {'classifier': 'Nearest Neighbors', 'n_neighbors_nn': 5.165911081167316, 'algorithm_nn': 'ball_tree'}.\n",
      "[I 2019-01-04 22:57:13,851] Finished a trial resulted in value: 0.2480035194147644. Current best value is 0.22557561971879436 with parameters: {'classifier': 'Nearest Neighbors', 'n_neighbors_nn': 5.165911081167316, 'algorithm_nn': 'ball_tree'}.\n",
      "[I 2019-01-04 22:57:13,893] Finished a trial resulted in value: 0.24684875134185658. Current best value is 0.22557561971879436 with parameters: {'classifier': 'Nearest Neighbors', 'n_neighbors_nn': 5.165911081167316, 'algorithm_nn': 'ball_tree'}.\n",
      "[I 2019-01-04 22:57:13,972] Finished a trial resulted in value: 0.2379602785600473. Current best value is 0.22557561971879436 with parameters: {'classifier': 'Nearest Neighbors', 'n_neighbors_nn': 5.165911081167316, 'algorithm_nn': 'ball_tree'}.\n",
      "[I 2019-01-04 22:57:14,028] Finished a trial resulted in value: 0.24237312960163304. Current best value is 0.22557561971879436 with parameters: {'classifier': 'Nearest Neighbors', 'n_neighbors_nn': 5.165911081167316, 'algorithm_nn': 'ball_tree'}.\n",
      "[I 2019-01-04 22:57:14,075] Finished a trial resulted in value: 0.23231105753732462. Current best value is 0.22557561971879436 with parameters: {'classifier': 'Nearest Neighbors', 'n_neighbors_nn': 5.165911081167316, 'algorithm_nn': 'ball_tree'}.\n",
      "[I 2019-01-04 22:57:14,119] Finished a trial resulted in value: 0.23115579297301525. Current best value is 0.22557561971879436 with parameters: {'classifier': 'Nearest Neighbors', 'n_neighbors_nn': 5.165911081167316, 'algorithm_nn': 'ball_tree'}.\n",
      "[I 2019-01-04 22:57:14,160] Finished a trial resulted in value: 0.2457374262665939. Current best value is 0.22557561971879436 with parameters: {'classifier': 'Nearest Neighbors', 'n_neighbors_nn': 5.165911081167316, 'algorithm_nn': 'ball_tree'}.\n",
      "[I 2019-01-04 22:57:14,243] Finished a trial resulted in value: 0.23787860572447495. Current best value is 0.22557561971879436 with parameters: {'classifier': 'Nearest Neighbors', 'n_neighbors_nn': 5.165911081167316, 'algorithm_nn': 'ball_tree'}.\n",
      "[I 2019-01-04 22:57:14,303] Finished a trial resulted in value: 0.26482014421656674. Current best value is 0.22557561971879436 with parameters: {'classifier': 'Nearest Neighbors', 'n_neighbors_nn': 5.165911081167316, 'algorithm_nn': 'ball_tree'}.\n",
      "[I 2019-01-04 22:57:14,346] Finished a trial resulted in value: 0.2559192591497159. Current best value is 0.22557561971879436 with parameters: {'classifier': 'Nearest Neighbors', 'n_neighbors_nn': 5.165911081167316, 'algorithm_nn': 'ball_tree'}.\n",
      "[I 2019-01-04 22:57:14,392] Finished a trial resulted in value: 0.25473888630595165. Current best value is 0.22557561971879436 with parameters: {'classifier': 'Nearest Neighbors', 'n_neighbors_nn': 5.165911081167316, 'algorithm_nn': 'ball_tree'}.\n",
      "[I 2019-01-04 22:57:14,433] Finished a trial resulted in value: 0.2480035194147644. Current best value is 0.22557561971879436 with parameters: {'classifier': 'Nearest Neighbors', 'n_neighbors_nn': 5.165911081167316, 'algorithm_nn': 'ball_tree'}.\n",
      "[I 2019-01-04 22:57:14,473] Finished a trial resulted in value: 0.2457374262665939. Current best value is 0.22557561971879436 with parameters: {'classifier': 'Nearest Neighbors', 'n_neighbors_nn': 5.165911081167316, 'algorithm_nn': 'ball_tree'}.\n",
      "[I 2019-01-04 22:57:14,554] Finished a trial resulted in value: 0.2277848646014753. Current best value is 0.22557561971879436 with parameters: {'classifier': 'Nearest Neighbors', 'n_neighbors_nn': 5.165911081167316, 'algorithm_nn': 'ball_tree'}.\n",
      "[I 2019-01-04 22:57:14,622] Finished a trial resulted in value: 0.29289176806616957. Current best value is 0.22557561971879436 with parameters: {'classifier': 'Nearest Neighbors', 'n_neighbors_nn': 5.165911081167316, 'algorithm_nn': 'ball_tree'}.\n",
      "[I 2019-01-04 22:57:14,671] Finished a trial resulted in value: 0.24237312960163304. Current best value is 0.22557561971879436 with parameters: {'classifier': 'Nearest Neighbors', 'n_neighbors_nn': 5.165911081167316, 'algorithm_nn': 'ball_tree'}.\n",
      "[I 2019-01-04 22:57:14,718] Finished a trial resulted in value: 0.25359638866339895. Current best value is 0.22557561971879436 with parameters: {'classifier': 'Nearest Neighbors', 'n_neighbors_nn': 5.165911081167316, 'algorithm_nn': 'ball_tree'}.\n",
      "[I 2019-01-04 22:57:14,760] Finished a trial resulted in value: 0.25473888630595165. Current best value is 0.22557561971879436 with parameters: {'classifier': 'Nearest Neighbors', 'n_neighbors_nn': 5.165911081167316, 'algorithm_nn': 'ball_tree'}.\n",
      "[I 2019-01-04 22:57:14,810] Finished a trial resulted in value: 0.30070030112203505. Current best value is 0.22557561971879436 with parameters: {'classifier': 'Nearest Neighbors', 'n_neighbors_nn': 5.165911081167316, 'algorithm_nn': 'ball_tree'}.\n",
      "[I 2019-01-04 22:57:14,846] Finished a trial resulted in value: 0.2457374262665939. Current best value is 0.22557561971879436 with parameters: {'classifier': 'Nearest Neighbors', 'n_neighbors_nn': 5.165911081167316, 'algorithm_nn': 'ball_tree'}.\n",
      "[I 2019-01-04 22:57:14,912] Finished a trial resulted in value: 0.2277848646014753. Current best value is 0.22557561971879436 with parameters: {'classifier': 'Nearest Neighbors', 'n_neighbors_nn': 5.165911081167316, 'algorithm_nn': 'ball_tree'}.\n",
      "[I 2019-01-04 22:57:14,968] Finished a trial resulted in value: 0.25359638866339895. Current best value is 0.22557561971879436 with parameters: {'classifier': 'Nearest Neighbors', 'n_neighbors_nn': 5.165911081167316, 'algorithm_nn': 'ball_tree'}.\n",
      "[I 2019-01-04 22:57:15,016] Finished a trial resulted in value: 0.24914009462416842. Current best value is 0.22557561971879436 with parameters: {'classifier': 'Nearest Neighbors', 'n_neighbors_nn': 5.165911081167316, 'algorithm_nn': 'ball_tree'}.\n",
      "[I 2019-01-04 22:57:15,058] Finished a trial resulted in value: 0.2378534265176767. Current best value is 0.22557561971879436 with parameters: {'classifier': 'Nearest Neighbors', 'n_neighbors_nn': 5.165911081167316, 'algorithm_nn': 'ball_tree'}.\n",
      "[I 2019-01-04 22:57:15,106] Finished a trial resulted in value: 0.2412557402385358. Current best value is 0.22557561971879436 with parameters: {'classifier': 'Nearest Neighbors', 'n_neighbors_nn': 5.165911081167316, 'algorithm_nn': 'ball_tree'}.\n",
      "[I 2019-01-04 22:57:15,157] Finished a trial resulted in value: 0.26370896099599006. Current best value is 0.22557561971879436 with parameters: {'classifier': 'Nearest Neighbors', 'n_neighbors_nn': 5.165911081167316, 'algorithm_nn': 'ball_tree'}.\n",
      "[I 2019-01-04 22:57:15,250] Finished a trial resulted in value: 0.23790999107379385. Current best value is 0.22557561971879436 with parameters: {'classifier': 'Nearest Neighbors', 'n_neighbors_nn': 5.165911081167316, 'algorithm_nn': 'ball_tree'}.\n",
      "[I 2019-01-04 22:57:15,314] Finished a trial resulted in value: 0.241218077819353. Current best value is 0.22557561971879436 with parameters: {'classifier': 'Nearest Neighbors', 'n_neighbors_nn': 5.165911081167316, 'algorithm_nn': 'ball_tree'}.\n",
      "[I 2019-01-04 22:57:15,363] Finished a trial resulted in value: 0.23568177312683536. Current best value is 0.22557561971879436 with parameters: {'classifier': 'Nearest Neighbors', 'n_neighbors_nn': 5.165911081167316, 'algorithm_nn': 'ball_tree'}.\n",
      "[I 2019-01-04 22:57:15,407] Finished a trial resulted in value: 0.23115579297301525. Current best value is 0.22557561971879436 with parameters: {'classifier': 'Nearest Neighbors', 'n_neighbors_nn': 5.165911081167316, 'algorithm_nn': 'ball_tree'}.\n",
      "[I 2019-01-04 22:57:15,452] Finished a trial resulted in value: 0.25359638866339895. Current best value is 0.22557561971879436 with parameters: {'classifier': 'Nearest Neighbors', 'n_neighbors_nn': 5.165911081167316, 'algorithm_nn': 'ball_tree'}.\n"
     ]
    },
    {
     "name": "stderr",
     "output_type": "stream",
     "text": [
      "[I 2019-01-04 22:57:15,506] Finished a trial resulted in value: 0.24237312960163304. Current best value is 0.22557561971879436 with parameters: {'classifier': 'Nearest Neighbors', 'n_neighbors_nn': 5.165911081167316, 'algorithm_nn': 'ball_tree'}.\n",
      "[I 2019-01-04 22:57:15,552] Finished a trial resulted in value: 0.2480035194147644. Current best value is 0.22557561971879436 with parameters: {'classifier': 'Nearest Neighbors', 'n_neighbors_nn': 5.165911081167316, 'algorithm_nn': 'ball_tree'}.\n",
      "[I 2019-01-04 22:57:15,597] Finished a trial resulted in value: 0.2378534265176767. Current best value is 0.22557561971879436 with parameters: {'classifier': 'Nearest Neighbors', 'n_neighbors_nn': 5.165911081167316, 'algorithm_nn': 'ball_tree'}.\n",
      "[I 2019-01-04 22:57:15,661] Finished a trial resulted in value: 0.2559192591497159. Current best value is 0.22557561971879436 with parameters: {'classifier': 'Nearest Neighbors', 'n_neighbors_nn': 5.165911081167316, 'algorithm_nn': 'ball_tree'}.\n",
      "[I 2019-01-04 22:57:15,716] Finished a trial resulted in value: 0.2480035194147644. Current best value is 0.22557561971879436 with parameters: {'classifier': 'Nearest Neighbors', 'n_neighbors_nn': 5.165911081167316, 'algorithm_nn': 'ball_tree'}.\n",
      "[I 2019-01-04 22:57:15,759] Finished a trial resulted in value: 0.2480035194147644. Current best value is 0.22557561971879436 with parameters: {'classifier': 'Nearest Neighbors', 'n_neighbors_nn': 5.165911081167316, 'algorithm_nn': 'ball_tree'}.\n",
      "[I 2019-01-04 22:57:15,805] Finished a trial resulted in value: 0.24237312960163304. Current best value is 0.22557561971879436 with parameters: {'classifier': 'Nearest Neighbors', 'n_neighbors_nn': 5.165911081167316, 'algorithm_nn': 'ball_tree'}.\n",
      "[I 2019-01-04 22:57:15,853] Finished a trial resulted in value: 0.2457374262665939. Current best value is 0.22557561971879436 with parameters: {'classifier': 'Nearest Neighbors', 'n_neighbors_nn': 5.165911081167316, 'algorithm_nn': 'ball_tree'}.\n",
      "[I 2019-01-04 22:57:15,898] Finished a trial resulted in value: 0.25473888630595165. Current best value is 0.22557561971879436 with parameters: {'classifier': 'Nearest Neighbors', 'n_neighbors_nn': 5.165911081167316, 'algorithm_nn': 'ball_tree'}.\n",
      "[I 2019-01-04 22:57:15,962] Finished a trial resulted in value: 0.23787860572447495. Current best value is 0.22557561971879436 with parameters: {'classifier': 'Nearest Neighbors', 'n_neighbors_nn': 5.165911081167316, 'algorithm_nn': 'ball_tree'}.\n",
      "[I 2019-01-04 22:57:16,018] Finished a trial resulted in value: 0.241218077819353. Current best value is 0.22557561971879436 with parameters: {'classifier': 'Nearest Neighbors', 'n_neighbors_nn': 5.165911081167316, 'algorithm_nn': 'ball_tree'}.\n",
      "[I 2019-01-04 22:57:16,067] Finished a trial resulted in value: 0.2559192591497159. Current best value is 0.22557561971879436 with parameters: {'classifier': 'Nearest Neighbors', 'n_neighbors_nn': 5.165911081167316, 'algorithm_nn': 'ball_tree'}.\n",
      "[I 2019-01-04 22:57:16,109] Finished a trial resulted in value: 0.25023230478046743. Current best value is 0.22557561971879436 with parameters: {'classifier': 'Nearest Neighbors', 'n_neighbors_nn': 5.165911081167316, 'algorithm_nn': 'ball_tree'}.\n",
      "[I 2019-01-04 22:57:16,151] Finished a trial resulted in value: 0.2457374262665939. Current best value is 0.22557561971879436 with parameters: {'classifier': 'Nearest Neighbors', 'n_neighbors_nn': 5.165911081167316, 'algorithm_nn': 'ball_tree'}.\n",
      "[I 2019-01-04 22:57:16,199] Finished a trial resulted in value: 0.2412557402385358. Current best value is 0.22557561971879436 with parameters: {'classifier': 'Nearest Neighbors', 'n_neighbors_nn': 5.165911081167316, 'algorithm_nn': 'ball_tree'}.\n",
      "[I 2019-01-04 22:57:16,242] Finished a trial resulted in value: 0.2559192591497159. Current best value is 0.22557561971879436 with parameters: {'classifier': 'Nearest Neighbors', 'n_neighbors_nn': 5.165911081167316, 'algorithm_nn': 'ball_tree'}.\n",
      "[I 2019-01-04 22:57:16,312] Finished a trial resulted in value: 0.23790999107379385. Current best value is 0.22557561971879436 with parameters: {'classifier': 'Nearest Neighbors', 'n_neighbors_nn': 5.165911081167316, 'algorithm_nn': 'ball_tree'}.\n",
      "[I 2019-01-04 22:57:16,369] Finished a trial resulted in value: 0.2480035194147644. Current best value is 0.22557561971879436 with parameters: {'classifier': 'Nearest Neighbors', 'n_neighbors_nn': 5.165911081167316, 'algorithm_nn': 'ball_tree'}.\n",
      "[I 2019-01-04 22:57:16,424] Finished a trial resulted in value: 0.2154440033945827. Current best value is 0.2154440033945827 with parameters: {'classifier': 'Nearest Neighbors', 'n_neighbors_nn': 9.33706309608012, 'algorithm_nn': 'ball_tree'}.\n",
      "[I 2019-01-04 22:57:16,486] Finished a trial resulted in value: 0.36468953151425976. Current best value is 0.2154440033945827 with parameters: {'classifier': 'Nearest Neighbors', 'n_neighbors_nn': 9.33706309608012, 'algorithm_nn': 'ball_tree'}.\n",
      "[I 2019-01-04 22:57:16,539] Finished a trial resulted in value: 0.35793526248613816. Current best value is 0.2154440033945827 with parameters: {'classifier': 'Nearest Neighbors', 'n_neighbors_nn': 9.33706309608012, 'algorithm_nn': 'ball_tree'}.\n",
      "[I 2019-01-04 22:57:16,592] Finished a trial resulted in value: 0.3164118779184386. Current best value is 0.2154440033945827 with parameters: {'classifier': 'Nearest Neighbors', 'n_neighbors_nn': 9.33706309608012, 'algorithm_nn': 'ball_tree'}.\n",
      "[I 2019-01-04 22:57:16,639] Finished a trial resulted in value: 0.24914009462416842. Current best value is 0.2154440033945827 with parameters: {'classifier': 'Nearest Neighbors', 'n_neighbors_nn': 9.33706309608012, 'algorithm_nn': 'ball_tree'}.\n",
      "[I 2019-01-04 22:57:16,706] Finished a trial resulted in value: 0.23787860572447495. Current best value is 0.2154440033945827 with parameters: {'classifier': 'Nearest Neighbors', 'n_neighbors_nn': 9.33706309608012, 'algorithm_nn': 'ball_tree'}.\n",
      "[I 2019-01-04 22:57:16,766] Finished a trial resulted in value: 0.2480035194147644. Current best value is 0.2154440033945827 with parameters: {'classifier': 'Nearest Neighbors', 'n_neighbors_nn': 9.33706309608012, 'algorithm_nn': 'ball_tree'}.\n",
      "[I 2019-01-04 22:57:16,821] Finished a trial resulted in value: 0.25023230478046743. Current best value is 0.2154440033945827 with parameters: {'classifier': 'Nearest Neighbors', 'n_neighbors_nn': 9.33706309608012, 'algorithm_nn': 'ball_tree'}.\n",
      "[I 2019-01-04 22:57:16,865] Finished a trial resulted in value: 0.23797290362711787. Current best value is 0.2154440033945827 with parameters: {'classifier': 'Nearest Neighbors', 'n_neighbors_nn': 9.33706309608012, 'algorithm_nn': 'ball_tree'}.\n",
      "[I 2019-01-04 22:57:16,914] Finished a trial resulted in value: 0.23678667927754826. Current best value is 0.2154440033945827 with parameters: {'classifier': 'Nearest Neighbors', 'n_neighbors_nn': 9.33706309608012, 'algorithm_nn': 'ball_tree'}.\n",
      "[I 2019-01-04 22:57:16,956] Finished a trial resulted in value: 0.22330303671873086. Current best value is 0.2154440033945827 with parameters: {'classifier': 'Nearest Neighbors', 'n_neighbors_nn': 9.33706309608012, 'algorithm_nn': 'ball_tree'}.\n",
      "[I 2019-01-04 22:57:17,023] Finished a trial resulted in value: 0.3714311754753108. Current best value is 0.2154440033945827 with parameters: {'classifier': 'Nearest Neighbors', 'n_neighbors_nn': 9.33706309608012, 'algorithm_nn': 'ball_tree'}.\n",
      "[I 2019-01-04 22:57:17,080] Finished a trial resulted in value: 0.35679904191344947. Current best value is 0.2154440033945827 with parameters: {'classifier': 'Nearest Neighbors', 'n_neighbors_nn': 9.33706309608012, 'algorithm_nn': 'ball_tree'}.\n",
      "[I 2019-01-04 22:57:17,125] Finished a trial resulted in value: 0.2827538746720941. Current best value is 0.2154440033945827 with parameters: {'classifier': 'Nearest Neighbors', 'n_neighbors_nn': 9.33706309608012, 'algorithm_nn': 'ball_tree'}.\n",
      "[I 2019-01-04 22:57:17,173] Finished a trial resulted in value: 0.24463943553183276. Current best value is 0.2154440033945827 with parameters: {'classifier': 'Nearest Neighbors', 'n_neighbors_nn': 9.33706309608012, 'algorithm_nn': 'ball_tree'}.\n"
     ]
    },
    {
     "name": "stderr",
     "output_type": "stream",
     "text": [
      "[I 2019-01-04 22:57:17,216] Finished a trial resulted in value: 0.23678667927754826. Current best value is 0.2154440033945827 with parameters: {'classifier': 'Nearest Neighbors', 'n_neighbors_nn': 9.33706309608012, 'algorithm_nn': 'ball_tree'}.\n"
     ]
    }
   ],
   "source": [
    "f = partial(objective, xs, y)\n",
    "study = optuna.create_study()\n",
    "study.optimize(f, n_trials=100)"
   ]
  },
  {
   "cell_type": "code",
   "execution_count": 93,
   "metadata": {},
   "outputs": [
    {
     "name": "stdout",
     "output_type": "stream",
     "text": [
      "params: {'classifier': 'Nearest Neighbors', 'n_neighbors_nn': 9.33706309608012, 'algorithm_nn': 'ball_tree'}\n",
      "best test accuracy:  0.7845559966054173\n",
      "FrozenTrial(trial_id=84, state=<TrialState.COMPLETE: 1>, value=0.2154440033945827, datetime_start=datetime.datetime(2019, 1, 4, 22, 57, 16, 373106), datetime_complete=datetime.datetime(2019, 1, 4, 22, 57, 16, 418509), params={'classifier': 'Nearest Neighbors', 'n_neighbors_nn': 9.33706309608012, 'algorithm_nn': 'ball_tree'}, user_attrs={}, system_attrs={}, intermediate_values={}, params_in_internal_repr={'classifier': 0, 'n_neighbors_nn': 9.33706309608012, 'algorithm_nn': 1})\n"
     ]
    }
   ],
   "source": [
    "print('params:', study.best_params)\n",
    "print(\"best test accuracy: \", 1 - study.best_value)\n",
    "print(study.best_trial)"
   ]
  },
  {
   "cell_type": "code",
   "execution_count": null,
   "metadata": {},
   "outputs": [],
   "source": []
  },
  {
   "cell_type": "code",
   "execution_count": null,
   "metadata": {},
   "outputs": [],
   "source": []
  },
  {
   "cell_type": "code",
   "execution_count": null,
   "metadata": {},
   "outputs": [],
   "source": []
  },
  {
   "cell_type": "code",
   "execution_count": null,
   "metadata": {},
   "outputs": [],
   "source": []
  },
  {
   "cell_type": "markdown",
   "metadata": {},
   "source": [
    "## preparation for submitting to kaggle"
   ]
  },
  {
   "cell_type": "code",
   "execution_count": null,
   "metadata": {},
   "outputs": [],
   "source": [
    "test_df= pd.read_csv(dir_path/\"test.csv\").replace(\"male\",0).replace(\"female\",1)\n",
    "\n",
    "test_df[\"Age\"].fillna(df.Age.median(), inplace=True)\n",
    "test_df[\"FamilySize\"] = test_df[\"SibSp\"] + test_df[\"Parch\"] + 1\n",
    "test_df2 = test_df.drop([\"Name\", \"SibSp\", \"Parch\", \"Ticket\", \"Fare\", \"Cabin\", \"Embarked\"], axis=1)\n",
    "test_df2.head()"
   ]
  },
  {
   "cell_type": "code",
   "execution_count": null,
   "metadata": {},
   "outputs": [],
   "source": [
    "test_data = test_df2.values"
   ]
  },
  {
   "cell_type": "code",
   "execution_count": null,
   "metadata": {},
   "outputs": [],
   "source": [
    "output = forest.predict(xs_test)\n",
    "\n",
    "print(len(test_data[:,0]), len(output))\n",
    "zip_data = zip(test_data[:,0].astype(int), output.astype(int))\n",
    "predict_data = list(zip_data)"
   ]
  },
  {
   "cell_type": "code",
   "execution_count": null,
   "metadata": {},
   "outputs": [],
   "source": [
    "import csv\n",
    "with open(\"predict_result_data.csv\", \"w\") as f:\n",
    "    writer = csv.writer(f, lineterminator='\\n')\n",
    "    writer.writerow([\"PassengerId\", \"Survived\"])\n",
    "    for pid, survived in zip(test_data[:,0].astype(int), output.astype(int)):\n",
    "        writer.writerow([pid, survived])"
   ]
  },
  {
   "cell_type": "code",
   "execution_count": null,
   "metadata": {},
   "outputs": [],
   "source": []
  }
 ],
 "metadata": {
  "kernelspec": {
   "display_name": "Environment (conda_py3.6)",
   "language": "python",
   "name": "conda_py3.6"
  },
  "language_info": {
   "codemirror_mode": {
    "name": "ipython",
    "version": 3
   },
   "file_extension": ".py",
   "mimetype": "text/x-python",
   "name": "python",
   "nbconvert_exporter": "python",
   "pygments_lexer": "ipython3",
   "version": "3.6.7"
  }
 },
 "nbformat": 4,
 "nbformat_minor": 2
}
