{
 "cells": [
  {
   "cell_type": "code",
   "execution_count": 1,
   "metadata": {},
   "outputs": [],
   "source": [
    "import numpy as np\n",
    "import pandas as pd\n",
    "import matplotlib.pyplot as plt\n",
    "from pathlib import Path\n",
    "%matplotlib inline"
   ]
  },
  {
   "cell_type": "code",
   "execution_count": 2,
   "metadata": {},
   "outputs": [],
   "source": [
    "dir_path = Path(\"../MatrixFlow用データセット/タイタニック/\")"
   ]
  },
  {
   "cell_type": "code",
   "execution_count": 3,
   "metadata": {},
   "outputs": [],
   "source": [
    "train_df = pd.read_csv(dir_path /\"train.csv\")"
   ]
  },
  {
   "cell_type": "code",
   "execution_count": 4,
   "metadata": {},
   "outputs": [
    {
     "data": {
      "text/html": [
       "<div>\n",
       "<style scoped>\n",
       "    .dataframe tbody tr th:only-of-type {\n",
       "        vertical-align: middle;\n",
       "    }\n",
       "\n",
       "    .dataframe tbody tr th {\n",
       "        vertical-align: top;\n",
       "    }\n",
       "\n",
       "    .dataframe thead th {\n",
       "        text-align: right;\n",
       "    }\n",
       "</style>\n",
       "<table border=\"1\" class=\"dataframe\">\n",
       "  <thead>\n",
       "    <tr style=\"text-align: right;\">\n",
       "      <th></th>\n",
       "      <th>PassengerId</th>\n",
       "      <th>Survived</th>\n",
       "      <th>Pclass</th>\n",
       "      <th>Name</th>\n",
       "      <th>Sex</th>\n",
       "      <th>Age</th>\n",
       "      <th>SibSp</th>\n",
       "      <th>Parch</th>\n",
       "      <th>Ticket</th>\n",
       "      <th>Fare</th>\n",
       "      <th>Cabin</th>\n",
       "      <th>Embarked</th>\n",
       "    </tr>\n",
       "  </thead>\n",
       "  <tbody>\n",
       "    <tr>\n",
       "      <th>0</th>\n",
       "      <td>1</td>\n",
       "      <td>0</td>\n",
       "      <td>3</td>\n",
       "      <td>Braund, Mr. Owen Harris</td>\n",
       "      <td>male</td>\n",
       "      <td>22.0</td>\n",
       "      <td>1</td>\n",
       "      <td>0</td>\n",
       "      <td>A/5 21171</td>\n",
       "      <td>7.2500</td>\n",
       "      <td>NaN</td>\n",
       "      <td>S</td>\n",
       "    </tr>\n",
       "    <tr>\n",
       "      <th>1</th>\n",
       "      <td>2</td>\n",
       "      <td>1</td>\n",
       "      <td>1</td>\n",
       "      <td>Cumings, Mrs. John Bradley (Florence Briggs Th...</td>\n",
       "      <td>female</td>\n",
       "      <td>38.0</td>\n",
       "      <td>1</td>\n",
       "      <td>0</td>\n",
       "      <td>PC 17599</td>\n",
       "      <td>71.2833</td>\n",
       "      <td>C85</td>\n",
       "      <td>C</td>\n",
       "    </tr>\n",
       "    <tr>\n",
       "      <th>2</th>\n",
       "      <td>3</td>\n",
       "      <td>1</td>\n",
       "      <td>3</td>\n",
       "      <td>Heikkinen, Miss. Laina</td>\n",
       "      <td>female</td>\n",
       "      <td>26.0</td>\n",
       "      <td>0</td>\n",
       "      <td>0</td>\n",
       "      <td>STON/O2. 3101282</td>\n",
       "      <td>7.9250</td>\n",
       "      <td>NaN</td>\n",
       "      <td>S</td>\n",
       "    </tr>\n",
       "    <tr>\n",
       "      <th>3</th>\n",
       "      <td>4</td>\n",
       "      <td>1</td>\n",
       "      <td>1</td>\n",
       "      <td>Futrelle, Mrs. Jacques Heath (Lily May Peel)</td>\n",
       "      <td>female</td>\n",
       "      <td>35.0</td>\n",
       "      <td>1</td>\n",
       "      <td>0</td>\n",
       "      <td>113803</td>\n",
       "      <td>53.1000</td>\n",
       "      <td>C123</td>\n",
       "      <td>S</td>\n",
       "    </tr>\n",
       "    <tr>\n",
       "      <th>4</th>\n",
       "      <td>5</td>\n",
       "      <td>0</td>\n",
       "      <td>3</td>\n",
       "      <td>Allen, Mr. William Henry</td>\n",
       "      <td>male</td>\n",
       "      <td>35.0</td>\n",
       "      <td>0</td>\n",
       "      <td>0</td>\n",
       "      <td>373450</td>\n",
       "      <td>8.0500</td>\n",
       "      <td>NaN</td>\n",
       "      <td>S</td>\n",
       "    </tr>\n",
       "  </tbody>\n",
       "</table>\n",
       "</div>"
      ],
      "text/plain": [
       "   PassengerId  Survived  Pclass  \\\n",
       "0            1         0       3   \n",
       "1            2         1       1   \n",
       "2            3         1       3   \n",
       "3            4         1       1   \n",
       "4            5         0       3   \n",
       "\n",
       "                                                Name     Sex   Age  SibSp  \\\n",
       "0                            Braund, Mr. Owen Harris    male  22.0      1   \n",
       "1  Cumings, Mrs. John Bradley (Florence Briggs Th...  female  38.0      1   \n",
       "2                             Heikkinen, Miss. Laina  female  26.0      0   \n",
       "3       Futrelle, Mrs. Jacques Heath (Lily May Peel)  female  35.0      1   \n",
       "4                           Allen, Mr. William Henry    male  35.0      0   \n",
       "\n",
       "   Parch            Ticket     Fare Cabin Embarked  \n",
       "0      0         A/5 21171   7.2500   NaN        S  \n",
       "1      0          PC 17599  71.2833   C85        C  \n",
       "2      0  STON/O2. 3101282   7.9250   NaN        S  \n",
       "3      0            113803  53.1000  C123        S  \n",
       "4      0            373450   8.0500   NaN        S  "
      ]
     },
     "execution_count": 4,
     "metadata": {},
     "output_type": "execute_result"
    }
   ],
   "source": [
    "train_df.head()"
   ]
  },
  {
   "cell_type": "code",
   "execution_count": 5,
   "metadata": {},
   "outputs": [
    {
     "data": {
      "text/html": [
       "<div>\n",
       "<style scoped>\n",
       "    .dataframe tbody tr th:only-of-type {\n",
       "        vertical-align: middle;\n",
       "    }\n",
       "\n",
       "    .dataframe tbody tr th {\n",
       "        vertical-align: top;\n",
       "    }\n",
       "\n",
       "    .dataframe thead th {\n",
       "        text-align: right;\n",
       "    }\n",
       "</style>\n",
       "<table border=\"1\" class=\"dataframe\">\n",
       "  <thead>\n",
       "    <tr style=\"text-align: right;\">\n",
       "      <th></th>\n",
       "      <th>PassengerId</th>\n",
       "      <th>Survived</th>\n",
       "      <th>Pclass</th>\n",
       "      <th>Age</th>\n",
       "      <th>SibSp</th>\n",
       "      <th>Parch</th>\n",
       "      <th>Fare</th>\n",
       "    </tr>\n",
       "  </thead>\n",
       "  <tbody>\n",
       "    <tr>\n",
       "      <th>count</th>\n",
       "      <td>891.000000</td>\n",
       "      <td>891.000000</td>\n",
       "      <td>891.000000</td>\n",
       "      <td>714.000000</td>\n",
       "      <td>891.000000</td>\n",
       "      <td>891.000000</td>\n",
       "      <td>891.000000</td>\n",
       "    </tr>\n",
       "    <tr>\n",
       "      <th>mean</th>\n",
       "      <td>446.000000</td>\n",
       "      <td>0.383838</td>\n",
       "      <td>2.308642</td>\n",
       "      <td>29.699118</td>\n",
       "      <td>0.523008</td>\n",
       "      <td>0.381594</td>\n",
       "      <td>32.204208</td>\n",
       "    </tr>\n",
       "    <tr>\n",
       "      <th>std</th>\n",
       "      <td>257.353842</td>\n",
       "      <td>0.486592</td>\n",
       "      <td>0.836071</td>\n",
       "      <td>14.526497</td>\n",
       "      <td>1.102743</td>\n",
       "      <td>0.806057</td>\n",
       "      <td>49.693429</td>\n",
       "    </tr>\n",
       "    <tr>\n",
       "      <th>min</th>\n",
       "      <td>1.000000</td>\n",
       "      <td>0.000000</td>\n",
       "      <td>1.000000</td>\n",
       "      <td>0.420000</td>\n",
       "      <td>0.000000</td>\n",
       "      <td>0.000000</td>\n",
       "      <td>0.000000</td>\n",
       "    </tr>\n",
       "    <tr>\n",
       "      <th>25%</th>\n",
       "      <td>223.500000</td>\n",
       "      <td>0.000000</td>\n",
       "      <td>2.000000</td>\n",
       "      <td>20.125000</td>\n",
       "      <td>0.000000</td>\n",
       "      <td>0.000000</td>\n",
       "      <td>7.910400</td>\n",
       "    </tr>\n",
       "    <tr>\n",
       "      <th>50%</th>\n",
       "      <td>446.000000</td>\n",
       "      <td>0.000000</td>\n",
       "      <td>3.000000</td>\n",
       "      <td>28.000000</td>\n",
       "      <td>0.000000</td>\n",
       "      <td>0.000000</td>\n",
       "      <td>14.454200</td>\n",
       "    </tr>\n",
       "    <tr>\n",
       "      <th>75%</th>\n",
       "      <td>668.500000</td>\n",
       "      <td>1.000000</td>\n",
       "      <td>3.000000</td>\n",
       "      <td>38.000000</td>\n",
       "      <td>1.000000</td>\n",
       "      <td>0.000000</td>\n",
       "      <td>31.000000</td>\n",
       "    </tr>\n",
       "    <tr>\n",
       "      <th>max</th>\n",
       "      <td>891.000000</td>\n",
       "      <td>1.000000</td>\n",
       "      <td>3.000000</td>\n",
       "      <td>80.000000</td>\n",
       "      <td>8.000000</td>\n",
       "      <td>6.000000</td>\n",
       "      <td>512.329200</td>\n",
       "    </tr>\n",
       "  </tbody>\n",
       "</table>\n",
       "</div>"
      ],
      "text/plain": [
       "       PassengerId    Survived      Pclass         Age       SibSp  \\\n",
       "count   891.000000  891.000000  891.000000  714.000000  891.000000   \n",
       "mean    446.000000    0.383838    2.308642   29.699118    0.523008   \n",
       "std     257.353842    0.486592    0.836071   14.526497    1.102743   \n",
       "min       1.000000    0.000000    1.000000    0.420000    0.000000   \n",
       "25%     223.500000    0.000000    2.000000   20.125000    0.000000   \n",
       "50%     446.000000    0.000000    3.000000   28.000000    0.000000   \n",
       "75%     668.500000    1.000000    3.000000   38.000000    1.000000   \n",
       "max     891.000000    1.000000    3.000000   80.000000    8.000000   \n",
       "\n",
       "            Parch        Fare  \n",
       "count  891.000000  891.000000  \n",
       "mean     0.381594   32.204208  \n",
       "std      0.806057   49.693429  \n",
       "min      0.000000    0.000000  \n",
       "25%      0.000000    7.910400  \n",
       "50%      0.000000   14.454200  \n",
       "75%      0.000000   31.000000  \n",
       "max      6.000000  512.329200  "
      ]
     },
     "execution_count": 5,
     "metadata": {},
     "output_type": "execute_result"
    }
   ],
   "source": [
    "train_df.describe()"
   ]
  },
  {
   "cell_type": "code",
   "execution_count": 6,
   "metadata": {},
   "outputs": [
    {
     "data": {
      "text/plain": [
       "891"
      ]
     },
     "execution_count": 6,
     "metadata": {},
     "output_type": "execute_result"
    }
   ],
   "source": [
    "total = len(train_df.index)\n",
    "total"
   ]
  },
  {
   "cell_type": "code",
   "execution_count": 7,
   "metadata": {},
   "outputs": [
    {
     "data": {
      "text/plain": [
       "681"
      ]
     },
     "execution_count": 7,
     "metadata": {},
     "output_type": "execute_result"
    }
   ],
   "source": [
    "len(train_df[\"Ticket\"].value_counts())"
   ]
  },
  {
   "cell_type": "code",
   "execution_count": 8,
   "metadata": {},
   "outputs": [
    {
     "data": {
      "text/plain": [
       "891"
      ]
     },
     "execution_count": 8,
     "metadata": {},
     "output_type": "execute_result"
    }
   ],
   "source": [
    "len(train_df[\"PassengerId\"].value_counts())"
   ]
  },
  {
   "cell_type": "code",
   "execution_count": 9,
   "metadata": {},
   "outputs": [
    {
     "data": {
      "text/plain": [
       "{'male': 577, 'female': 314}"
      ]
     },
     "execution_count": 9,
     "metadata": {},
     "output_type": "execute_result"
    }
   ],
   "source": [
    "train_df[\"Sex\"].value_counts().to_dict()"
   ]
  },
  {
   "cell_type": "code",
   "execution_count": 10,
   "metadata": {},
   "outputs": [
    {
     "data": {
      "text/plain": [
       "['PassengerId',\n",
       " 'Survived',\n",
       " 'Pclass',\n",
       " 'Name',\n",
       " 'Sex',\n",
       " 'Age',\n",
       " 'SibSp',\n",
       " 'Parch',\n",
       " 'Ticket',\n",
       " 'Fare',\n",
       " 'Cabin',\n",
       " 'Embarked']"
      ]
     },
     "execution_count": 10,
     "metadata": {},
     "output_type": "execute_result"
    }
   ],
   "source": [
    "train_df.columns.tolist()"
   ]
  },
  {
   "cell_type": "code",
   "execution_count": 11,
   "metadata": {},
   "outputs": [
    {
     "name": "stdout",
     "output_type": "stream",
     "text": [
      "PassengerId\n",
      "PassengerId is unique.\n",
      "Survived\n"
     ]
    },
    {
     "data": {
      "image/png": "[encoded data removed]",
      "text/plain": [
       "<Figure size 432x288 with 1 Axes>"
      ]
     },
     "metadata": {
      "needs_background": "light"
     },
     "output_type": "display_data"
    },
    {
     "name": "stdout",
     "output_type": "stream",
     "text": [
      "Pclass\n"
     ]
    },
    {
     "data": {
      "image/png": "[encoded data removed]",
      "text/plain": [
       "<Figure size 432x288 with 1 Axes>"
      ]
     },
     "metadata": {
      "needs_background": "light"
     },
     "output_type": "display_data"
    },
    {
     "name": "stdout",
     "output_type": "stream",
     "text": [
      "Name\n",
      "Name is unique.\n",
      "Sex\n"
     ]
    },
    {
     "data": {
      "image/png": "[encoded data removed]",
      "text/plain": [
       "<Figure size 432x288 with 1 Axes>"
      ]
     },
     "metadata": {
      "needs_background": "light"
     },
     "output_type": "display_data"
    },
    {
     "name": "stdout",
     "output_type": "stream",
     "text": [
      "Age\n"
     ]
    },
    {
     "data": {
      "image/png": "[encoded data removed]",
      "text/plain": [
       "<Figure size 432x288 with 1 Axes>"
      ]
     },
     "metadata": {
      "needs_background": "light"
     },
     "output_type": "display_data"
    },
    {
     "name": "stdout",
     "output_type": "stream",
     "text": [
      "SibSp\n"
     ]
    },
    {
     "data": {
      "image/png": "[encoded data removed]",
      "text/plain": [
       "<Figure size 432x288 with 1 Axes>"
      ]
     },
     "metadata": {
      "needs_background": "light"
     },
     "output_type": "display_data"
    },
    {
     "name": "stdout",
     "output_type": "stream",
     "text": [
      "Parch\n"
     ]
    },
    {
     "data": {
      "image/png": "[encoded data removed]",
      "text/plain": [
       "<Figure size 432x288 with 1 Axes>"
      ]
     },
     "metadata": {
      "needs_background": "light"
     },
     "output_type": "display_data"
    },
    {
     "name": "stdout",
     "output_type": "stream",
     "text": [
      "Ticket\n"
     ]
    },
    {
     "data": {
      "image/png": "[encoded data removed]",
      "text/plain": [
       "<Figure size 432x288 with 1 Axes>"
      ]
     },
     "metadata": {
      "needs_background": "light"
     },
     "output_type": "display_data"
    },
    {
     "name": "stdout",
     "output_type": "stream",
     "text": [
      "Fare\n"
     ]
    },
    {
     "data": {
      "image/png": "[encoded data removed]",
      "text/plain": [
       "<Figure size 432x288 with 1 Axes>"
      ]
     },
     "metadata": {
      "needs_background": "light"
     },
     "output_type": "display_data"
    },
    {
     "name": "stdout",
     "output_type": "stream",
     "text": [
      "Cabin\n"
     ]
    },
    {
     "data": {
      "image/png": "[encoded data removed]",
      "text/plain": [
       "<Figure size 432x288 with 1 Axes>"
      ]
     },
     "metadata": {
      "needs_background": "light"
     },
     "output_type": "display_data"
    },
    {
     "name": "stdout",
     "output_type": "stream",
     "text": [
      "Embarked\n"
     ]
    },
    {
     "data": {
      "image/png": "[encoded data removed]",
      "text/plain": [
       "<Figure size 432x288 with 1 Axes>"
      ]
     },
     "metadata": {
      "needs_background": "light"
     },
     "output_type": "display_data"
    }
   ],
   "source": [
    "for f in train_df.columns.tolist():\n",
    "    count = train_df[f].value_counts()\n",
    "    print(f)\n",
    "    if not len(count) == total:\n",
    "        count.plot(kind='bar')\n",
    "        plt.show()\n",
    "    else:\n",
    "        print(\"{} is unique.\".format(f))"
   ]
  },
  {
   "cell_type": "code",
   "execution_count": 12,
   "metadata": {},
   "outputs": [
    {
     "data": {
      "text/html": [
       "<div>\n",
       "<style scoped>\n",
       "    .dataframe tbody tr th:only-of-type {\n",
       "        vertical-align: middle;\n",
       "    }\n",
       "\n",
       "    .dataframe tbody tr th {\n",
       "        vertical-align: top;\n",
       "    }\n",
       "\n",
       "    .dataframe thead th {\n",
       "        text-align: right;\n",
       "    }\n",
       "</style>\n",
       "<table border=\"1\" class=\"dataframe\">\n",
       "  <thead>\n",
       "    <tr style=\"text-align: right;\">\n",
       "      <th></th>\n",
       "      <th>PassengerId</th>\n",
       "      <th>Survived</th>\n",
       "      <th>Pclass</th>\n",
       "      <th>Name</th>\n",
       "      <th>Sex</th>\n",
       "      <th>Age</th>\n",
       "      <th>SibSp</th>\n",
       "      <th>Parch</th>\n",
       "      <th>Ticket</th>\n",
       "      <th>Fare</th>\n",
       "      <th>Cabin</th>\n",
       "      <th>Embarked</th>\n",
       "    </tr>\n",
       "  </thead>\n",
       "  <tbody>\n",
       "    <tr>\n",
       "      <th>0</th>\n",
       "      <td>1</td>\n",
       "      <td>0</td>\n",
       "      <td>3</td>\n",
       "      <td>Braund, Mr. Owen Harris</td>\n",
       "      <td>0</td>\n",
       "      <td>22.0</td>\n",
       "      <td>1</td>\n",
       "      <td>0</td>\n",
       "      <td>A/5 21171</td>\n",
       "      <td>7.2500</td>\n",
       "      <td>NaN</td>\n",
       "      <td>S</td>\n",
       "    </tr>\n",
       "    <tr>\n",
       "      <th>1</th>\n",
       "      <td>2</td>\n",
       "      <td>1</td>\n",
       "      <td>1</td>\n",
       "      <td>Cumings, Mrs. John Bradley (Florence Briggs Th...</td>\n",
       "      <td>1</td>\n",
       "      <td>38.0</td>\n",
       "      <td>1</td>\n",
       "      <td>0</td>\n",
       "      <td>PC 17599</td>\n",
       "      <td>71.2833</td>\n",
       "      <td>C85</td>\n",
       "      <td>C</td>\n",
       "    </tr>\n",
       "    <tr>\n",
       "      <th>2</th>\n",
       "      <td>3</td>\n",
       "      <td>1</td>\n",
       "      <td>3</td>\n",
       "      <td>Heikkinen, Miss. Laina</td>\n",
       "      <td>1</td>\n",
       "      <td>26.0</td>\n",
       "      <td>0</td>\n",
       "      <td>0</td>\n",
       "      <td>STON/O2. 3101282</td>\n",
       "      <td>7.9250</td>\n",
       "      <td>NaN</td>\n",
       "      <td>S</td>\n",
       "    </tr>\n",
       "    <tr>\n",
       "      <th>3</th>\n",
       "      <td>4</td>\n",
       "      <td>1</td>\n",
       "      <td>1</td>\n",
       "      <td>Futrelle, Mrs. Jacques Heath (Lily May Peel)</td>\n",
       "      <td>1</td>\n",
       "      <td>35.0</td>\n",
       "      <td>1</td>\n",
       "      <td>0</td>\n",
       "      <td>113803</td>\n",
       "      <td>53.1000</td>\n",
       "      <td>C123</td>\n",
       "      <td>S</td>\n",
       "    </tr>\n",
       "    <tr>\n",
       "      <th>4</th>\n",
       "      <td>5</td>\n",
       "      <td>0</td>\n",
       "      <td>3</td>\n",
       "      <td>Allen, Mr. William Henry</td>\n",
       "      <td>0</td>\n",
       "      <td>35.0</td>\n",
       "      <td>0</td>\n",
       "      <td>0</td>\n",
       "      <td>373450</td>\n",
       "      <td>8.0500</td>\n",
       "      <td>NaN</td>\n",
       "      <td>S</td>\n",
       "    </tr>\n",
       "  </tbody>\n",
       "</table>\n",
       "</div>"
      ],
      "text/plain": [
       "   PassengerId  Survived  Pclass  \\\n",
       "0            1         0       3   \n",
       "1            2         1       1   \n",
       "2            3         1       3   \n",
       "3            4         1       1   \n",
       "4            5         0       3   \n",
       "\n",
       "                                                Name  Sex   Age  SibSp  Parch  \\\n",
       "0                            Braund, Mr. Owen Harris    0  22.0      1      0   \n",
       "1  Cumings, Mrs. John Bradley (Florence Briggs Th...    1  38.0      1      0   \n",
       "2                             Heikkinen, Miss. Laina    1  26.0      0      0   \n",
       "3       Futrelle, Mrs. Jacques Heath (Lily May Peel)    1  35.0      1      0   \n",
       "4                           Allen, Mr. William Henry    0  35.0      0      0   \n",
       "\n",
       "             Ticket     Fare Cabin Embarked  \n",
       "0         A/5 21171   7.2500   NaN        S  \n",
       "1          PC 17599  71.2833   C85        C  \n",
       "2  STON/O2. 3101282   7.9250   NaN        S  \n",
       "3            113803  53.1000  C123        S  \n",
       "4            373450   8.0500   NaN        S  "
      ]
     },
     "execution_count": 12,
     "metadata": {},
     "output_type": "execute_result"
    }
   ],
   "source": [
    "df= train_df.replace(\"male\",0).replace(\"female\",1)\n",
    "df.head()"
   ]
  },
  {
   "cell_type": "code",
   "execution_count": 13,
   "metadata": {},
   "outputs": [],
   "source": [
    "#df[\"Age\"].fillna(df.Age.median(), inplace=True)"
   ]
  },
  {
   "cell_type": "code",
   "execution_count": null,
   "metadata": {},
   "outputs": [],
   "source": []
  },
  {
   "cell_type": "code",
   "execution_count": 14,
   "metadata": {},
   "outputs": [
    {
     "data": {
      "image/png": "[encoded data removed]",
      "text/plain": [
       "<Figure size 432x288 with 1 Axes>"
      ]
     },
     "metadata": {
      "needs_background": "light"
     },
     "output_type": "display_data"
    }
   ],
   "source": [
    "split_data = []\n",
    "for survived in [0,1]:\n",
    "    split_data.append(df[df.Survived==survived])\n",
    "\n",
    "temp = [i[\"Pclass\"].dropna() for i in split_data]\n",
    "plt.hist(temp, histtype=\"barstacked\")\n",
    "plt.legend([\"perished\", \"survived\"])\n",
    "plt.xticks([1,2,3])\n",
    "plt.show()"
   ]
  },
  {
   "cell_type": "code",
   "execution_count": 15,
   "metadata": {},
   "outputs": [
    {
     "data": {
      "image/png": "[encoded data removed]",
      "text/plain": [
       "<Figure size 432x288 with 1 Axes>"
      ]
     },
     "metadata": {
      "needs_background": "light"
     },
     "output_type": "display_data"
    }
   ],
   "source": [
    "df[\"Sex\"].value_counts().plot(kind='bar')\n",
    "plt.xticks([0, 1], ['male', 'female'])\n",
    "plt.show()"
   ]
  },
  {
   "cell_type": "code",
   "execution_count": 16,
   "metadata": {},
   "outputs": [
    {
     "data": {
      "image/png": "[encoded data removed]",
      "text/plain": [
       "<Figure size 432x288 with 1 Axes>"
      ]
     },
     "metadata": {
      "needs_background": "light"
     },
     "output_type": "display_data"
    }
   ],
   "source": [
    "df[\"Pclass\"].value_counts().plot(kind='bar')\n",
    "#plt.xticks([0, 1], ['male', 'female'])\n",
    "plt.show()"
   ]
  },
  {
   "cell_type": "code",
   "execution_count": 17,
   "metadata": {},
   "outputs": [
    {
     "data": {
      "text/plain": [
       "3    491\n",
       "1    216\n",
       "2    184\n",
       "Name: Pclass, dtype: int64"
      ]
     },
     "execution_count": 17,
     "metadata": {},
     "output_type": "execute_result"
    }
   ],
   "source": [
    "df[\"Pclass\"].value_counts()"
   ]
  },
  {
   "cell_type": "code",
   "execution_count": 18,
   "metadata": {},
   "outputs": [
    {
     "data": {
      "image/png": "[encoded data removed]",
      "text/plain": [
       "<Figure size 432x288 with 1 Axes>"
      ]
     },
     "metadata": {
      "needs_background": "light"
     },
     "output_type": "display_data"
    }
   ],
   "source": [
    "splitAsSex = [] \n",
    "\n",
    "for i in [0, 1]: # 0:male, 1:female\n",
    "    splitAsSex.append(df[df.Sex == i])\n",
    "\n",
    "tmp = [i[\"Age\"].dropna() for i in splitAsSex]\n",
    "\n",
    "plt.xlabel(\"Age\")\n",
    "plt.hist(tmp, histtype=\"barstacked\", bins=10, rwidth=0.5, color=['skyblue','pink'], label=['male','female'])\n",
    "plt.legend() \n",
    "plt.show()"
   ]
  },
  {
   "cell_type": "code",
   "execution_count": 19,
   "metadata": {},
   "outputs": [
    {
     "data": {
      "text/html": [
       "<div>\n",
       "<style scoped>\n",
       "    .dataframe tbody tr th:only-of-type {\n",
       "        vertical-align: middle;\n",
       "    }\n",
       "\n",
       "    .dataframe tbody tr th {\n",
       "        vertical-align: top;\n",
       "    }\n",
       "\n",
       "    .dataframe thead th {\n",
       "        text-align: right;\n",
       "    }\n",
       "</style>\n",
       "<table border=\"1\" class=\"dataframe\">\n",
       "  <thead>\n",
       "    <tr style=\"text-align: right;\">\n",
       "      <th></th>\n",
       "      <th>PassengerId</th>\n",
       "      <th>Survived</th>\n",
       "      <th>Pclass</th>\n",
       "      <th>Sex</th>\n",
       "      <th>Age</th>\n",
       "      <th>FamilySize</th>\n",
       "    </tr>\n",
       "  </thead>\n",
       "  <tbody>\n",
       "    <tr>\n",
       "      <th>0</th>\n",
       "      <td>1</td>\n",
       "      <td>0</td>\n",
       "      <td>3</td>\n",
       "      <td>0</td>\n",
       "      <td>22.0</td>\n",
       "      <td>2</td>\n",
       "    </tr>\n",
       "    <tr>\n",
       "      <th>1</th>\n",
       "      <td>2</td>\n",
       "      <td>1</td>\n",
       "      <td>1</td>\n",
       "      <td>1</td>\n",
       "      <td>38.0</td>\n",
       "      <td>2</td>\n",
       "    </tr>\n",
       "    <tr>\n",
       "      <th>2</th>\n",
       "      <td>3</td>\n",
       "      <td>1</td>\n",
       "      <td>3</td>\n",
       "      <td>1</td>\n",
       "      <td>26.0</td>\n",
       "      <td>1</td>\n",
       "    </tr>\n",
       "    <tr>\n",
       "      <th>3</th>\n",
       "      <td>4</td>\n",
       "      <td>1</td>\n",
       "      <td>1</td>\n",
       "      <td>1</td>\n",
       "      <td>35.0</td>\n",
       "      <td>2</td>\n",
       "    </tr>\n",
       "    <tr>\n",
       "      <th>4</th>\n",
       "      <td>5</td>\n",
       "      <td>0</td>\n",
       "      <td>3</td>\n",
       "      <td>0</td>\n",
       "      <td>35.0</td>\n",
       "      <td>1</td>\n",
       "    </tr>\n",
       "  </tbody>\n",
       "</table>\n",
       "</div>"
      ],
      "text/plain": [
       "   PassengerId  Survived  Pclass  Sex   Age  FamilySize\n",
       "0            1         0       3    0  22.0           2\n",
       "1            2         1       1    1  38.0           2\n",
       "2            3         1       3    1  26.0           1\n",
       "3            4         1       1    1  35.0           2\n",
       "4            5         0       3    0  35.0           1"
      ]
     },
     "execution_count": 19,
     "metadata": {},
     "output_type": "execute_result"
    }
   ],
   "source": [
    "df[\"FamilySize\"] = df[\"SibSp\"] + df[\"Parch\"] + 1\n",
    "df2 = df.drop([\"Name\", \"SibSp\", \"Parch\", \"Ticket\", \"Fare\", \"Cabin\", \"Embarked\"], axis=1)\n",
    "df2.head()"
   ]
  },
  {
   "cell_type": "code",
   "execution_count": 20,
   "metadata": {},
   "outputs": [],
   "source": [
    "df2[\"Age\"].fillna(df.Age.median(), inplace=True)"
   ]
  },
  {
   "cell_type": "code",
   "execution_count": 21,
   "metadata": {},
   "outputs": [],
   "source": [
    "train_data = df2.values\n",
    "xs = train_data[:, 2:]  #remove PassengerId and Surviced\n",
    "y  = train_data[:, 1]    # Surviced"
   ]
  },
  {
   "cell_type": "markdown",
   "metadata": {},
   "source": [
    "### RandomForest + GridSearchCV"
   ]
  },
  {
   "cell_type": "code",
   "execution_count": 22,
   "metadata": {},
   "outputs": [],
   "source": [
    "from sklearn.ensemble import RandomForestClassifier\n",
    "forest = RandomForestClassifier(n_estimators = 100)"
   ]
  },
  {
   "cell_type": "code",
   "execution_count": 23,
   "metadata": {},
   "outputs": [],
   "source": [
    "forest = forest.fit(xs, y)"
   ]
  },
  {
   "cell_type": "code",
   "execution_count": 24,
   "metadata": {},
   "outputs": [],
   "source": [
    "from sklearn.model_selection import GridSearchCV\n",
    "tuned_parameters = [\n",
    "    {\n",
    "        \"n_estimators\": [10, 20, 30, 40, 50, 70, 90, 110, 130, 150]\n",
    "    }\n",
    "]\n",
    "\n",
    "clf = GridSearchCV(RandomForestClassifier(), tuned_parameters, cv=5, scoring='accuracy', n_jobs=1,verbose=1)"
   ]
  },
  {
   "cell_type": "code",
   "execution_count": 25,
   "metadata": {},
   "outputs": [
    {
     "name": "stdout",
     "output_type": "stream",
     "text": [
      "Fitting 5 folds for each of 10 candidates, totalling 50 fits\n"
     ]
    },
    {
     "name": "stderr",
     "output_type": "stream",
     "text": [
      "[Parallel(n_jobs=1)]: Using backend SequentialBackend with 1 concurrent workers.\n",
      "[Parallel(n_jobs=1)]: Done  50 out of  50 | elapsed:    4.2s finished\n"
     ]
    },
    {
     "data": {
      "text/plain": [
       "GridSearchCV(cv=5, error_score='raise-deprecating',\n",
       "       estimator=RandomForestClassifier(bootstrap=True, class_weight=None, criterion='gini',\n",
       "            max_depth=None, max_features='auto', max_leaf_nodes=None,\n",
       "            min_impurity_decrease=0.0, min_impurity_split=None,\n",
       "            min_samples_leaf=1, min_samples_split=2,\n",
       "            min_weight_fraction_leaf=0.0, n_estimators='warn', n_jobs=None,\n",
       "            oob_score=False, random_state=None, verbose=0,\n",
       "            warm_start=False),\n",
       "       fit_params=None, iid='warn', n_jobs=1,\n",
       "       param_grid=[{'n_estimators': [10, 20, 30, 40, 50, 70, 90, 110, 130, 150]}],\n",
       "       pre_dispatch='2*n_jobs', refit=True, return_train_score='warn',\n",
       "       scoring='accuracy', verbose=1)"
      ]
     },
     "execution_count": 25,
     "metadata": {},
     "output_type": "execute_result"
    }
   ],
   "source": [
    "clf.fit(xs, y)"
   ]
  },
  {
   "cell_type": "code",
   "execution_count": 26,
   "metadata": {},
   "outputs": [
    {
     "name": "stdout",
     "output_type": "stream",
     "text": [
      "0.8114478114478114\n",
      "{'n_estimators': 20}\n"
     ]
    }
   ],
   "source": [
    "print(clf.best_score_)  \n",
    "print(clf.best_params_)  "
   ]
  },
  {
   "cell_type": "markdown",
   "metadata": {},
   "source": [
    "### RandomForest or SVC + optuna"
   ]
  },
  {
   "cell_type": "code",
   "execution_count": 27,
   "metadata": {},
   "outputs": [],
   "source": [
    "from functools import partial\n",
    "\n",
    "import optuna\n",
    "from sklearn.model_selection import StratifiedKFold\n",
    "from sklearn.model_selection import cross_validate\n",
    "from sklearn import datasets"
   ]
  },
  {
   "cell_type": "code",
   "execution_count": 28,
   "metadata": {},
   "outputs": [],
   "source": [
    "from sklearn.neural_network import MLPClassifier\n",
    "from sklearn.neighbors import KNeighborsClassifier\n",
    "from sklearn.svm import SVC\n",
    "from sklearn.gaussian_process import GaussianProcessClassifier\n",
    "from sklearn.gaussian_process.kernels import RBF, ConstantKernel, RationalQuadratic, ExpSineSquared\n",
    "\n",
    "from sklearn.tree import DecisionTreeClassifier\n",
    "from sklearn.ensemble import RandomForestClassifier, AdaBoostClassifier\n",
    "from sklearn.naive_bayes import GaussianNB\n",
    "from sklearn.discriminant_analysis import QuadraticDiscriminantAnalysis\n",
    "from sklearn.linear_model import SGDClassifier, LogisticRegression\n"
   ]
  },
  {
   "cell_type": "code",
   "execution_count": 29,
   "metadata": {},
   "outputs": [],
   "source": [
    "classifiers_dict = {\n",
    "    \"Logistic Regression\": LogisticRegression,\n",
    "    \"Nearest Neighbors\":  KNeighborsClassifier,\n",
    "    \"SVM\":SVC,\n",
    "    #\"Gaussian Process\":GaussianProcessClassifier\n",
    "    \"Decision Tree\": DecisionTreeClassifier,\n",
    "    \"Random Forest\":RandomForestClassifier,\n",
    "    \"AdaBoost\":AdaBoostClassifier,\n",
    "    \"Naive Bayes\":GaussianNB,\n",
    "    \"SGD\":SGDClassifier,\n",
    "    \"QDA\":QuadraticDiscriminantAnalysis\n",
    "}\n"
   ]
  },
  {
   "cell_type": "code",
   "execution_count": 30,
   "metadata": {},
   "outputs": [],
   "source": [
    "def objective(X, y, trial):\n",
    "    classifier = trial.suggest_categorical('classifier', classifiers_dict.keys())\n",
    "\n",
    "    if classifier == 'SVM':\n",
    "        params = {\n",
    "            'kernel': trial.suggest_categorical('kernel', ['rbf', 'sigmoid']),\n",
    "            'C': trial.suggest_loguniform('C_svm', 1e+0, 1e+2),\n",
    "            'gamma': trial.suggest_loguniform('gamma', 1e-2, 1e+1)\n",
    "        }\n",
    "    elif classifier == \"Logistic Regression\":\n",
    "        params = {\n",
    "             'C': trial.suggest_loguniform('C_lr', 1e+0, 1e+3)\n",
    "        }\n",
    "    elif classifier == \"Nearest Neighbors\":\n",
    "        params = {\n",
    "            \"n_neighbors\": int(trial.suggest_loguniform('n_neighbors_nn', 1e+0, 1e+2)),\n",
    "            \"algorithm\" : trial.suggest_categorical(\"algorithm_nn\", [\"auto\", \"ball_tree\", \"kd_tree\", \"brute\"]),\n",
    "        }\n",
    "    elif classifier == \"Random Forest\":\n",
    "        params = {\n",
    "            'n_estimators': int(trial.suggest_loguniform('n_estimators_rf', 1e+2, 1e+3)),\n",
    "            'max_depth': int(trial.suggest_loguniform('max_depth_rf', 2, 32))\n",
    "        }\n",
    "    elif classifier == \"Gaussian Process\":\n",
    "        params = {}\n",
    "        ker_rbf = ConstantKernel(1.0, constant_value_bounds=\"fixed\") * RBF(1.0, length_scale_bounds=\"fixed\")\n",
    "        ker_rq = ConstantKernel(1.0, constant_value_bounds=\"fixed\") * RationalQuadratic(alpha=0.1, length_scale=1)\n",
    "        ker_expsine = ConstantKernel(1.0, constant_value_bounds=\"fixed\") * ExpSineSquared(1.0, 5.0, periodicity_bounds=(1e-2, 1e1))\n",
    "        kernel_list = [ker_rbf , ker_rq, ker_expsine]\n",
    "        params = {\n",
    "           'kernel': trial.suggest_categorical('kernel_gp',  kernel_list),\n",
    "        }\n",
    "    elif classifier == \"Decision Tree\":\n",
    "         params = {\n",
    "            'max_depth': int(trial.suggest_loguniform('max_depth_rf', 2, 32)),\n",
    "            'criterion': trial.suggest_categorical('criterion', ['gini', 'entropy']),\n",
    "            \"splitter\" :   trial.suggest_categorical(\"splitter\", [\"best\", \"random\"])\n",
    "        }\n",
    "    elif classifier == \"AdaBoost\":\n",
    "        dtc_params = {\n",
    "            'max_depth': int(trial.suggest_loguniform('max_depth_rf', 2, 32)),\n",
    "            'criterion': trial.suggest_categorical('criterion', ['gini', 'entropy']),\n",
    "            \"splitter\" :   trial.suggest_categorical(\"splitter\", [\"best\", \"random\"])\n",
    "        }\n",
    "        params = {\n",
    "            \"base_estimator\": DecisionTreeClassifier(**dtc_params)\n",
    "        }\n",
    "    elif classifier == \"Naive Bayes\":\n",
    "        params = {} # there is no hyperparameter.\n",
    "    elif classifier == \"SGD\":\n",
    "        params = {\n",
    "            'loss': trial.suggest_categorical(\"loss_sgd\", [\"hinge\", \"log\", \"modified_huber\", \"squared_hinge\", \"perceptron\"]),\n",
    "            'penalty': trial.suggest_categorical(\"penalty\", [\"none\", \"l2\", \"l1\", \"elasticnet\"]),\n",
    "            'alpha':  trial.suggest_loguniform('alpha_sgd', 1e-6, 1e+0),\n",
    "            'l1_ratio': trial.suggest_uniform('l1_ratio', 0, 1),\n",
    "            \"tol\": trial.suggest_loguniform('tol_sgd', 1e-6, 1e+0)\n",
    "        }\n",
    "        \n",
    "    elif classifier == \"QDA\":\n",
    "        params = {\n",
    "            \"tol\": trial.suggest_loguniform('tol_qda', 1e-6, 1e+0),\n",
    "            \"reg_param\": trial.suggest_uniform(\"reg_param_qda\", 0, 1)\n",
    "        }\n",
    "        \n",
    "        \n",
    "    model = classifiers_dict[classifier](**params)\n",
    "        \n",
    "    kf = StratifiedKFold(n_splits=5, shuffle=True, random_state=0)\n",
    "    scores = cross_validate(model, X=X, y=y, cv=kf, n_jobs=-1)\n",
    "    return 1.0 - scores['test_score'].mean()"
   ]
  },
  {
   "cell_type": "code",
   "execution_count": 31,
   "metadata": {},
   "outputs": [
    {
     "name": "stderr",
     "output_type": "stream",
     "text": [
      "[I 2019-01-05 15:55:24,304] Finished a trial resulted in value: 0.22333470577742232. Current best value is 0.22333470577742232 with parameters: {'classifier': 'SGD', 'loss_sgd': 'log', 'penalty': 'none', 'alpha_sgd': 0.0011507554841872988, 'l1_ratio': 0.48960540065152747, 'tol_sgd': 0.0015384209477405813}.\n",
      "[I 2019-01-05 15:55:24,880] Finished a trial resulted in value: 0.21436477294206968. Current best value is 0.21436477294206968 with parameters: {'classifier': 'Naive Bayes'}.\n",
      "[I 2019-01-05 15:55:25,568] Finished a trial resulted in value: 0.34895270458371497. Current best value is 0.21436477294206968 with parameters: {'classifier': 'Naive Bayes'}.\n",
      "[I 2019-01-05 15:55:26,957] Finished a trial resulted in value: 0.19300968477406288. Current best value is 0.19300968477406288 with parameters: {'classifier': 'Random Forest', 'n_estimators_rf': 348.40770724003, 'max_depth_rf': 25.47107839041439}.\n",
      "[I 2019-01-05 15:55:27,140] Finished a trial resulted in value: 0.19747910037176553. Current best value is 0.19300968477406288 with parameters: {'classifier': 'Random Forest', 'n_estimators_rf': 348.40770724003, 'max_depth_rf': 25.47107839041439}.\n",
      "[I 2019-01-05 15:55:27,450] Finished a trial resulted in value: 0.2098389346429358. Current best value is 0.19300968477406288 with parameters: {'classifier': 'Random Forest', 'n_estimators_rf': 348.40770724003, 'max_depth_rf': 25.47107839041439}.\n",
      "[I 2019-01-05 15:55:28,055] Finished a trial resulted in value: 0.17054390987688084. Current best value is 0.17054390987688084 with parameters: {'classifier': 'Random Forest', 'n_estimators_rf': 360.193324206387, 'max_depth_rf': 4.410902655006975}.\n",
      "[I 2019-01-05 15:55:28,078] Finished a trial resulted in value: 0.2615184763955576. Current best value is 0.17054390987688084 with parameters: {'classifier': 'Random Forest', 'n_estimators_rf': 360.193324206387, 'max_depth_rf': 4.410902655006975}.\n",
      "[I 2019-01-05 15:55:28,104] Finished a trial resulted in value: 0.21093728001441236. Current best value is 0.17054390987688084 with parameters: {'classifier': 'Random Forest', 'n_estimators_rf': 360.193324206387, 'max_depth_rf': 4.410902655006975}.\n",
      "[I 2019-01-05 15:55:28,138] Finished a trial resulted in value: 0.2289653792999259. Current best value is 0.17054390987688084 with parameters: {'classifier': 'Random Forest', 'n_estimators_rf': 360.193324206387, 'max_depth_rf': 4.410902655006975}.\n",
      "[I 2019-01-05 15:55:28,190] Finished a trial resulted in value: 0.3838350910902135. Current best value is 0.17054390987688084 with parameters: {'classifier': 'Random Forest', 'n_estimators_rf': 360.193324206387, 'max_depth_rf': 4.410902655006975}.\n",
      "[I 2019-01-05 15:55:28,221] Finished a trial resulted in value: 0.1851572122291507. Current best value is 0.17054390987688084 with parameters: {'classifier': 'Random Forest', 'n_estimators_rf': 360.193324206387, 'max_depth_rf': 4.410902655006975}.\n",
      "[I 2019-01-05 15:55:28,248] Finished a trial resulted in value: 0.21436477294206968. Current best value is 0.17054390987688084 with parameters: {'classifier': 'Random Forest', 'n_estimators_rf': 360.193324206387, 'max_depth_rf': 4.410902655006975}.\n",
      "[I 2019-01-05 15:55:28,763] Finished a trial resulted in value: 0.19750420865122087. Current best value is 0.17054390987688084 with parameters: {'classifier': 'Random Forest', 'n_estimators_rf': 360.193324206387, 'max_depth_rf': 4.410902655006975}.\n",
      "[I 2019-01-05 15:55:29,708] Finished a trial resulted in value: 0.17616830632952052. Current best value is 0.17054390987688084 with parameters: {'classifier': 'Random Forest', 'n_estimators_rf': 360.193324206387, 'max_depth_rf': 4.410902655006975}.\n",
      "[I 2019-01-05 15:55:29,752] Finished a trial resulted in value: 0.20755401028517406. Current best value is 0.17054390987688084 with parameters: {'classifier': 'Random Forest', 'n_estimators_rf': 360.193324206387, 'max_depth_rf': 4.410902655006975}.\n",
      "[I 2019-01-05 15:55:29,838] Finished a trial resulted in value: 0.21322199159014488. Current best value is 0.17054390987688084 with parameters: {'classifier': 'Random Forest', 'n_estimators_rf': 360.193324206387, 'max_depth_rf': 4.410902655006975}.\n",
      "[I 2019-01-05 15:55:30,670] Finished a trial resulted in value: 0.17844053469286858. Current best value is 0.17054390987688084 with parameters: {'classifier': 'Random Forest', 'n_estimators_rf': 360.193324206387, 'max_depth_rf': 4.410902655006975}.\n",
      "[I 2019-01-05 15:55:32,069] Finished a trial resulted in value: 0.19862780415683878. Current best value is 0.17054390987688084 with parameters: {'classifier': 'Random Forest', 'n_estimators_rf': 360.193324206387, 'max_depth_rf': 4.410902655006975}.\n",
      "[I 2019-01-05 15:55:32,353] Finished a trial resulted in value: 0.1817862129302673. Current best value is 0.17054390987688084 with parameters: {'classifier': 'Random Forest', 'n_estimators_rf': 360.193324206387, 'max_depth_rf': 4.410902655006975}.\n",
      "[I 2019-01-05 15:55:32,897] Finished a trial resulted in value: 0.182928781500163. Current best value is 0.17054390987688084 with parameters: {'classifier': 'Random Forest', 'n_estimators_rf': 360.193324206387, 'max_depth_rf': 4.410902655006975}.\n",
      "[I 2019-01-05 15:55:33,105] Finished a trial resulted in value: 0.19749778972667076. Current best value is 0.17054390987688084 with parameters: {'classifier': 'Random Forest', 'n_estimators_rf': 360.193324206387, 'max_depth_rf': 4.410902655006975}.\n",
      "[I 2019-01-05 15:55:33,131] Finished a trial resulted in value: 0.23230478046746084. Current best value is 0.17054390987688084 with parameters: {'classifier': 'Random Forest', 'n_estimators_rf': 360.193324206387, 'max_depth_rf': 4.410902655006975}.\n",
      "[I 2019-01-05 15:55:33,974] Finished a trial resulted in value: 0.18741082216493665. Current best value is 0.17054390987688084 with parameters: {'classifier': 'Random Forest', 'n_estimators_rf': 360.193324206387, 'max_depth_rf': 4.410902655006975}.\n",
      "[I 2019-01-05 15:55:34,360] Finished a trial resulted in value: 0.17728548291058865. Current best value is 0.17054390987688084 with parameters: {'classifier': 'Random Forest', 'n_estimators_rf': 360.193324206387, 'max_depth_rf': 4.410902655006975}.\n",
      "[I 2019-01-05 15:55:34,388] Finished a trial resulted in value: 0.24577558517717824. Current best value is 0.17054390987688084 with parameters: {'classifier': 'Random Forest', 'n_estimators_rf': 360.193324206387, 'max_depth_rf': 4.410902655006975}.\n",
      "[I 2019-01-05 15:55:35,375] Finished a trial resulted in value: 0.1694265914411266. Current best value is 0.1694265914411266 with parameters: {'classifier': 'Random Forest', 'n_estimators_rf': 562.4117271647108, 'max_depth_rf': 5.032106505537931}.\n",
      "[I 2019-01-05 15:55:35,400] Finished a trial resulted in value: 0.2098389346429358. Current best value is 0.1694265914411266 with parameters: {'classifier': 'Random Forest', 'n_estimators_rf': 562.4117271647108, 'max_depth_rf': 5.032106505537931}.\n",
      "[I 2019-01-05 15:55:35,446] Finished a trial resulted in value: 0.2872541082003711. Current best value is 0.1694265914411266 with parameters: {'classifier': 'Random Forest', 'n_estimators_rf': 562.4117271647108, 'max_depth_rf': 5.032106505537931}.\n",
      "[I 2019-01-05 15:55:35,514] Finished a trial resulted in value: 0.21545662846165325. Current best value is 0.1694265914411266 with parameters: {'classifier': 'Random Forest', 'n_estimators_rf': 562.4117271647108, 'max_depth_rf': 5.032106505537931}.\n",
      "[I 2019-01-05 15:55:35,534] Finished a trial resulted in value: 0.21436477294206968. Current best value is 0.1694265914411266 with parameters: {'classifier': 'Random Forest', 'n_estimators_rf': 562.4117271647108, 'max_depth_rf': 5.032106505537931}.\n",
      "[I 2019-01-05 15:55:35,596] Finished a trial resulted in value: 0.22100541636655524. Current best value is 0.1694265914411266 with parameters: {'classifier': 'Random Forest', 'n_estimators_rf': 562.4117271647108, 'max_depth_rf': 5.032106505537931}.\n",
      "[I 2019-01-05 15:55:35,639] Finished a trial resulted in value: 0.21201636861223916. Current best value is 0.1694265914411266 with parameters: {'classifier': 'Random Forest', 'n_estimators_rf': 562.4117271647108, 'max_depth_rf': 5.032106505537931}.\n"
     ]
    },
    {
     "name": "stderr",
     "output_type": "stream",
     "text": [
      "[I 2019-01-05 15:55:35,818] Finished a trial resulted in value: 0.2064172222937406. Current best value is 0.1694265914411266 with parameters: {'classifier': 'Random Forest', 'n_estimators_rf': 562.4117271647108, 'max_depth_rf': 5.032106505537931}.\n",
      "[I 2019-01-05 15:55:35,845] Finished a trial resulted in value: 0.2009005290115885. Current best value is 0.1694265914411266 with parameters: {'classifier': 'Random Forest', 'n_estimators_rf': 562.4117271647108, 'max_depth_rf': 5.032106505537931}.\n",
      "[I 2019-01-05 15:55:35,891] Finished a trial resulted in value: 0.3838350910902135. Current best value is 0.1694265914411266 with parameters: {'classifier': 'Random Forest', 'n_estimators_rf': 562.4117271647108, 'max_depth_rf': 5.032106505537931}.\n",
      "[I 2019-01-05 15:55:35,937] Finished a trial resulted in value: 0.3175102942172583. Current best value is 0.1694265914411266 with parameters: {'classifier': 'Random Forest', 'n_estimators_rf': 562.4117271647108, 'max_depth_rf': 5.032106505537931}.\n",
      "[I 2019-01-05 15:55:37,694] Finished a trial resulted in value: 0.18741082216493665. Current best value is 0.1694265914411266 with parameters: {'classifier': 'Random Forest', 'n_estimators_rf': 562.4117271647108, 'max_depth_rf': 5.032106505537931}.\n",
      "[I 2019-01-05 15:55:37,717] Finished a trial resulted in value: 0.21436477294206968. Current best value is 0.1694265914411266 with parameters: {'classifier': 'Random Forest', 'n_estimators_rf': 562.4117271647108, 'max_depth_rf': 5.032106505537931}.\n",
      "[I 2019-01-05 15:55:37,749] Finished a trial resulted in value: 0.2098389346429358. Current best value is 0.1694265914411266 with parameters: {'classifier': 'Random Forest', 'n_estimators_rf': 562.4117271647108, 'max_depth_rf': 5.032106505537931}.\n",
      "[I 2019-01-05 15:55:37,919] Finished a trial resulted in value: 0.20202405358986342. Current best value is 0.1694265914411266 with parameters: {'classifier': 'Random Forest', 'n_estimators_rf': 562.4117271647108, 'max_depth_rf': 5.032106505537931}.\n",
      "[I 2019-01-05 15:55:39,347] Finished a trial resulted in value: 0.17616830632952052. Current best value is 0.1694265914411266 with parameters: {'classifier': 'Random Forest', 'n_estimators_rf': 562.4117271647108, 'max_depth_rf': 5.032106505537931}.\n",
      "[I 2019-01-05 15:55:39,376] Finished a trial resulted in value: 0.19411459092477545. Current best value is 0.1694265914411266 with parameters: {'classifier': 'Random Forest', 'n_estimators_rf': 562.4117271647108, 'max_depth_rf': 5.032106505537931}.\n",
      "[I 2019-01-05 15:55:39,410] Finished a trial resulted in value: 0.24798497191454527. Current best value is 0.1694265914411266 with parameters: {'classifier': 'Random Forest', 'n_estimators_rf': 562.4117271647108, 'max_depth_rf': 5.032106505537931}.\n",
      "[I 2019-01-05 15:55:39,482] Finished a trial resulted in value: 0.20648676655364395. Current best value is 0.1694265914411266 with parameters: {'classifier': 'Random Forest', 'n_estimators_rf': 562.4117271647108, 'max_depth_rf': 5.032106505537931}.\n",
      "[I 2019-01-05 15:55:41,143] Finished a trial resulted in value: 0.17054390987688084. Current best value is 0.1694265914411266 with parameters: {'classifier': 'Random Forest', 'n_estimators_rf': 562.4117271647108, 'max_depth_rf': 5.032106505537931}.\n",
      "[I 2019-01-05 15:55:41,173] Finished a trial resulted in value: 0.18513174931298004. Current best value is 0.1694265914411266 with parameters: {'classifier': 'Random Forest', 'n_estimators_rf': 562.4117271647108, 'max_depth_rf': 5.032106505537931}.\n",
      "[I 2019-01-05 15:55:42,213] Finished a trial resulted in value: 0.1694265914411266. Current best value is 0.1694265914411266 with parameters: {'classifier': 'Random Forest', 'n_estimators_rf': 562.4117271647108, 'max_depth_rf': 5.032106505537931}.\n",
      "[I 2019-01-05 15:55:42,236] Finished a trial resulted in value: 0.21436477294206968. Current best value is 0.1694265914411266 with parameters: {'classifier': 'Random Forest', 'n_estimators_rf': 562.4117271647108, 'max_depth_rf': 5.032106505537931}.\n",
      "[I 2019-01-05 15:55:42,263] Finished a trial resulted in value: 0.2098389346429358. Current best value is 0.1694265914411266 with parameters: {'classifier': 'Random Forest', 'n_estimators_rf': 562.4117271647108, 'max_depth_rf': 5.032106505537931}.\n",
      "[I 2019-01-05 15:55:42,965] Finished a trial resulted in value: 0.17054390987688084. Current best value is 0.1694265914411266 with parameters: {'classifier': 'Random Forest', 'n_estimators_rf': 562.4117271647108, 'max_depth_rf': 5.032106505537931}.\n",
      "[I 2019-01-05 15:55:43,010] Finished a trial resulted in value: 0.24019548285030035. Current best value is 0.1694265914411266 with parameters: {'classifier': 'Random Forest', 'n_estimators_rf': 562.4117271647108, 'max_depth_rf': 5.032106505537931}.\n",
      "[I 2019-01-05 15:55:43,981] Finished a trial resulted in value: 0.1694265914411266. Current best value is 0.1694265914411266 with parameters: {'classifier': 'Random Forest', 'n_estimators_rf': 562.4117271647108, 'max_depth_rf': 5.032106505537931}.\n",
      "[I 2019-01-05 15:55:44,152] Finished a trial resulted in value: 0.21094341522959004. Current best value is 0.1694265914411266 with parameters: {'classifier': 'Random Forest', 'n_estimators_rf': 562.4117271647108, 'max_depth_rf': 5.032106505537931}.\n",
      "[I 2019-01-05 15:55:44,215] Finished a trial resulted in value: 0.3838350910902135. Current best value is 0.1694265914411266 with parameters: {'classifier': 'Random Forest', 'n_estimators_rf': 562.4117271647108, 'max_depth_rf': 5.032106505537931}.\n",
      "[I 2019-01-05 15:55:45,672] Finished a trial resulted in value: 0.18067524249172018. Current best value is 0.1694265914411266 with parameters: {'classifier': 'Random Forest', 'n_estimators_rf': 562.4117271647108, 'max_depth_rf': 5.032106505537931}.\n",
      "[I 2019-01-05 15:55:45,721] Finished a trial resulted in value: 0.17838389920940845. Current best value is 0.1694265914411266 with parameters: {'classifier': 'Random Forest', 'n_estimators_rf': 562.4117271647108, 'max_depth_rf': 5.032106505537931}.\n",
      "[I 2019-01-05 15:55:48,282] Finished a trial resulted in value: 0.19862780415683878. Current best value is 0.1694265914411266 with parameters: {'classifier': 'Random Forest', 'n_estimators_rf': 562.4117271647108, 'max_depth_rf': 5.032106505537931}.\n",
      "[I 2019-01-05 15:55:48,313] Finished a trial resulted in value: 0.23233003060160218. Current best value is 0.1694265914411266 with parameters: {'classifier': 'Random Forest', 'n_estimators_rf': 562.4117271647108, 'max_depth_rf': 5.032106505537931}.\n",
      "[I 2019-01-05 15:55:48,354] Finished a trial resulted in value: 0.24347147497310961. Current best value is 0.1694265914411266 with parameters: {'classifier': 'Random Forest', 'n_estimators_rf': 562.4117271647108, 'max_depth_rf': 5.032106505537931}.\n",
      "[I 2019-01-05 15:55:48,386] Finished a trial resulted in value: 0.21094362801161926. Current best value is 0.1694265914411266 with parameters: {'classifier': 'Random Forest', 'n_estimators_rf': 562.4117271647108, 'max_depth_rf': 5.032106505537931}.\n",
      "[I 2019-01-05 15:55:48,799] Finished a trial resulted in value: 0.20085616395848338. Current best value is 0.1694265914411266 with parameters: {'classifier': 'Random Forest', 'n_estimators_rf': 562.4117271647108, 'max_depth_rf': 5.032106505537931}.\n",
      "[I 2019-01-05 15:55:48,836] Finished a trial resulted in value: 0.2536274193760025. Current best value is 0.1694265914411266 with parameters: {'classifier': 'Random Forest', 'n_estimators_rf': 562.4117271647108, 'max_depth_rf': 5.032106505537931}.\n",
      "[I 2019-01-05 15:55:48,860] Finished a trial resulted in value: 0.21436477294206968. Current best value is 0.1694265914411266 with parameters: {'classifier': 'Random Forest', 'n_estimators_rf': 562.4117271647108, 'max_depth_rf': 5.032106505537931}.\n",
      "[I 2019-01-05 15:55:49,607] Finished a trial resulted in value: 0.17279110088811667. Current best value is 0.1694265914411266 with parameters: {'classifier': 'Random Forest', 'n_estimators_rf': 562.4117271647108, 'max_depth_rf': 5.032106505537931}.\n"
     ]
    },
    {
     "name": "stderr",
     "output_type": "stream",
     "text": [
      "[I 2019-01-05 15:55:50,206] Finished a trial resulted in value: 0.18741082216493665. Current best value is 0.1694265914411266 with parameters: {'classifier': 'Random Forest', 'n_estimators_rf': 562.4117271647108, 'max_depth_rf': 5.032106505537931}.\n",
      "[I 2019-01-05 15:55:50,881] Finished a trial resulted in value: 0.18741082216493665. Current best value is 0.1694265914411266 with parameters: {'classifier': 'Random Forest', 'n_estimators_rf': 562.4117271647108, 'max_depth_rf': 5.032106505537931}.\n",
      "[I 2019-01-05 15:55:51,509] Finished a trial resulted in value: 0.17054390987688084. Current best value is 0.1694265914411266 with parameters: {'classifier': 'Random Forest', 'n_estimators_rf': 562.4117271647108, 'max_depth_rf': 5.032106505537931}.\n",
      "[I 2019-01-05 15:55:52,469] Finished a trial resulted in value: 0.17166750538249875. Current best value is 0.1694265914411266 with parameters: {'classifier': 'Random Forest', 'n_estimators_rf': 562.4117271647108, 'max_depth_rf': 5.032106505537931}.\n",
      "[I 2019-01-05 15:55:54,662] Finished a trial resulted in value: 0.17841535548607035. Current best value is 0.1694265914411266 with parameters: {'classifier': 'Random Forest', 'n_estimators_rf': 562.4117271647108, 'max_depth_rf': 5.032106505537931}.\n",
      "[I 2019-01-05 15:55:54,736] Finished a trial resulted in value: 0.28393396380648617. Current best value is 0.1694265914411266 with parameters: {'classifier': 'Random Forest', 'n_estimators_rf': 562.4117271647108, 'max_depth_rf': 5.032106505537931}.\n",
      "[I 2019-01-05 15:55:54,894] Finished a trial resulted in value: 0.20870243036087488. Current best value is 0.1694265914411266 with parameters: {'classifier': 'Random Forest', 'n_estimators_rf': 562.4117271647108, 'max_depth_rf': 5.032106505537931}.\n",
      "[I 2019-01-05 15:55:55,913] Finished a trial resulted in value: 0.17729810797765921. Current best value is 0.1694265914411266 with parameters: {'classifier': 'Random Forest', 'n_estimators_rf': 562.4117271647108, 'max_depth_rf': 5.032106505537931}.\n",
      "[I 2019-01-05 15:55:55,958] Finished a trial resulted in value: 0.2626108993338858. Current best value is 0.1694265914411266 with parameters: {'classifier': 'Random Forest', 'n_estimators_rf': 562.4117271647108, 'max_depth_rf': 5.032106505537931}.\n",
      "[I 2019-01-05 15:55:56,012] Finished a trial resulted in value: 0.18399567059497757. Current best value is 0.1694265914411266 with parameters: {'classifier': 'Random Forest', 'n_estimators_rf': 562.4117271647108, 'max_depth_rf': 5.032106505537931}.\n",
      "[I 2019-01-05 15:55:56,803] Finished a trial resulted in value: 0.17054390987688084. Current best value is 0.1694265914411266 with parameters: {'classifier': 'Random Forest', 'n_estimators_rf': 562.4117271647108, 'max_depth_rf': 5.032106505537931}.\n",
      "[I 2019-01-05 15:55:56,855] Finished a trial resulted in value: 0.26370896099599006. Current best value is 0.1694265914411266 with parameters: {'classifier': 'Random Forest', 'n_estimators_rf': 562.4117271647108, 'max_depth_rf': 5.032106505537931}.\n",
      "[I 2019-01-05 15:55:56,934] Finished a trial resulted in value: 0.3139824390991235. Current best value is 0.1694265914411266 with parameters: {'classifier': 'Random Forest', 'n_estimators_rf': 562.4117271647108, 'max_depth_rf': 5.032106505537931}.\n",
      "[I 2019-01-05 15:55:56,990] Finished a trial resulted in value: 0.2098389346429358. Current best value is 0.1694265914411266 with parameters: {'classifier': 'Random Forest', 'n_estimators_rf': 562.4117271647108, 'max_depth_rf': 5.032106505537931}.\n",
      "[I 2019-01-05 15:55:57,040] Finished a trial resulted in value: 0.21436477294206968. Current best value is 0.1694265914411266 with parameters: {'classifier': 'Random Forest', 'n_estimators_rf': 562.4117271647108, 'max_depth_rf': 5.032106505537931}.\n",
      "[I 2019-01-05 15:55:57,819] Finished a trial resulted in value: 0.17840907841620657. Current best value is 0.1694265914411266 with parameters: {'classifier': 'Random Forest', 'n_estimators_rf': 562.4117271647108, 'max_depth_rf': 5.032106505537931}.\n",
      "[I 2019-01-05 15:55:58,040] Finished a trial resulted in value: 0.20309065897530565. Current best value is 0.1694265914411266 with parameters: {'classifier': 'Random Forest', 'n_estimators_rf': 562.4117271647108, 'max_depth_rf': 5.032106505537931}.\n",
      "[I 2019-01-05 15:55:58,900] Finished a trial resulted in value: 0.1694203143712627. Current best value is 0.1694203143712627 with parameters: {'classifier': 'Random Forest', 'n_estimators_rf': 449.6836593646806, 'max_depth_rf': 5.284633213448163}.\n",
      "[I 2019-01-05 15:55:58,966] Finished a trial resulted in value: 0.1851508642319437. Current best value is 0.1694203143712627 with parameters: {'classifier': 'Random Forest', 'n_estimators_rf': 449.6836593646806, 'max_depth_rf': 5.284633213448163}.\n",
      "[I 2019-01-05 15:55:59,224] Finished a trial resulted in value: 0.2042016294138529. Current best value is 0.1694203143712627 with parameters: {'classifier': 'Random Forest', 'n_estimators_rf': 449.6836593646806, 'max_depth_rf': 5.284633213448163}.\n",
      "[I 2019-01-05 15:55:59,268] Finished a trial resulted in value: 0.20979449866248767. Current best value is 0.1694203143712627 with parameters: {'classifier': 'Random Forest', 'n_estimators_rf': 449.6836593646806, 'max_depth_rf': 5.284633213448163}.\n",
      "[I 2019-01-05 15:55:59,307] Finished a trial resulted in value: 0.2233725100512911. Current best value is 0.1694203143712627 with parameters: {'classifier': 'Random Forest', 'n_estimators_rf': 449.6836593646806, 'max_depth_rf': 5.284633213448163}.\n",
      "[I 2019-01-05 15:55:59,528] Finished a trial resulted in value: 0.1885281406006909. Current best value is 0.1694203143712627 with parameters: {'classifier': 'Random Forest', 'n_estimators_rf': 449.6836593646806, 'max_depth_rf': 5.284633213448163}.\n",
      "[I 2019-01-05 15:55:59,567] Finished a trial resulted in value: 0.2098389346429358. Current best value is 0.1694203143712627 with parameters: {'classifier': 'Random Forest', 'n_estimators_rf': 449.6836593646806, 'max_depth_rf': 5.284633213448163}.\n",
      "[I 2019-01-05 15:55:59,625] Finished a trial resulted in value: 0.34446445777642065. Current best value is 0.1694203143712627 with parameters: {'classifier': 'Random Forest', 'n_estimators_rf': 449.6836593646806, 'max_depth_rf': 5.284633213448163}.\n",
      "[I 2019-01-05 15:55:59,669] Finished a trial resulted in value: 0.2278043341571545. Current best value is 0.1694203143712627 with parameters: {'classifier': 'Random Forest', 'n_estimators_rf': 449.6836593646806, 'max_depth_rf': 5.284633213448163}.\n",
      "[I 2019-01-05 15:55:59,696] Finished a trial resulted in value: 0.21436477294206968. Current best value is 0.1694203143712627 with parameters: {'classifier': 'Random Forest', 'n_estimators_rf': 449.6836593646806, 'max_depth_rf': 5.284633213448163}.\n",
      "[I 2019-01-05 15:56:00,046] Finished a trial resulted in value: 0.1750510588211096. Current best value is 0.1694203143712627 with parameters: {'classifier': 'Random Forest', 'n_estimators_rf': 449.6836593646806, 'max_depth_rf': 5.284633213448163}.\n",
      "[I 2019-01-05 15:56:00,257] Finished a trial resulted in value: 0.21768520104532718. Current best value is 0.1694203143712627 with parameters: {'classifier': 'Random Forest', 'n_estimators_rf': 449.6836593646806, 'max_depth_rf': 5.284633213448163}.\n",
      "[I 2019-01-05 15:56:00,331] Finished a trial resulted in value: 0.1930540498271679. Current best value is 0.1694203143712627 with parameters: {'classifier': 'Random Forest', 'n_estimators_rf': 449.6836593646806, 'max_depth_rf': 5.284633213448163}.\n",
      "[I 2019-01-05 15:56:00,806] Finished a trial resulted in value: 0.19076256469016983. Current best value is 0.1694203143712627 with parameters: {'classifier': 'Random Forest', 'n_estimators_rf': 449.6836593646806, 'max_depth_rf': 5.284633213448163}.\n",
      "[I 2019-01-05 15:56:01,346] Finished a trial resulted in value: 0.17616816447483452. Current best value is 0.1694203143712627 with parameters: {'classifier': 'Random Forest', 'n_estimators_rf': 449.6836593646806, 'max_depth_rf': 5.284633213448163}.\n"
     ]
    },
    {
     "name": "stderr",
     "output_type": "stream",
     "text": [
      "[I 2019-01-05 15:56:01,391] Finished a trial resulted in value: 0.18743600137173488. Current best value is 0.1694203143712627 with parameters: {'classifier': 'Random Forest', 'n_estimators_rf': 449.6836593646806, 'max_depth_rf': 5.284633213448163}.\n",
      "[I 2019-01-05 15:56:01,437] Finished a trial resulted in value: 0.2278735237803422. Current best value is 0.1694203143712627 with parameters: {'classifier': 'Random Forest', 'n_estimators_rf': 449.6836593646806, 'max_depth_rf': 5.284633213448163}.\n",
      "[I 2019-01-05 15:56:01,485] Finished a trial resulted in value: 0.2615184763955576. Current best value is 0.1694203143712627 with parameters: {'classifier': 'Random Forest', 'n_estimators_rf': 449.6836593646806, 'max_depth_rf': 5.284633213448163}.\n"
     ]
    }
   ],
   "source": [
    "f = partial(objective, xs, y)\n",
    "study = optuna.create_study()\n",
    "study.optimize(f, n_trials=100)"
   ]
  },
  {
   "cell_type": "code",
   "execution_count": 32,
   "metadata": {},
   "outputs": [
    {
     "name": "stdout",
     "output_type": "stream",
     "text": [
      "params: {'classifier': 'Random Forest', 'n_estimators_rf': 449.6836593646806, 'max_depth_rf': 5.284633213448163}\n",
      "best test accuracy:  0.8305796856287373\n",
      "FrozenTrial(trial_id=82, state=<TrialState.COMPLETE: 1>, value=0.1694203143712627, datetime_start=datetime.datetime(2019, 1, 5, 15, 55, 58, 44889), datetime_complete=datetime.datetime(2019, 1, 5, 15, 55, 58, 893748), params={'classifier': 'Random Forest', 'n_estimators_rf': 449.6836593646806, 'max_depth_rf': 5.284633213448163}, user_attrs={}, system_attrs={}, intermediate_values={}, params_in_internal_repr={'classifier': 4, 'n_estimators_rf': 449.6836593646806, 'max_depth_rf': 5.284633213448163})\n"
     ]
    }
   ],
   "source": [
    "print('params:', study.best_params)\n",
    "print(\"best test accuracy: \", 1 - study.best_value)\n",
    "print(study.best_trial)"
   ]
  },
  {
   "cell_type": "code",
   "execution_count": null,
   "metadata": {},
   "outputs": [],
   "source": []
  },
  {
   "cell_type": "code",
   "execution_count": null,
   "metadata": {},
   "outputs": [],
   "source": []
  },
  {
   "cell_type": "code",
   "execution_count": null,
   "metadata": {},
   "outputs": [],
   "source": []
  },
  {
   "cell_type": "code",
   "execution_count": null,
   "metadata": {},
   "outputs": [],
   "source": []
  },
  {
   "cell_type": "markdown",
   "metadata": {},
   "source": [
    "## preparation for submitting to kaggle"
   ]
  },
  {
   "cell_type": "code",
   "execution_count": null,
   "metadata": {},
   "outputs": [],
   "source": [
    "test_df= pd.read_csv(dir_path/\"test.csv\").replace(\"male\",0).replace(\"female\",1)\n",
    "\n",
    "test_df[\"Age\"].fillna(df.Age.median(), inplace=True)\n",
    "test_df[\"FamilySize\"] = test_df[\"SibSp\"] + test_df[\"Parch\"] + 1\n",
    "test_df2 = test_df.drop([\"Name\", \"SibSp\", \"Parch\", \"Ticket\", \"Fare\", \"Cabin\", \"Embarked\"], axis=1)\n",
    "test_df2.head()"
   ]
  },
  {
   "cell_type": "code",
   "execution_count": null,
   "metadata": {},
   "outputs": [],
   "source": [
    "test_data = test_df2.values"
   ]
  },
  {
   "cell_type": "code",
   "execution_count": null,
   "metadata": {},
   "outputs": [],
   "source": [
    "output = forest.predict(xs_test)\n",
    "\n",
    "print(len(test_data[:,0]), len(output))\n",
    "zip_data = zip(test_data[:,0].astype(int), output.astype(int))\n",
    "predict_data = list(zip_data)"
   ]
  },
  {
   "cell_type": "code",
   "execution_count": null,
   "metadata": {},
   "outputs": [],
   "source": [
    "import csv\n",
    "with open(\"predict_result_data.csv\", \"w\") as f:\n",
    "    writer = csv.writer(f, lineterminator='\\n')\n",
    "    writer.writerow([\"PassengerId\", \"Survived\"])\n",
    "    for pid, survived in zip(test_data[:,0].astype(int), output.astype(int)):\n",
    "        writer.writerow([pid, survived])"
   ]
  },
  {
   "cell_type": "code",
   "execution_count": null,
   "metadata": {},
   "outputs": [],
   "source": []
  }
 ],
 "metadata": {
  "kernelspec": {
   "display_name": "Environment (conda_py3.6)",
   "language": "python",
   "name": "conda_py3.6"
  },
  "language_info": {
   "codemirror_mode": {
    "name": "ipython",
    "version": 3
   },
   "file_extension": ".py",
   "mimetype": "text/x-python",
   "name": "python",
   "nbconvert_exporter": "python",
   "pygments_lexer": "ipython3",
   "version": "3.6.7"
  }
 },
 "nbformat": 4,
 "nbformat_minor": 2
}
