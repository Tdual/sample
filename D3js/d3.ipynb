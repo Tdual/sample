{
 "cells": [
  {
   "cell_type": "code",
   "execution_count": 43,
   "metadata": {
    "collapsed": false
   },
   "outputs": [],
   "source": [
    "import twitter\n",
    "import pandas as pd\n",
    "\n",
    "s = pd.read_csv(\"secret.csv\")\n",
    "\n",
    "api = twitter.Api(\n",
    "    consumer_key=s[\"CK\"].values[0],\n",
    "    consumer_secret=s[\"CS\"].values[0],\n",
    "    access_token_key=s[\"AT\"].values[0],\n",
    "    access_token_secret=s[\"AS\"].values[0])\n",
    "\n",
    "users = api.GetFriends()"
   ]
  },
  {
   "cell_type": "code",
   "execution_count": 44,
   "metadata": {
    "collapsed": true
   },
   "outputs": [],
   "source": [
    "self_id = \"tdualdir\""
   ]
  },
  {
   "cell_type": "code",
   "execution_count": 45,
   "metadata": {
    "collapsed": false
   },
   "outputs": [
    {
     "data": {
      "text/html": [
       "<div>\n",
       "<table border=\"1\" class=\"dataframe\">\n",
       "  <thead>\n",
       "    <tr style=\"text-align: right;\">\n",
       "      <th></th>\n",
       "      <th>source</th>\n",
       "      <th>target</th>\n",
       "      <th>target_image</th>\n",
       "    </tr>\n",
       "    <tr>\n",
       "      <th>id</th>\n",
       "      <th></th>\n",
       "      <th></th>\n",
       "      <th></th>\n",
       "    </tr>\n",
       "  </thead>\n",
       "  <tbody>\n",
       "    <tr>\n",
       "      <th>0</th>\n",
       "      <td>tdualdir</td>\n",
       "      <td>cpa_gs0</td>\n",
       "      <td>http://pbs.twimg.com/profile_images/8277525933...</td>\n",
       "    </tr>\n",
       "    <tr>\n",
       "      <th>1</th>\n",
       "      <td>tdualdir</td>\n",
       "      <td>yohira_dev</td>\n",
       "      <td>http://pbs.twimg.com/profile_images/6963269437...</td>\n",
       "    </tr>\n",
       "    <tr>\n",
       "      <th>2</th>\n",
       "      <td>tdualdir</td>\n",
       "      <td>wps95</td>\n",
       "      <td>http://pbs.twimg.com/profile_images/5115213607...</td>\n",
       "    </tr>\n",
       "    <tr>\n",
       "      <th>3</th>\n",
       "      <td>tdualdir</td>\n",
       "      <td>tressss68</td>\n",
       "      <td>http://pbs.twimg.com/profile_images/8274815551...</td>\n",
       "    </tr>\n",
       "    <tr>\n",
       "      <th>4</th>\n",
       "      <td>tdualdir</td>\n",
       "      <td>_Ryobot</td>\n",
       "      <td>http://pbs.twimg.com/profile_images/7911594736...</td>\n",
       "    </tr>\n",
       "  </tbody>\n",
       "</table>\n",
       "</div>"
      ],
      "text/plain": [
       "      source      target                                       target_image\n",
       "id                                                                         \n",
       "0   tdualdir     cpa_gs0  http://pbs.twimg.com/profile_images/8277525933...\n",
       "1   tdualdir  yohira_dev  http://pbs.twimg.com/profile_images/6963269437...\n",
       "2   tdualdir       wps95  http://pbs.twimg.com/profile_images/5115213607...\n",
       "3   tdualdir   tressss68  http://pbs.twimg.com/profile_images/8274815551...\n",
       "4   tdualdir     _Ryobot  http://pbs.twimg.com/profile_images/7911594736..."
      ]
     },
     "execution_count": 45,
     "metadata": {},
     "output_type": "execute_result"
    }
   ],
   "source": [
    "name_list = [u.AsDict()[\"screen_name\"] for u in users]\n",
    "image_list = [u.AsDict()[\"profile_image_url\"] for u in users]\n",
    "df = pd.DataFrame()\n",
    "df[\"source\"] = [self_id]*len(name_list)\n",
    "df[\"target\"] = name_list\n",
    "df.index.name = \"id\"\n",
    "df[\"target_image\"] = image_list\n",
    "df.to_csv(\"tw.csv\")\n",
    "df.head()"
   ]
  },
  {
   "cell_type": "code",
   "execution_count": 9,
   "metadata": {
    "collapsed": true
   },
   "outputs": [],
   "source": [
    "import py_d3\n",
    "py_d3.load_ipython_extension(get_ipython())"
   ]
  },
  {
   "cell_type": "code",
   "execution_count": 25,
   "metadata": {
    "collapsed": false
   },
   "outputs": [
    {
     "data": {
      "text/html": [
       "\n",
       "<script>\n",
       "requirejs.config({\n",
       "    paths: {\n",
       "        d3: \"//cdnjs.cloudflare.com/ajax/libs/d3/3.5.17/d3\"\n",
       "    }\n",
       "});\n",
       "\n",
       "require(['d3'], function(d3) {\n",
       "    window.d3 = d3;\n",
       "});\n",
       "</script>\n",
       "<script>\n",
       "_select = d3.select;\n",
       "\n",
       "d3.select15 = function(selection) {\n",
       "    return _select(\"#d3-cell-15\").select(selection);\n",
       "}\n",
       "d3.selectAll15 = function(selection) {\n",
       "    return _select(\"#d3-cell-15\").selectAll(selection);\n",
       "}\n",
       "</script>\n",
       "<g id=\"d3-cell-15\">\n",
       "<span>image url: </span><span id=\"url\">https://pbs.twimg.com/profile_images/765535129435373569/jaTQWoSq_bigger.jpg</span>\n",
       "<div id=\"graph\"></div>\n",
       "<script type=\"text/javascript\" src=\"graph.js\"> </script>\n",
       "</g>"
      ],
      "text/plain": [
       "<IPython.core.display.HTML object>"
      ]
     },
     "metadata": {},
     "output_type": "display_data"
    }
   ],
   "source": [
    "%%d3\n",
    "<span>image url: </span><span id=\"url\">https://pbs.twimg.com/profile_images/765535129435373569/jaTQWoSq_bigger.jpg</span>\n",
    "<div id=\"graph\"></div>\n",
    "<script type=\"text/javascript\" src=\"graph.js\"> </script>"
   ]
  },
  {
   "cell_type": "code",
   "execution_count": null,
   "metadata": {
    "collapsed": true
   },
   "outputs": [],
   "source": []
  },
  {
   "cell_type": "code",
   "execution_count": null,
   "metadata": {
    "collapsed": true
   },
   "outputs": [],
   "source": []
  }
 ],
 "metadata": {
  "anaconda-cloud": {},
  "kernelspec": {
   "display_name": "Python [conda env:py2.7]",
   "language": "python",
   "name": "conda-env-py2.7-py"
  },
  "language_info": {
   "codemirror_mode": {
    "name": "ipython",
    "version": 2
   },
   "file_extension": ".py",
   "mimetype": "text/x-python",
   "name": "python",
   "nbconvert_exporter": "python",
   "pygments_lexer": "ipython2",
   "version": "2.7.12"
  }
 },
 "nbformat": 4,
 "nbformat_minor": 1
}
