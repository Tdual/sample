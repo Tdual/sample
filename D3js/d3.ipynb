{
 "cells": [
  {
   "cell_type": "code",
   "execution_count": null,
   "metadata": {},
   "outputs": [],
   "source": [
    "import twitter\n",
    "import pandas as pd\n",
    "\n",
    "s = pd.read_csv(\"secret.csv\")\n",
    "\n",
    "api = twitter.Api(\n",
    "    consumer_key=s[\"CK\"].values[0],\n",
    "    consumer_secret=s[\"CS\"].values[0],\n",
    "    access_token_key=s[\"AT\"].values[0],\n",
    "    access_token_secret=s[\"AS\"].values[0])\n",
    "\n",
    "users = api.GetFriends()"
   ]
  },
  {
   "cell_type": "code",
   "execution_count": null,
   "metadata": {},
   "outputs": [],
   "source": [
    "self_id = \"tdualdir\""
   ]
  },
  {
   "cell_type": "code",
   "execution_count": null,
   "metadata": {},
   "outputs": [],
   "source": [
    "name_list = [u.AsDict()[\"screen_name\"] for u in users]\n",
    "image_list = [u.AsDict()[\"profile_image_url\"] for u in users]\n",
    "df = pd.DataFrame()\n",
    "df[\"source\"] = [self_id]*len(name_list)\n",
    "df[\"target\"] = name_list\n",
    "df.index.name = \"id\"\n",
    "df[\"target_image\"] = image_list\n",
    "df.to_csv(\"tw.csv\")\n",
    "df.head()"
   ]
  },
  {
   "cell_type": "code",
   "execution_count": 1,
   "metadata": {},
   "outputs": [],
   "source": [
    "import py_d3\n",
    "%load_ext py_d3"
   ]
  },
  {
   "cell_type": "code",
   "execution_count": null,
   "metadata": {},
   "outputs": [],
   "source": [
    "%%d3\n",
    "<span>image url: </span><span id=\"url\">https://pbs.twimg.com/profile_images/765535129435373569/jaTQWoSq_bigger.jpg</span>\n",
    "<div id=\"graph\"></div>\n",
    "<script type=\"text/javascript\" src=\"graph.js\"> </script>"
   ]
  },
  {
   "cell_type": "code",
   "execution_count": 2,
   "metadata": {
    "scrolled": true
   },
   "outputs": [
    {
     "data": {
      "text/html": [
       "\n",
       "<script>\n",
       "requirejs.config({\n",
       "    paths: {\n",
       "        d3: \"//cdnjs.cloudflare.com/ajax/libs/d3/3.5.17/d3\"\n",
       "    }\n",
       "});\n",
       "\n",
       "require(['d3'], function(d3) {\n",
       "    window.d3 = d3;\n",
       "});\n",
       "</script>\n",
       "<script>\n",
       "_select = d3.select;\n",
       "\n",
       "d3.select0 = function(selection) {\n",
       "    return _select(\"#d3-cell-0\").select(selection);\n",
       "}\n",
       "d3.selectAll0 = function(selection) {\n",
       "    return _select(\"#d3-cell-0\").selectAll(selection);\n",
       "}\n",
       "</script>\n",
       "<g id=\"d3-cell-0\">\n",
       "<style>\n",
       "rect {\n",
       "  fill: none;\n",
       "}\n",
       "</style>\n",
       "<body>\n",
       "<div id=\"scatter\"></div>\n",
       "<script src=\"scatter.js\" charset=\"utf-8\"></script>\n",
       "</body>\n",
       "</g>"
      ],
      "text/plain": [
       "<IPython.core.display.HTML object>"
      ]
     },
     "metadata": {},
     "output_type": "display_data"
    }
   ],
   "source": [
    "%%d3\n",
    "<style>\n",
    "rect {\n",
    "  fill: none;\n",
    "}\n",
    "</style>\n",
    "<body>\n",
    "<div id=\"scatter\"></div>\n",
    "<script src=\"scatter.js\" charset=\"utf-8\"></script>\n",
    "</body>"
   ]
  },
  {
   "cell_type": "code",
   "execution_count": null,
   "metadata": {},
   "outputs": [],
   "source": []
  }
 ],
 "metadata": {
  "anaconda-cloud": {},
  "kernelspec": {
   "display_name": "Environment (conda_py36)",
   "language": "python",
   "name": "conda_py36"
  },
  "language_info": {
   "codemirror_mode": {
    "name": "ipython",
    "version": 3
   },
   "file_extension": ".py",
   "mimetype": "text/x-python",
   "name": "python",
   "nbconvert_exporter": "python",
   "pygments_lexer": "ipython3",
   "version": "3.6.3"
  }
 },
 "nbformat": 4,
 "nbformat_minor": 2
}
