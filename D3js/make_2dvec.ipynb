{
 "cells": [
  {
   "cell_type": "code",
   "execution_count": 1,
   "metadata": {},
   "outputs": [],
   "source": [
    "import codecs\n",
    "import numpy as np\n",
    "import pandas as pd\n",
    " \n",
    "from sklearn.manifold import TSNE\n",
    " \n",
    "def main():\n",
    "    file_name = \"vector.txt\"\n",
    "    max_vec_num = 10000\n",
    "    csv_path = \"statics/vec.csv\"\n",
    "\n",
    "    vocabulary, vectors = read_w2v(file_name, max_vec_num)\n",
    "    print(vectors.shape)\n",
    "    vecs_2d = to_2d(vectors) \n",
    "    to_csv(vecs_2d, vocabulary, csv_path)\n",
    "\n",
    "def read_w2v(file_name, max_vec_num):\n",
    "    vocabulary = []\n",
    "    vectors = np.empty((0,100), np.float32)\n",
    "    with codecs.open(file_name, 'r', 'utf-8') as f:\n",
    "        company_num = 0\n",
    "        for i,line in enumerate(f):\n",
    "            if i == 0:\n",
    "                continue\n",
    "            vocab , wv = line.strip().split(' ', 1)\n",
    "            v = np.fromstring(wv, sep=' ', dtype=np.float32)\n",
    "            if v.shape[0] == 100:\n",
    "                vocabulary.append(vocab)\n",
    "                vectors= np.append(vectors, np.array([v]), axis=0)\n",
    "            if \"<\" in vocab:\n",
    "                company_num += 1\n",
    "            #if company_num == 100:\n",
    "            #    break\n",
    "            if len(vectors) == max_vec_num:\n",
    "                break\n",
    "    return vocabulary, vectors\n",
    "        \n",
    "\n",
    "def to_2d(vectors):\n",
    "    tsne = TSNE(n_components=2, random_state=0,n_iter=2000)\n",
    "    np.set_printoptions(suppress=True)\n",
    "    Y = tsne.fit_transform(vectors)\n",
    "    return Y\n",
    "\n",
    "def to_csv(Y, vocabulary, csv_path):\n",
    "    df = pd.DataFrame(data=Y, columns=[\"x\",\"y\"])\n",
    "    df.index.name = \"index\"\n",
    "    df[\"vocab\"] = vocabulary\n",
    "    df.to_csv(csv_path)\n",
    "    print(\"finish\")"
   ]
  },
  {
   "cell_type": "code",
   "execution_count": null,
   "metadata": {},
   "outputs": [],
   "source": []
  }
 ],
 "metadata": {
  "kernelspec": {
   "display_name": "Environment (conda_py36)",
   "language": "python",
   "name": "conda_py36"
  },
  "language_info": {
   "codemirror_mode": {
    "name": "ipython",
    "version": 3
   },
   "file_extension": ".py",
   "mimetype": "text/x-python",
   "name": "python",
   "nbconvert_exporter": "python",
   "pygments_lexer": "ipython3",
   "version": "3.6.3"
  }
 },
 "nbformat": 4,
 "nbformat_minor": 2
}
