{
 "cells": [
  {
   "cell_type": "markdown",
   "metadata": {},
   "source": [
    "# make 2d vectors using t-SNE and UMAP\n",
    "\n",
    "I tried two modules of t-SNE, scikit-learn and bhtsne \n",
    "\n",
    "https://github.com/dominiek/python-bhtsne\n",
    "```\n",
    "pip install bhtsne\n",
    "```\n",
    "\n",
    "\n",
    "https://pypi.python.org/pypi/umap-learn/0.1.5\n",
    "```\n",
    "pip install umap-learn\n",
    "```"
   ]
  },
  {
   "cell_type": "code",
   "execution_count": 17,
   "metadata": {},
   "outputs": [],
   "source": [
    "import codecs\n",
    "import numpy as np\n",
    "import pandas as pd\n",
    "import pickle\n",
    "from sklearn.manifold import TSNE\n",
    "import bhtsne\n",
    "import umap\n",
    " \n",
    "def to_2d(vectors):\n",
    "    tsne = TSNE(n_components=2, random_state=0, verbose=3)\n",
    "    vecs_2d = tsne.fit_transform(vectors)\n",
    "    return vecs_2d\n",
    "\n",
    "def to_2d_umap(vectors):\n",
    "    vecs_2d = umap.UMAP().fit_transform(vectors)\n",
    "    return vecs_2d\n",
    "\n",
    "def to_csv(Y, vocabulary, csv_path):\n",
    "    df = pd.DataFrame(data=Y, columns=[\"x\",\"y\"])\n",
    "    df.index.name = \"index\"\n",
    "    df[\"vocab\"] = vocabulary\n",
    "    df.to_csv(csv_path)\n",
    "    print(\"finish\")"
   ]
  },
  {
   "cell_type": "code",
   "execution_count": 9,
   "metadata": {},
   "outputs": [],
   "source": [
    "with open(\"mnist_feature.pkl\", \"rb\") as f:\n",
    "    feature = pickle.load(f)"
   ]
  },
  {
   "cell_type": "code",
   "execution_count": 3,
   "metadata": {},
   "outputs": [
    {
     "name": "stdout",
     "output_type": "stream",
     "text": [
      "[t-SNE] Computing 91 nearest neighbors...\n",
      "[t-SNE] Indexed 10000 samples in 0.668s...\n",
      "[t-SNE] Computed neighbors for 10000 samples in 197.362s...\n",
      "[t-SNE] Computed conditional probabilities for sample 1000 / 10000\n",
      "[t-SNE] Computed conditional probabilities for sample 2000 / 10000\n",
      "[t-SNE] Computed conditional probabilities for sample 3000 / 10000\n",
      "[t-SNE] Computed conditional probabilities for sample 4000 / 10000\n",
      "[t-SNE] Computed conditional probabilities for sample 5000 / 10000\n",
      "[t-SNE] Computed conditional probabilities for sample 6000 / 10000\n",
      "[t-SNE] Computed conditional probabilities for sample 7000 / 10000\n",
      "[t-SNE] Computed conditional probabilities for sample 8000 / 10000\n",
      "[t-SNE] Computed conditional probabilities for sample 9000 / 10000\n",
      "[t-SNE] Computed conditional probabilities for sample 10000 / 10000\n",
      "[t-SNE] Mean sigma: 4.385861\n",
      "[t-SNE] Computed conditional probabilities in 0.371s\n",
      "[t-SNE] Iteration 50: error = 95.5624847, gradient norm = 0.0004832 (50 iterations in 18.282s)\n",
      "[t-SNE] Iteration 100: error = 90.9072342, gradient norm = 0.0023363 (50 iterations in 20.462s)\n",
      "[t-SNE] Iteration 150: error = 90.4499893, gradient norm = 0.0000707 (50 iterations in 20.072s)\n",
      "[t-SNE] Iteration 200: error = 90.4493484, gradient norm = 0.0000137 (50 iterations in 19.608s)\n",
      "[t-SNE] Iteration 250: error = 90.4494629, gradient norm = 0.0000104 (50 iterations in 18.737s)\n",
      "[t-SNE] KL divergence after 250 iterations with early exaggeration: 90.449463\n",
      "[t-SNE] Iteration 300: error = 3.2838922, gradient norm = 0.0010595 (50 iterations in 15.684s)\n",
      "[t-SNE] Iteration 350: error = 2.9146466, gradient norm = 0.0004985 (50 iterations in 14.759s)\n",
      "[t-SNE] Iteration 400: error = 2.7426226, gradient norm = 0.0003030 (50 iterations in 12.961s)\n",
      "[t-SNE] Iteration 450: error = 2.6394982, gradient norm = 0.0002057 (50 iterations in 14.576s)\n",
      "[t-SNE] Iteration 500: error = 2.5710213, gradient norm = 0.0001581 (50 iterations in 14.460s)\n",
      "[t-SNE] Iteration 550: error = 2.5216300, gradient norm = 0.0001263 (50 iterations in 14.432s)\n",
      "[t-SNE] Iteration 600: error = 2.4848943, gradient norm = 0.0001037 (50 iterations in 14.121s)\n",
      "[t-SNE] Iteration 650: error = 2.4564376, gradient norm = 0.0000890 (50 iterations in 15.050s)\n",
      "[t-SNE] Iteration 700: error = 2.4339035, gradient norm = 0.0000783 (50 iterations in 14.414s)\n",
      "[t-SNE] Iteration 750: error = 2.4156437, gradient norm = 0.0000716 (50 iterations in 16.218s)\n",
      "[t-SNE] Iteration 800: error = 2.3996594, gradient norm = 0.0000703 (50 iterations in 14.577s)\n",
      "[t-SNE] Iteration 850: error = 2.3876042, gradient norm = 0.0000599 (50 iterations in 15.921s)\n",
      "[t-SNE] Iteration 900: error = 2.3785710, gradient norm = 0.0000575 (50 iterations in 15.806s)\n",
      "[t-SNE] Iteration 950: error = 2.3715107, gradient norm = 0.0000542 (50 iterations in 15.031s)\n",
      "[t-SNE] Iteration 1000: error = 2.3662310, gradient norm = 0.0000521 (50 iterations in 14.377s)\n",
      "[t-SNE] Error after 1000 iterations: 2.366231\n",
      "CPU times: user 8min 9s, sys: 27.6 s, total: 8min 36s\n",
      "Wall time: 8min 37s\n"
     ]
    }
   ],
   "source": [
    "%%time\n",
    "vecs_2d = to_2d(feature)"
   ]
  },
  {
   "cell_type": "code",
   "execution_count": 12,
   "metadata": {},
   "outputs": [],
   "source": [
    "with open(\"../../image_recommender/obj/img_name.pickle\", \"rb\") as f:\n",
    "    name = pickle.load(f)"
   ]
  },
  {
   "cell_type": "code",
   "execution_count": 13,
   "metadata": {},
   "outputs": [
    {
     "data": {
      "text/plain": [
       "12442"
      ]
     },
     "execution_count": 13,
     "metadata": {},
     "output_type": "execute_result"
    }
   ],
   "source": [
    "len(name)"
   ]
  },
  {
   "cell_type": "code",
   "execution_count": 14,
   "metadata": {},
   "outputs": [
    {
     "ename": "NameError",
     "evalue": "name 'vecs_2d' is not defined",
     "output_type": "error",
     "traceback": [
      "\u001b[0;31m---------------------------------------------------------------------------\u001b[0m",
      "\u001b[0;31mNameError\u001b[0m                                 Traceback (most recent call last)",
      "\u001b[0;32m<ipython-input-14-19d757682721>\u001b[0m in \u001b[0;36m<module>\u001b[0;34m()\u001b[0m\n\u001b[0;32m----> 1\u001b[0;31m \u001b[0mlen\u001b[0m\u001b[0;34m(\u001b[0m\u001b[0mvecs_2d\u001b[0m\u001b[0;34m)\u001b[0m\u001b[0;34m\u001b[0m\u001b[0m\n\u001b[0m",
      "\u001b[0;31mNameError\u001b[0m: name 'vecs_2d' is not defined"
     ]
    }
   ],
   "source": [
    "len(vecs_2d)"
   ]
  },
  {
   "cell_type": "code",
   "execution_count": 9,
   "metadata": {},
   "outputs": [
    {
     "name": "stdout",
     "output_type": "stream",
     "text": [
      "finish\n"
     ]
    }
   ],
   "source": [
    "to_csv(vecs_2d, name[:10000], \"fashion_vec.csv\")"
   ]
  },
  {
   "cell_type": "code",
   "execution_count": null,
   "metadata": {},
   "outputs": [],
   "source": []
  },
  {
   "cell_type": "code",
   "execution_count": null,
   "metadata": {},
   "outputs": [],
   "source": []
  },
  {
   "cell_type": "code",
   "execution_count": 4,
   "metadata": {},
   "outputs": [],
   "source": []
  },
  {
   "cell_type": "code",
   "execution_count": 11,
   "metadata": {},
   "outputs": [
    {
     "name": "stdout",
     "output_type": "stream",
     "text": [
      "CPU times: user 3min 56s, sys: 3.53 s, total: 4min\n",
      "Wall time: 4min\n"
     ]
    }
   ],
   "source": [
    "%%time\n",
    "vecs_2d = bhtsne.tsne(feature.astype(np.float64), dimensions=2, perplexity=30.0, theta=0.5, rand_seed=-1)"
   ]
  },
  {
   "cell_type": "code",
   "execution_count": 12,
   "metadata": {},
   "outputs": [
    {
     "name": "stdout",
     "output_type": "stream",
     "text": [
      "finish\n"
     ]
    }
   ],
   "source": [
    "to_csv(vecs_2d, name[:10000], \"fashion_vec2.csv\")"
   ]
  },
  {
   "cell_type": "code",
   "execution_count": null,
   "metadata": {},
   "outputs": [],
   "source": []
  },
  {
   "cell_type": "code",
   "execution_count": 11,
   "metadata": {},
   "outputs": [],
   "source": [
    "vecs_2d_umap = to_2d_umap(feature)"
   ]
  },
  {
   "cell_type": "code",
   "execution_count": 16,
   "metadata": {},
   "outputs": [
    {
     "name": "stdout",
     "output_type": "stream",
     "text": [
      "finish\n"
     ]
    }
   ],
   "source": [
    "to_csv(vecs_2d_umap, name[:10000], \"fashion_vec_umap.csv\")"
   ]
  },
  {
   "cell_type": "code",
   "execution_count": null,
   "metadata": {},
   "outputs": [],
   "source": []
  }
 ],
 "metadata": {
  "kernelspec": {
   "display_name": "Python 3",
   "language": "python",
   "name": "python3"
  },
  "language_info": {
   "codemirror_mode": {
    "name": "ipython",
    "version": 3
   },
   "file_extension": ".py",
   "mimetype": "text/x-python",
   "name": "python",
   "nbconvert_exporter": "python",
   "pygments_lexer": "ipython3",
   "version": "3.6.3"
  }
 },
 "nbformat": 4,
 "nbformat_minor": 2
}
