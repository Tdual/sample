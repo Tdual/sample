{
 "cells": [
  {
   "cell_type": "code",
   "execution_count": 37,
   "metadata": {},
   "outputs": [],
   "source": [
    "import tensorflow as tf\n",
    "from tensorflow.examples.tutorials.mnist import input_data\n",
    "import matplotlib.pyplot as plt\n",
    "import numpy as np\n",
    "from tqdm import tqdm_notebook as tqdm\n",
    "%matplotlib inline"
   ]
  },
  {
   "cell_type": "code",
   "execution_count": 38,
   "metadata": {},
   "outputs": [
    {
     "name": "stdout",
     "output_type": "stream",
     "text": [
      "Extracting MNIST_data/train-images-idx3-ubyte.gz\n",
      "Extracting MNIST_data/train-labels-idx1-ubyte.gz\n",
      "Extracting MNIST_data/t10k-images-idx3-ubyte.gz\n",
      "Extracting MNIST_data/t10k-labels-idx1-ubyte.gz\n"
     ]
    }
   ],
   "source": [
    "mnist = input_data.read_data_sets('MNIST_data', one_hot=True)"
   ]
  },
  {
   "cell_type": "code",
   "execution_count": 39,
   "metadata": {},
   "outputs": [],
   "source": [
    "img, label = mnist.train.next_batch(10)"
   ]
  },
  {
   "cell_type": "code",
   "execution_count": 40,
   "metadata": {},
   "outputs": [
    {
     "data": {
      "image/png": "[encoded data removed]",
      "text/plain": [
       "<matplotlib.figure.Figure at 0x1c2dd522b0>"
      ]
     },
     "metadata": {},
     "output_type": "display_data"
    }
   ],
   "source": [
    "dim = 28\n",
    "\n",
    "fig, axs = plt.subplots(1, len(img), figsize=(20, 3))\n",
    "for i, (img, label )in enumerate(zip(img, label)):  \n",
    "        axs[i].imshow(np.reshape(img, (dim, dim)),cmap='gray')\n",
    "        axs[i].axis('off')\n",
    "plt.show()"
   ]
  },
  {
   "cell_type": "code",
   "execution_count": 41,
   "metadata": {},
   "outputs": [],
   "source": [
    "class CNN:\n",
    "    def __init__(self):\n",
    "        with tf.name_scope(\"input\"):\n",
    "            self.x = tf.placeholder(tf.float32, shape=[None, dim*dim])\n",
    "            self.y = tf.placeholder(tf.float32, shape=[None, 10])\n",
    "\n",
    "        with tf.name_scope(\"input_reshape\"):\n",
    "            x_image = tf.reshape(self.x, [-1, dim, dim, 1])\n",
    "\n",
    "        with tf.name_scope(\"conv_1\"):\n",
    "            filt = tf.Variable(tf.truncated_normal([5, 5, 1, 32], stddev=0.01))\n",
    "            conv = tf.nn.conv2d(x_image, filt, strides=[1,1,1,1], padding=\"SAME\")\n",
    "            b = tf.Variable(tf.constant(0.1, shape=[32]))\n",
    "            h = tf.nn.bias_add(conv, b)\n",
    "            h_act_1 = tf.nn.relu(h)\n",
    "\n",
    "        with tf.name_scope(\"pool_1\"):\n",
    "            h_pool_1 = tf.nn.max_pool(h_act_1, ksize=[1, 2, 2, 1], strides=[1, 2, 2, 1], padding=\"SAME\")\n",
    "\n",
    "        with tf.name_scope(\"conv_2\"): \n",
    "            filt = tf.Variable(tf.truncated_normal([5, 5, 32, 64], stddev=0.01))\n",
    "            conv = tf.nn.conv2d(h_pool_1, filt, strides=[1,1,1,1], padding='SAME')\n",
    "            b = tf.Variable(tf.constant(0.1, shape=[64]))\n",
    "            h = tf.nn.bias_add(conv, b)\n",
    "            h_act_2 = tf.nn.relu(h)\n",
    "\n",
    "        with tf.name_scope(\"pool_2\"):\n",
    "            h_pool_2 = h_pool_1 = tf.nn.max_pool(h_act_2, ksize=[1, 2, 2, 1], strides=[1, 2, 2, 1], padding=\"SAME\")\n",
    "\n",
    "        with tf.name_scope(\"flatten\"):\n",
    "            h_dim = int(h_pool_2.shape[1] * h_pool_2.shape[2] * h_pool_2.shape[3])\n",
    "            h_flatten = tf.reshape(h_pool_2, [-1, h_dim])\n",
    "\n",
    "        with tf.name_scope(\"fc_1\"):\n",
    "            W = tf.Variable(tf.truncated_normal([h_dim, 1024], stddev=0.01))\n",
    "            b = tf.Variable(tf.constant(0.1, shape=[1024]))\n",
    "            h = tf.nn.bias_add(tf.matmul(h_flatten, W), b)\n",
    "            h_act_3 = tf.nn.relu(h) \n",
    "               \n",
    "        with tf.name_scope(\"fc_2\"):\n",
    "            W = tf.Variable(tf.truncated_normal([h_dim, 10], stddev=0.01))\n",
    "            b = tf.Variable(tf.constant(0.1, shape=[10]))\n",
    "            output = tf.nn.bias_add(tf.matmul(h_flatten, W), b)\n",
    "                    \n",
    "        with tf.name_scope(\"loss\"):\n",
    "            self.loss = tf.reduce_mean(\n",
    "                tf.nn.softmax_cross_entropy_with_logits(labels=self.y, logits=output))\n",
    "\n",
    "        with tf.name_scope(\"accuracy\"):\n",
    "            correct = tf.equal(tf.argmax(output, 1), tf.argmax(self.y, 1))\n",
    "            self.accuracy = tf.reduce_mean(tf.cast(correct, tf.float32))\n"
   ]
  },
  {
   "cell_type": "code",
   "execution_count": 46,
   "metadata": {},
   "outputs": [],
   "source": [
    "n_iter = 1000\n",
    "batch_size = 50"
   ]
  },
  {
   "cell_type": "code",
   "execution_count": 47,
   "metadata": {},
   "outputs": [
    {
     "data": {
      "application/vnd.jupyter.widget-view+json": {
       "model_id": "7c7b0706376b4ad3afbb4d2ca1eec519",
       "version_major": 2,
       "version_minor": 0
      },
      "text/html": [
       "<p>Failed to display Jupyter Widget of type <code>HBox</code>.</p>\n",
       "<p>\n",
       "  If you're reading this message in the Jupyter Notebook or JupyterLab Notebook, it may mean\n",
       "  that the widgets JavaScript is still loading. If this message persists, it\n",
       "  likely means that the widgets JavaScript library is either not installed or\n",
       "  not enabled. See the <a href=\"https://ipywidgets.readthedocs.io/en/stable/user_install.html\">Jupyter\n",
       "  Widgets Documentation</a> for setup instructions.\n",
       "</p>\n",
       "<p>\n",
       "  If you're reading this message in another frontend (for example, a static\n",
       "  rendering on GitHub or <a href=\"https://nbviewer.jupyter.org/\">NBViewer</a>),\n",
       "  it may mean that your frontend doesn't currently support widgets.\n",
       "</p>\n"
      ],
      "text/plain": [
       "HBox(children=(IntProgress(value=0, max=1000), HTML(value='')))"
      ]
     },
     "metadata": {},
     "output_type": "display_data"
    },
    {
     "name": "stdout",
     "output_type": "stream",
     "text": [
      "step 0, training loss 2.28539, training accuracy 0.16\n",
      "step 100, training loss 2.2638, training accuracy 0.2\n",
      "step 200, training loss 0.796172, training accuracy 0.86\n",
      "step 300, training loss 0.570989, training accuracy 0.78\n",
      "step 400, training loss 0.308688, training accuracy 0.94\n",
      "step 500, training loss 0.269762, training accuracy 0.92\n",
      "step 600, training loss 0.447148, training accuracy 0.86\n",
      "step 700, training loss 0.452913, training accuracy 0.88\n",
      "step 800, training loss 0.231707, training accuracy 0.92\n",
      "step 900, training loss 0.336828, training accuracy 0.9\n",
      "\n",
      "test accuracy 0.9284\n"
     ]
    }
   ],
   "source": [
    "with tf.Session() as sess:\n",
    "    cnn = CNN()\n",
    "    opt = tf.train.AdamOptimizer(1e-4).minimize(cnn.loss)\n",
    "    \n",
    "    sess.run(tf.global_variables_initializer())\n",
    "\n",
    "    for i in tqdm(range(n_iter)):\n",
    "        batch = mnist.train.next_batch(batch_size)\n",
    "        _ = sess.run(opt, feed_dict={cnn.x: batch[0], cnn.y: batch[1]})\n",
    "        \n",
    "        if i % 100 == 0:\n",
    "            train_loss, train_accuracy = sess.run([cnn.loss, cnn.accuracy], feed_dict={cnn.x: batch[0], cnn.y: batch[1]})\n",
    "            print('step %d, training loss %g, training accuracy %g' % (i, train_loss, train_accuracy))\n",
    "        \n",
    "    test_accuracy = sess.run(cnn.accuracy, feed_dict={cnn.x: mnist.test.images, cnn.y: mnist.test.labels})\n",
    "    print('test accuracy %g' % test_accuracy)"
   ]
  },
  {
   "cell_type": "code",
   "execution_count": null,
   "metadata": {},
   "outputs": [],
   "source": []
  }
 ],
 "metadata": {
  "kernelspec": {
   "display_name": "Environment (conda_py3.6)",
   "language": "python",
   "name": "conda_py3.6"
  },
  "language_info": {
   "codemirror_mode": {
    "name": "ipython",
    "version": 3
   },
   "file_extension": ".py",
   "mimetype": "text/x-python",
   "name": "python",
   "nbconvert_exporter": "python",
   "pygments_lexer": "ipython3",
   "version": "3.6.4"
  }
 },
 "nbformat": 4,
 "nbformat_minor": 2
}
