{
 "cells": [
  {
   "cell_type": "code",
   "execution_count": 11,
   "metadata": {},
   "outputs": [],
   "source": [
    "import tensorflow as tf"
   ]
  },
  {
   "cell_type": "code",
   "execution_count": 12,
   "metadata": {},
   "outputs": [],
   "source": [
    "global_step = tf.Variable(0, trainable=False)\n",
    "boundaries = [10, 15]\n",
    "values = [1.0, 0.5, 0.1]\n",
    "learning_rate = tf.train.piecewise_constant(global_step, boundaries, values)"
   ]
  },
  {
   "cell_type": "code",
   "execution_count": 13,
   "metadata": {},
   "outputs": [
    {
     "name": "stdout",
     "output_type": "stream",
     "text": [
      "iter0: learning rate=1.0\n",
      "iter1: learning rate=1.0\n",
      "iter2: learning rate=1.0\n",
      "iter3: learning rate=1.0\n",
      "iter4: learning rate=1.0\n",
      "iter5: learning rate=1.0\n",
      "iter6: learning rate=1.0\n",
      "iter7: learning rate=1.0\n",
      "iter8: learning rate=1.0\n",
      "iter9: learning rate=1.0\n",
      "iter10: learning rate=1.0\n",
      "iter11: learning rate=0.5\n",
      "iter12: learning rate=0.5\n",
      "iter13: learning rate=0.5\n",
      "iter14: learning rate=0.5\n",
      "iter15: learning rate=0.5\n",
      "iter16: learning rate=0.10000000149011612\n",
      "iter17: learning rate=0.10000000149011612\n",
      "iter18: learning rate=0.10000000149011612\n",
      "iter19: learning rate=0.10000000149011612\n"
     ]
    }
   ],
   "source": [
    "with tf.Session () as sess:\n",
    "    for i in range(20):\n",
    "        lr = sess.run(learning_rate, feed_dict={global_step:i})\n",
    "        print(\"iter{}: learning rate={}\".format(i, lr))"
   ]
  },
  {
   "cell_type": "code",
   "execution_count": null,
   "metadata": {},
   "outputs": [],
   "source": []
  }
 ],
 "metadata": {
  "kernelspec": {
   "display_name": "Environment (conda_py3.6)",
   "language": "python",
   "name": "conda_py3.6"
  },
  "language_info": {
   "codemirror_mode": {
    "name": "ipython",
    "version": 3
   },
   "file_extension": ".py",
   "mimetype": "text/x-python",
   "name": "python",
   "nbconvert_exporter": "python",
   "pygments_lexer": "ipython3",
   "version": "3.6.4"
  }
 },
 "nbformat": 4,
 "nbformat_minor": 2
}
