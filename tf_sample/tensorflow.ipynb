{
 "cells": [
  {
   "cell_type": "code",
   "execution_count": 1,
   "metadata": {
    "collapsed": false
   },
   "outputs": [],
   "source": [
    "import tensorflow as tf"
   ]
  },
  {
   "cell_type": "code",
   "execution_count": 2,
   "metadata": {
    "collapsed": false
   },
   "outputs": [
    {
     "name": "stdout",
     "output_type": "stream",
     "text": [
      "Tensor(\"MatMul:0\", shape=(3, 1), dtype=int32)\n"
     ]
    }
   ],
   "source": [
    "w = [[1,2,3],[4,5,6],[7,8,9]]\n",
    "x = [[1],[2],[3]]\n",
    "\n",
    "W = tf.Variable(w, tf.int32)\n",
    "X = tf.Variable(x, tf.int32)\n",
    "\n",
    "\n",
    "y = tf.matmul(W,X)\n",
    "print (y)"
   ]
  },
  {
   "cell_type": "code",
   "execution_count": 3,
   "metadata": {
    "collapsed": false,
    "scrolled": false
   },
   "outputs": [
    {
     "name": "stdout",
     "output_type": "stream",
     "text": [
      "[[14]\n",
      " [32]\n",
      " [50]]\n"
     ]
    }
   ],
   "source": [
    "with tf.Session() as sess:\n",
    "    sess.run(tf.global_variables_initializer())\n",
    "    result = sess.run(y)\n",
    "print (result)"
   ]
  },
  {
   "cell_type": "code",
   "execution_count": 4,
   "metadata": {
    "collapsed": false,
    "scrolled": true
   },
   "outputs": [
    {
     "name": "stdout",
     "output_type": "stream",
     "text": [
      "[[14]\n",
      " [32]\n",
      " [50]],[[0]\n",
      " [0]\n",
      " [0]],[[ 6]\n",
      " [15]\n",
      " [24]]\n"
     ]
    }
   ],
   "source": [
    "w = [[1,2,3],[4,5,6],[7,8,9]]\n",
    "x0 = [[1],[2],[3]]\n",
    "x1 = [[0],[0],[0]]\n",
    "x2 = [[1],[1],[1]]\n",
    "vectors =[x0,x1,x2]\n",
    "\n",
    "W = tf.Variable(w, tf.int32)\n",
    "x_ph = tf.placeholder(tf.int32, [3,1])\n",
    "\n",
    "y2 = tf.matmul(W, x_ph)\n",
    "\n",
    "result_list = []\n",
    "with tf.Session() as sess2:\n",
    "    sess2.run(tf.global_variables_initializer())\n",
    "    for v in vectors:\n",
    "        result_list.append(sess2.run(y2,feed_dict={x_ph: v}))\n",
    "\n",
    "print (\"{},{},{}\".format(*result_list))"
   ]
  },
  {
   "cell_type": "markdown",
   "metadata": {},
   "source": [
    "### 学習内容 ###\n",
    "- ねこ　ー＞　にゃーん\n",
    "- いぬ　ー＞　わんわん\n",
    "- うさぎ　ー＞　・・・。\n",
    "\n",
    "を学習させる。\n"
   ]
  },
  {
   "cell_type": "code",
   "execution_count": 55,
   "metadata": {
    "collapsed": false
   },
   "outputs": [
    {
     "data": {
      "text/plain": [
       "3"
      ]
     },
     "execution_count": 55,
     "metadata": {},
     "output_type": "execute_result"
    }
   ],
   "source": [
    "cat = [[1.],[0.],[0.]]\n",
    "dog = [[0.],[1.],[0.]]\n",
    "rabbit= [[0.],[0.],[1.]]\n",
    "\n",
    "nyan =  [[1.],[0.],[0.]]\n",
    "wan =  [[0.],[1.],[0.]]\n",
    "silent = [[0.],[0.],[1.]]\n",
    "\n",
    "data_set = [(cat,nyan),(dog,wan),(rabbit, silent)]\n",
    "\n",
    "import random\n",
    "random.shuffle(data_set)\n",
    "len(data_set)"
   ]
  },
  {
   "cell_type": "code",
   "execution_count": 56,
   "metadata": {
    "collapsed": false
   },
   "outputs": [
    {
     "name": "stdout",
     "output_type": "stream",
     "text": [
      "0回目の損失関数の値: 0.9604000449180603\n",
      "w= [[ 0.02  0.    0.  ]\n",
      " [ 0.    0.02  0.  ]\n",
      " [ 0.    0.    0.02]]\n",
      " \n",
      "100回目の損失関数の値: 0.0168914757668972\n",
      "w= [[ 0.87003279  0.          0.        ]\n",
      " [ 0.          0.87003279  0.        ]\n",
      " [ 0.          0.          0.87003279]]\n",
      " \n",
      "200回目の損失関数の値: 0.0002970856730826199\n",
      "w= [[ 0.98276383  0.          0.        ]\n",
      " [ 0.          0.98276383  0.        ]\n",
      " [ 0.          0.          0.98276383]]\n",
      " \n",
      "300回目の損失関数の値: 5.224510914558778e-06\n",
      "w= [[ 0.99771428  0.          0.        ]\n",
      " [ 0.          0.99771428  0.        ]\n",
      " [ 0.          0.          0.99771428]]\n",
      " \n",
      "400回目の損失関数の値: 9.18633134006086e-08\n",
      "w= [[ 0.99969691  0.          0.        ]\n",
      " [ 0.          0.99969691  0.        ]\n",
      " [ 0.          0.          0.99969691]]\n",
      " \n",
      "500回目の損失関数の値: 1.6139125591507764e-09\n",
      "w= [[ 0.99995983  0.          0.        ]\n",
      " [ 0.          0.99995983  0.        ]\n",
      " [ 0.          0.          0.99995983]]\n",
      " \n"
     ]
    }
   ],
   "source": [
    "w = [[0.,0.,0.],[0.,0.,0.],[0.,0.,0.]]\n",
    "\n",
    "W = tf.Variable(w, tf.float32)\n",
    "x = tf.placeholder(tf.float32, [3,1])\n",
    "\n",
    "y = tf.matmul(W,x)\n",
    "y_ = tf.placeholder(tf.float32, [3,1])\n",
    "\n",
    "cost = tf.reduce_sum(tf.pow(y - y_ , 2))\n",
    "\n",
    "train_step = tf.train.GradientDescentOptimizer(0.01).minimize(cost)\n",
    "\n",
    "step_num = 600\n",
    "\n",
    "with tf.Session() as sess:\n",
    "    sess.run(tf.global_variables_initializer())\n",
    "    for j in range(step_num):\n",
    "        for i in range(len(data_set)):\n",
    "            sess.run(train_step, feed_dict={x: data_set[i][0], y_: data_set[i][1]})\n",
    "        if j % 100 == 0:\n",
    "            error = sess.run(cost,feed_dict={x: data_set[i][0], y_: data_set[i][1]})\n",
    "            print (\"{}回目の損失関数の値: {}\".format(j,error))\n",
    "            print (\"w=\",sess.run(W))\n",
    "            print (\" \")\n",
    "    w_result = sess.run(W)\n"
   ]
  },
  {
   "cell_type": "code",
   "execution_count": 57,
   "metadata": {
    "collapsed": false
   },
   "outputs": [
    {
     "data": {
      "text/plain": [
       "array([[ 0.99999452],\n",
       "       [ 0.        ],\n",
       "       [ 0.        ]])"
      ]
     },
     "execution_count": 57,
     "metadata": {},
     "output_type": "execute_result"
    }
   ],
   "source": [
    "import numpy as np\n",
    "\n",
    "np.dot(w_result, cat)"
   ]
  },
  {
   "cell_type": "code",
   "execution_count": 58,
   "metadata": {
    "collapsed": false
   },
   "outputs": [
    {
     "data": {
      "text/plain": [
       "array([[ 0.        ],\n",
       "       [ 0.99999452],\n",
       "       [ 0.        ]])"
      ]
     },
     "execution_count": 58,
     "metadata": {},
     "output_type": "execute_result"
    }
   ],
   "source": [
    "np.dot(w_result, dog)"
   ]
  },
  {
   "cell_type": "code",
   "execution_count": 59,
   "metadata": {
    "collapsed": false
   },
   "outputs": [
    {
     "data": {
      "text/plain": [
       "array([[ 0.        ],\n",
       "       [ 0.        ],\n",
       "       [ 0.99999452]])"
      ]
     },
     "execution_count": 59,
     "metadata": {},
     "output_type": "execute_result"
    }
   ],
   "source": [
    "np.dot(w_result, rabbit)"
   ]
  },
  {
   "cell_type": "code",
   "execution_count": 60,
   "metadata": {
    "collapsed": false,
    "scrolled": true
   },
   "outputs": [
    {
     "name": "stdout",
     "output_type": "stream",
     "text": [
      "[[ 0.99999452  0.          0.        ]\n",
      " [ 0.          0.99999452  0.        ]\n",
      " [ 0.          0.          0.99999452]]\n"
     ]
    }
   ],
   "source": [
    "print(w_result)"
   ]
  },
  {
   "cell_type": "markdown",
   "metadata": {},
   "source": [
    "### 学習内容 ###\n",
    "- サイン　ー＞　sin関数の図を出す\n",
    "- コサイン　ー＞　cos関数の図を出す\n",
    "- タンジェント　ー＞　tan関数の図を出す\n",
    "\n",
    "を学習させる。（正確には三角関数に対応する400次元ベクトルを求めさせる。）"
   ]
  },
  {
   "cell_type": "code",
   "execution_count": 14,
   "metadata": {
    "collapsed": false
   },
   "outputs": [
    {
     "data": {
      "image/png": "[encoded data removed]",
      "text/plain": [
       "<matplotlib.figure.Figure at 0x7f775fd327b8>"
      ]
     },
     "metadata": {},
     "output_type": "display_data"
    }
   ],
   "source": [
    "%matplotlib inline\n",
    "import matplotlib.pylab as plt\n",
    "x = np.linspace(-np.pi, np.pi, 400)\n",
    "y = np.sin(x)\n",
    "plt.plot(x, y)\n",
    "plt.show()"
   ]
  },
  {
   "cell_type": "code",
   "execution_count": 15,
   "metadata": {
    "collapsed": true
   },
   "outputs": [],
   "source": [
    "import random\n",
    "import numpy as np\n",
    "x_data = np.linspace(-np.pi, np.pi, 400)\n",
    "\n",
    "sin = [[1.],[0.],[0.]]\n",
    "cos = [[0.],[1.],[0.]]\n",
    "tan = [[0.],[0.],[1.]]\n",
    "\n",
    "\n",
    "sin_r = np.reshape(np.sin(x_data),(400,1))\n",
    "cos_r = np.reshape(np.cos(x_data),(400,1))\n",
    "tan_r = np.reshape(np.tan(x_data),(400,1))\n",
    "\n",
    "data_set = [(sin, sin_r)]*500 +[(cos ,cos_r)]*500 + [(tan, tan_r)]*500\n",
    "random.shuffle(data_set)"
   ]
  },
  {
   "cell_type": "code",
   "execution_count": 17,
   "metadata": {
    "collapsed": false
   },
   "outputs": [
    {
     "name": "stdout",
     "output_type": "stream",
     "text": [
      "0回目のエラー関数の値: 152513.4375\n",
      "100回目のエラー関数の値: 37079.453125\n",
      "200回目のエラー関数の値: 11488.0390625\n",
      "300回目のエラー関数の値: 4.471416473388672\n",
      "400回目のエラー関数の値: 1.1319268941879272\n",
      "500回目のエラー関数の値: 0.15086816251277924\n",
      "600回目のエラー関数の値: 0.08188572525978088\n",
      "700回目のエラー関数の値: 0.024365335702896118\n",
      "800回目のエラー関数の値: 0.0046484628692269325\n",
      "900回目のエラー関数の値: 0.0006717231590300798\n",
      "1000回目のエラー関数の値: 0.21008586883544922\n",
      "1100回目のエラー関数の値: 0.00011761337373172864\n",
      "1200回目のエラー関数の値: 0.012924641370773315\n",
      "1300回目のエラー関数の値: 0.0035466498229652643\n",
      "1400回目のエラー関数の値: 1.3812665429213666e-06\n"
     ]
    }
   ],
   "source": [
    "w = tf.zeros([400,3])\n",
    "W = tf.Variable(w, \"float\")\n",
    "x = tf.placeholder(tf.float32, [3,1])\n",
    "y = tf.matmul(W,x)\n",
    "y_ = tf.placeholder(tf.float32, [400,1])\n",
    "\n",
    "cost = tf.reduce_sum(tf.pow(y - y_, 2))\n",
    "\n",
    "train_step = tf.train.GradientDescentOptimizer(0.01).minimize(cost)\n",
    "\n",
    "\n",
    "with tf.Session() as sess:\n",
    "    sess.run(tf.global_variables_initializer())\n",
    "    for i in range(len(data_set)):\n",
    "        sess.run(train_step, feed_dict={x: data_set[i][0], y_: data_set[i][1]})\n",
    "        if i % 100 == 0:\n",
    "            error = sess.run(cost,feed_dict={x: data_set[i][0], y_: data_set[i][1]})\n",
    "            print (\"{}回目のエラー関数の値: {}\".format(i,error))\n",
    "    w_result = sess.run(W)"
   ]
  },
  {
   "cell_type": "code",
   "execution_count": 18,
   "metadata": {
    "collapsed": false
   },
   "outputs": [
    {
     "data": {
      "image/png": "[encoded data removed]",
      "text/plain": [
       "<matplotlib.figure.Figure at 0x7f77404a4dd8>"
      ]
     },
     "metadata": {},
     "output_type": "display_data"
    }
   ],
   "source": [
    "input =  [[1.0],[.0],[.0]]\n",
    "y_r = np.dot(w_result, input).flatten()\n",
    "plt.plot(x_data, y_r)\n",
    "plt.show()"
   ]
  },
  {
   "cell_type": "code",
   "execution_count": 19,
   "metadata": {
    "collapsed": false,
    "scrolled": false
   },
   "outputs": [
    {
     "data": {
      "image/png": "[encoded data removed]",
      "text/plain": [
       "<matplotlib.figure.Figure at 0x7f77404ab668>"
      ]
     },
     "metadata": {},
     "output_type": "display_data"
    }
   ],
   "source": [
    "plt.plot(x_data, np.sin(x_data))\n",
    "plt.show()"
   ]
  },
  {
   "cell_type": "markdown",
   "metadata": {
    "collapsed": true
   },
   "source": [
    "## 学習内容 ##\n",
    "n = 0,1,2,...100  \n",
    "sin(nx)  \n",
    "cos(nx)  \n",
    "を[-π, π]区間を1000分割した配列　ー＞　三角関数を特定  \n",
    "cos(0) = [1,0,0,0,....,0]  \n",
    "sin(0) = [0,1,0,0,....,0]  \n",
    "cos(x) = [0,0,1,0,....,0]  \n",
    "sin(x) = [0,0,0,1,....,0]  \n",
    ".  \n",
    ".  \n",
    ".  \n",
    "sin(100x) = [0,0,0,0,....,1]  \n"
   ]
  },
  {
   "cell_type": "code",
   "execution_count": 37,
   "metadata": {
    "collapsed": false
   },
   "outputs": [
    {
     "data": {
      "text/plain": [
       "20000"
      ]
     },
     "execution_count": 37,
     "metadata": {},
     "output_type": "execute_result"
    }
   ],
   "source": [
    "import random\n",
    "import numpy as np\n",
    "import tensorflow as tf\n",
    "\n",
    "dim = 1000\n",
    "base_num = 100\n",
    "batch_size = 50\n",
    "x_data = np.linspace(-np.pi, np.pi, dim)\n",
    "\n",
    "bases = []\n",
    "data_set =[]\n",
    "for i in range(base_num):\n",
    "    zero_v = np.zeros(base_num)\n",
    "    zero_v[i] = 1.0\n",
    "    bases.append(zero_v.flatten())\n",
    "    \n",
    "for i in range(0, base_num,2):\n",
    "    sin_r = np.sin(i/2 * x_data).flatten()\n",
    "    cos_r = np.cos(i/2 * x_data).flatten()\n",
    "    data_set += [(cos_r, bases[i], \"cos({}x)\".format(i/2)), (sin_r,bases[i+1],\"sin({}x)\".format(i/2))] \n",
    "data_set = data_set *10000\n",
    "random.shuffle(data_set)\n",
    "\n",
    "def make_batch(data_set, size):\n",
    "    input_list = []\n",
    "    acc_list = []\n",
    "    batch = []\n",
    "    batch_acc = []\n",
    "    for i in range(len(data_set)):\n",
    "        batch.append(data_set[i][0])\n",
    "        batch_acc.append(data_set[i][1])\n",
    "        if len(batch) == size:\n",
    "            input_list.append(batch)\n",
    "            acc_list.append(batch_acc)\n",
    "            batch = []\n",
    "            batch_acc = []\n",
    "    return input_list, acc_list\n",
    "\n",
    "input_list , acc_list = make_batch(data_set, batch_size)\n",
    "len(input_list)"
   ]
  },
  {
   "cell_type": "code",
   "execution_count": 40,
   "metadata": {
    "collapsed": false
   },
   "outputs": [
    {
     "name": "stdout",
     "output_type": "stream",
     "text": [
      "0回目のエラー関数の値: 224.11636352539062\n",
      "1000回目のエラー関数の値: 1.2238821983337402\n",
      "2000回目のエラー関数の値: 0.4309583902359009\n",
      "3000回目のエラー関数の値: 0.04769928380846977\n",
      "4000回目のエラー関数の値: 0.021627571433782578\n",
      "5000回目のエラー関数の値: 0.009902756661176682\n",
      "6000回目のエラー関数の値: 0.004408317618072033\n",
      "7000回目のエラー関数の値: 0.002349671209231019\n",
      "8000回目のエラー関数の値: 0.0011626619379967451\n",
      "9000回目のエラー関数の値: 0.0006625697715207934\n",
      "10000回目のエラー関数の値: 0.0003021964803338051\n",
      "11000回目のエラー関数の値: 0.0001837018644437194\n",
      "12000回目のエラー関数の値: 9.942064207280055e-05\n",
      "13000回目のエラー関数の値: 0.00021041810396127403\n",
      "14000回目のエラー関数の値: 3.206730616511777e-05\n",
      "15000回目のエラー関数の値: 1.573562803969253e-05\n",
      "16000回目のエラー関数の値: 5.936688830843195e-05\n",
      "17000回目のエラー関数の値: 2.014647179748863e-05\n",
      "18000回目のエラー関数の値: 1.1205707778572105e-05\n",
      "19000回目のエラー関数の値: 4.172333774477011e-06\n"
     ]
    }
   ],
   "source": [
    "hidden_num1 = 1000\n",
    "hidden_num2 = base_num\n",
    "\n",
    "y_ = tf.placeholder(tf.float32, [None, base_num])\n",
    "x = tf.placeholder(tf.float32, [None, dim])\n",
    "\n",
    "  \n",
    "weights1 = tf.Variable(tf.truncated_normal([dim, hidden_num1], stddev=0.0001))\n",
    "biases1 = tf.Variable(tf.ones([hidden_num1]))\n",
    "hidden_layer_1 = tf.nn.relu(tf.matmul(x, weights1) + biases1)\n",
    "\n",
    "\n",
    "weights2 = tf.Variable(tf.truncated_normal([hidden_num1, hidden_num2], stddev=0.0001))\n",
    "biases2 = tf.Variable(tf.ones([hidden_num2]))\n",
    "y = tf.nn.softmax(tf.matmul(hidden_layer_1, weights2) + biases2)\n",
    "\n",
    "\n",
    "cost = -tf.reduce_sum(y_ * tf.log(tf.clip_by_value(y,1e-1000, 1.0)))\n",
    "train_step = tf.train.AdamOptimizer(0.0001).minimize(cost)\n",
    "\n",
    "\n",
    "sess = tf.Session()\n",
    "sess.run(tf.global_variables_initializer())\n",
    "for index, (inp,acc) in enumerate(zip(input_list, acc_list)):\n",
    "    feed_dict={x: inp, y_: acc}\n",
    "    sess.run([train_step], feed_dict=feed_dict)\n",
    "    if  index % 1000 == 0:\n",
    "        error = sess.run(cost, feed_dict=feed_dict)\n",
    "        print (\"{}回目のエラー関数の値: {}\".format(index, error))"
   ]
  },
  {
   "cell_type": "code",
   "execution_count": 41,
   "metadata": {
    "collapsed": false
   },
   "outputs": [
    {
     "data": {
      "text/plain": [
       "array([[  5.70725281e-12,   1.69063173e-06,   7.98306406e-01,\n",
       "          5.41417813e-11,   3.03855621e-11,   3.91006338e-10,\n",
       "          2.01691851e-01,   3.44793444e-10,   7.90387200e-12,\n",
       "          2.36099390e-10,   1.16868765e-10,   5.09946703e-11,\n",
       "          2.73611429e-12,   2.14798818e-10,   4.41315994e-12,\n",
       "          1.81851374e-11,   1.21513161e-10,   4.19906193e-11,\n",
       "          1.13552563e-10,   1.30842864e-10,   7.39103310e-12,\n",
       "          1.40810474e-10,   6.68737418e-12,   1.94148225e-10,\n",
       "          9.07876584e-13,   4.59988381e-10,   1.93654381e-11,\n",
       "          1.70624598e-10,   1.07777494e-11,   3.44009765e-10,\n",
       "          2.74809667e-12,   7.34610817e-10,   3.63379118e-11,\n",
       "          5.77751666e-11,   3.73374005e-11,   1.04651440e-10,\n",
       "          3.06756738e-11,   3.68734904e-11,   5.48639259e-12,\n",
       "          5.66396478e-11,   4.12436890e-11,   1.21014948e-10,\n",
       "          1.25168265e-10,   1.33110178e-09,   2.72567229e-11,\n",
       "          2.92621843e-10,   1.60330915e-11,   9.76820180e-10,\n",
       "          7.77301227e-12,   3.65458941e-10,   1.41175668e-10,\n",
       "          7.24053664e-11,   9.47841111e-11,   2.74138143e-11,\n",
       "          9.28841466e-12,   9.21623238e-13,   3.38081624e-12,\n",
       "          1.29749642e-10,   3.81636805e-11,   1.86988147e-10,\n",
       "          7.48863211e-12,   4.29159451e-11,   1.37569922e-09,\n",
       "          2.41902973e-11,   1.94754254e-10,   3.75939613e-10,\n",
       "          1.98085570e-09,   1.14094886e-10,   2.95685559e-11,\n",
       "          8.24003019e-11,   3.05225600e-09,   3.10392989e-10,\n",
       "          9.33698563e-10,   1.54818207e-11,   1.15107635e-09,\n",
       "          2.51663246e-10,   3.80688779e-11,   6.72707376e-11,\n",
       "          4.58165367e-10,   1.74386960e-09,   2.53877978e-11,\n",
       "          1.22854102e-10,   1.32856270e-09,   1.46146362e-09,\n",
       "          4.43656535e-11,   3.37592072e-11,   7.67992336e-11,\n",
       "          2.83712415e-10,   4.06911171e-10,   4.88406780e-11,\n",
       "          1.73543083e-10,   2.07748249e-10,   9.36819459e-12,\n",
       "          3.70156232e-11,   3.41723511e-10,   8.35213843e-11,\n",
       "          3.51888900e-11,   5.33934841e-10,   1.69639400e-10,\n",
       "          3.50527884e-10]], dtype=float32)"
      ]
     },
     "execution_count": 41,
     "metadata": {},
     "output_type": "execute_result"
    }
   ],
   "source": [
    "cos_1_3 = (np.cos(1 * x_data)+np.cos(3*x_data)).flatten()\n",
    "new_x =[cos_1_3] \n",
    "result = sess.run(y,feed_dict={x:new_x})\n",
    "result"
   ]
  },
  {
   "cell_type": "markdown",
   "metadata": {},
   "source": [
    "==学習内容==  \n",
    "リストの最大値の場所を特定する。\n",
    "```\n",
    "[86,57,80,12] -> [1,0,0,0]\n",
    "[8,72,18,23] ->  [0,1,0,0]\n",
    "```"
   ]
  },
  {
   "cell_type": "code",
   "execution_count": 14,
   "metadata": {
    "collapsed": false
   },
   "outputs": [
    {
     "name": "stdout",
     "output_type": "stream",
     "text": [
      "head of data\n",
      "[[92 80 82 51]] [[1, 0, 0, 0]]\n",
      "[[51 32 99 14]] [[0, 0, 1, 0]]\n",
      "[[75 35 30 78]] [[0, 0, 0, 1]]\n",
      "[[74 79 51 64]] [[0, 1, 0, 0]]\n",
      "[[51 52 76 88]] [[0, 0, 0, 1]]\n",
      "[[ 2 59 34 39]] [[0, 1, 0, 0]]\n",
      "==\n",
      "test data num:  100\n",
      "train data num:  900\n"
     ]
    }
   ],
   "source": [
    "import numpy as np\n",
    "input_list = []\n",
    "correct_list = []\n",
    "for _ in range(1000):\n",
    "    d = np.random.randint(0,100,(1,4))\n",
    "    max_idx = np.argmax(d)\n",
    "    a = [0,0,0,0]\n",
    "    a[max_idx] = 1\n",
    "    input_list.append(d)\n",
    "    correct_list.append([a])\n",
    "\n",
    "print(\"head of data\")\n",
    "for i,(inp,corr) in enumerate(zip(input_list,correct_list)):\n",
    "    print(inp,corr)\n",
    "    if(i == 5):\n",
    "        break\n",
    "print(\"==\")\n",
    "\n",
    "test_num = int(len(input_list) * 0.1)\n",
    "\n",
    "test_input_list = input_list[:test_num]\n",
    "test_correct_list = correct_list[:test_num]\n",
    "\n",
    "train_input_list = input_list[test_num:]\n",
    "train_correct_list = correct_list[test_num:]\n",
    "\n",
    "print(\"test data num: \",len(test_input_list))\n",
    "print(\"train data num: \",len(train_input_list))\n"
   ]
  },
  {
   "cell_type": "code",
   "execution_count": 15,
   "metadata": {
    "collapsed": false
   },
   "outputs": [
    {
     "data": {
      "text/plain": [
       "(100, 4)"
      ]
     },
     "execution_count": 15,
     "metadata": {},
     "output_type": "execute_result"
    }
   ],
   "source": [
    "test_input_list = np.reshape(test_input_list,(len(test_input_list),4))\n",
    "test_correct_list = np.reshape(test_correct_list,(len(test_input_list),4))\n",
    "test_input_list.shape"
   ]
  },
  {
   "cell_type": "code",
   "execution_count": 36,
   "metadata": {
    "collapsed": false
   },
   "outputs": [
    {
     "data": {
      "text/plain": [
       "(900, 4)"
      ]
     },
     "execution_count": 36,
     "metadata": {},
     "output_type": "execute_result"
    }
   ],
   "source": [
    "train_input_list = np.reshape(train_input_list,(len(train_input_list),4))\n",
    "train_correct_list = np.reshape(train_correct_list,(len(train_correct_list),4))\n",
    "train_input_list.shape"
   ]
  },
  {
   "cell_type": "code",
   "execution_count": 46,
   "metadata": {
    "collapsed": false
   },
   "outputs": [
    {
     "name": "stdout",
     "output_type": "stream",
     "text": [
      "step -  0\n",
      "損失関数の値:  138.624\n",
      "正解率:  0.31\n",
      "step -  2000\n",
      "損失関数の値:  109.116\n",
      "正解率:  0.42\n",
      "step -  4000\n",
      "損失関数の値:  56.5546\n",
      "正解率:  0.79\n",
      "step -  6000\n",
      "損失関数の値:  34.324\n",
      "正解率:  0.89\n",
      "step -  8000\n",
      "損失関数の値:  28.6233\n",
      "正解率:  0.89\n",
      "step -  10000\n",
      "損失関数の値:  25.9225\n",
      "正解率:  0.87\n",
      "step -  12000\n",
      "損失関数の値:  19.3553\n",
      "正解率:  0.92\n",
      "step -  14000\n",
      "損失関数の値:  16.3968\n",
      "正解率:  0.95\n",
      "step -  16000\n",
      "損失関数の値:  15.6947\n",
      "正解率:  0.95\n",
      "step -  18000\n",
      "損失関数の値:  14.0192\n",
      "正解率:  0.96\n"
     ]
    }
   ],
   "source": [
    "import tensorflow as tf\n",
    "hidden_num1 = 10\n",
    "hidden_num2 = 2\n",
    "input_dim = 4\n",
    "\n",
    "y_ = tf.placeholder(tf.float32, [None, 4])\n",
    "x = tf.placeholder(tf.float32, [None, input_dim])\n",
    "\n",
    "weights1 = tf.Variable(tf.truncated_normal([input_dim, hidden_num1], stddev=0.0001))\n",
    "biases1 = tf.Variable(tf.ones([hidden_num1]))\n",
    "hidden_layer_1 = tf.nn.relu(tf.matmul(x, weights1) + biases1)\n",
    "\n",
    "weights2 = tf.Variable(tf.truncated_normal([hidden_num1, hidden_num2], stddev=0.0001))\n",
    "biases2 = tf.Variable(tf.ones([hidden_num2]))\n",
    "hidden_layer_2 = tf.nn.relu(tf.matmul(hidden_layer_1, weights2) + biases2)\n",
    "\n",
    "weights3 = tf.Variable(tf.truncated_normal([hidden_num2, 4], stddev=0.0001))\n",
    "biases3 = tf.Variable(tf.ones([4]))\n",
    "y = tf.nn.softmax(tf.matmul(hidden_layer_2, weights3) + biases3)\n",
    "\n",
    "\n",
    "cost = -tf.reduce_sum(y_ * tf.log(tf.clip_by_value(y,1e-5, 1.0)))\n",
    "\n",
    "correct_prediction = tf.equal(tf.argmax(y,1), tf.argmax(y_,1))\n",
    "accuracy = tf.reduce_mean(tf.cast(correct_prediction, tf.float32))\n",
    "\n",
    "train_step = tf.train.AdamOptimizer(0.0001).minimize(cost)\n",
    "\n",
    "\n",
    "sess = tf.Session()\n",
    "sess.run(tf.global_variables_initializer())\n",
    "for index in range(20000):\n",
    "    feed_dict={x: train_input_list, y_: train_correct_list}\n",
    "    sess.run(train_step, feed_dict=feed_dict)\n",
    "    if  index % 2000 == 0:\n",
    "        test_feed={x: test_input_list, y_: test_correct_list}\n",
    "        error = sess.run(cost, feed_dict=test_feed)\n",
    "        print(\"step - \",index)\n",
    "        print (\"損失関数の値: \",error)\n",
    "        acc = sess.run(accuracy, feed_dict=test_feed)\n",
    "        print (\"正解率: \",acc)"
   ]
  },
  {
   "cell_type": "code",
   "execution_count": 47,
   "metadata": {
    "collapsed": false
   },
   "outputs": [
    {
     "data": {
      "text/plain": [
       "array([[  9.93223071e-01,   5.27305109e-03,   2.93798054e-22,\n",
       "          1.50394056e-03]], dtype=float32)"
      ]
     },
     "execution_count": 47,
     "metadata": {},
     "output_type": "execute_result"
    }
   ],
   "source": [
    "new_x =  [[86,57,80,12]]   \n",
    "result = sess.run(y,feed_dict={x:new_x})\n",
    "result"
   ]
  },
  {
   "cell_type": "code",
   "execution_count": 49,
   "metadata": {
    "collapsed": false
   },
   "outputs": [
    {
     "data": {
      "text/plain": [
       "array([[  1.29532808e-07,   4.69848979e-03,   9.95301366e-01,\n",
       "          1.02851502e-22]], dtype=float32)"
      ]
     },
     "execution_count": 49,
     "metadata": {},
     "output_type": "execute_result"
    }
   ],
   "source": [
    "new_x =  [[6,7,70,1]]   \n",
    "result = sess.run(y,feed_dict={x:new_x})\n",
    "result"
   ]
  },
  {
   "cell_type": "code",
   "execution_count": 51,
   "metadata": {
    "collapsed": false
   },
   "outputs": [
    {
     "data": {
      "text/plain": [
       "array([[  4.96980715e-29,   8.82812023e-01,   1.17187984e-01,\n",
       "          0.00000000e+00]], dtype=float32)"
      ]
     },
     "execution_count": 51,
     "metadata": {},
     "output_type": "execute_result"
    }
   ],
   "source": [
    "new_x =  [[6,70,70,1]]   \n",
    "result = sess.run(y,feed_dict={x:new_x})\n",
    "result"
   ]
  },
  {
   "cell_type": "code",
   "execution_count": 53,
   "metadata": {
    "collapsed": false
   },
   "outputs": [
    {
     "data": {
      "text/plain": [
       "1"
      ]
     },
     "execution_count": 53,
     "metadata": {},
     "output_type": "execute_result"
    }
   ],
   "source": [
    "np.argmax([6,70,70,1])"
   ]
  },
  {
   "cell_type": "code",
   "execution_count": null,
   "metadata": {
    "collapsed": true
   },
   "outputs": [],
   "source": []
  }
 ],
 "metadata": {
  "anaconda-cloud": {},
  "kernelspec": {
   "display_name": "Python [conda env:py3]",
   "language": "python",
   "name": "conda-env-py3-py"
  },
  "language_info": {
   "codemirror_mode": {
    "name": "ipython",
    "version": 3
   },
   "file_extension": ".py",
   "mimetype": "text/x-python",
   "name": "python",
   "nbconvert_exporter": "python",
   "pygments_lexer": "ipython3",
   "version": "3.5.2"
  }
 },
 "nbformat": 4,
 "nbformat_minor": 1
}
