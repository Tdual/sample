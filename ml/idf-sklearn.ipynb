{
 "cells": [
  {
   "cell_type": "code",
   "execution_count": 6,
   "metadata": {},
   "outputs": [
    {
     "name": "stdout",
     "output_type": "stream",
     "text": [
      "{'hello': 2, 'how': 3, 'are': 1, 'you': 6, 'who': 5, 'am': 0, 'not': 4}\n"
     ]
    },
    {
     "data": {
      "text/plain": [
       "array([1.69314718, 1.28768207, 1.28768207, 1.69314718, 1.69314718,\n",
       "       1.69314718, 1.        ])"
      ]
     },
     "execution_count": 6,
     "metadata": {},
     "output_type": "execute_result"
    }
   ],
   "source": [
    "from sklearn.feature_extraction.text import TfidfVectorizer\n",
    "import numpy as np\n",
    "\n",
    "docs = [\"hello how are you\", \"hello who are you\", \"i am not you\"]\n",
    "\n",
    "tf = TfidfVectorizer(use_idf=True)\n",
    "\n",
    "tf.fit_transform(docs)\n",
    "\n",
    "print(tf.vocabulary_)\n",
    "\n",
    "idf = tf.idf_ \n",
    "idf "
   ]
  },
  {
   "cell_type": "markdown",
   "metadata": {},
   "source": [
    "$$idf = \\log \\left( \\frac{全文書数+1}{単語Xを含む文書数+1} \\right) + 1$$"
   ]
  },
  {
   "cell_type": "code",
   "execution_count": 7,
   "metadata": {},
   "outputs": [
    {
     "data": {
      "text/plain": [
       "3"
      ]
     },
     "execution_count": 7,
     "metadata": {},
     "output_type": "execute_result"
    }
   ],
   "source": [
    "n_docs = len(docs )\n",
    "n_docs "
   ]
  },
  {
   "cell_type": "code",
   "execution_count": 8,
   "metadata": {},
   "outputs": [
    {
     "data": {
      "text/plain": [
       "2"
      ]
     },
     "execution_count": 8,
     "metadata": {},
     "output_type": "execute_result"
    }
   ],
   "source": [
    "df = len([d for d in docs if \"hello\" in d])\n",
    "df"
   ]
  },
  {
   "cell_type": "code",
   "execution_count": 9,
   "metadata": {},
   "outputs": [
    {
     "data": {
      "text/plain": [
       "1.2876820724517808"
      ]
     },
     "execution_count": 9,
     "metadata": {},
     "output_type": "execute_result"
    }
   ],
   "source": [
    "np.log((n_docs+1)/(df+1))  + 1"
   ]
  },
  {
   "cell_type": "code",
   "execution_count": 12,
   "metadata": {},
   "outputs": [
    {
     "name": "stdout",
     "output_type": "stream",
     "text": [
      "hello :  1.2876820724517808\n",
      "how :  1.6931471805599454\n",
      "are :  1.2876820724517808\n",
      "you :  1.0\n",
      "who :  1.6931471805599454\n",
      "am :  1.6931471805599454\n",
      "not :  1.6931471805599454\n"
     ]
    }
   ],
   "source": [
    "for k, v in tf.vocabulary_.items():\n",
    "    print(k,\": \",idf[v])"
   ]
  },
  {
   "cell_type": "code",
   "execution_count": 14,
   "metadata": {},
   "outputs": [
    {
     "name": "stdout",
     "output_type": "stream",
     "text": [
      "hello :  1.2876820724517808\n",
      "how :  1.6931471805599454\n",
      "are :  1.2876820724517808\n",
      "you :  1.0\n",
      "who :  1.6931471805599454\n",
      "am :  1.6931471805599454\n",
      "not :  1.6931471805599454\n"
     ]
    }
   ],
   "source": [
    "for k in tf.vocabulary_.keys():\n",
    "    df = len([d for d in docs if k in d]) \n",
    "    _idf = np.log((n_docs+1)/(df+1))  + 1\n",
    "    print(k,\": \",_idf)"
   ]
  },
  {
   "cell_type": "code",
   "execution_count": null,
   "metadata": {},
   "outputs": [],
   "source": []
  }
 ],
 "metadata": {
  "kernelspec": {
   "display_name": "Environment (conda_py3.6)",
   "language": "python",
   "name": "conda_py3.6"
  },
  "language_info": {
   "codemirror_mode": {
    "name": "ipython",
    "version": 3
   },
   "file_extension": ".py",
   "mimetype": "text/x-python",
   "name": "python",
   "nbconvert_exporter": "python",
   "pygments_lexer": "ipython3",
   "version": "3.6.4"
  }
 },
 "nbformat": 4,
 "nbformat_minor": 2
}
