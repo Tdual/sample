{
 "cells": [
  {
   "cell_type": "markdown",
   "metadata": {},
   "source": [
    "$$ X = Binomial(k,p) $$\n",
    "\n",
    "$$ {\\rm var} \\left( \\frac{1}{n} \\sum_{i=1}^{n} X_{i} \\right) = \\frac{1}{n^2} \\sum_{i=1}^{n} {\\rm var}( X_{i} ) = \\frac{ n {\\rm var}(X_{i}) }{ n^2 } = \\frac{ {\\rm var}(X_{i})}{n} = \\frac{ k p(1-p) }{n} $$"
   ]
  },
  {
   "cell_type": "code",
   "execution_count": null,
   "metadata": {},
   "outputs": [],
   "source": []
  }
 ],
 "metadata": {
  "kernelspec": {
   "display_name": "Environment (conda_py3.6)",
   "language": "python",
   "name": "conda_py3.6"
  },
  "language_info": {
   "codemirror_mode": {
    "name": "ipython",
    "version": 3
   },
   "file_extension": ".py",
   "mimetype": "text/x-python",
   "name": "python",
   "nbconvert_exporter": "python",
   "pygments_lexer": "ipython3",
   "version": "3.6.7"
  }
 },
 "nbformat": 4,
 "nbformat_minor": 2
}
